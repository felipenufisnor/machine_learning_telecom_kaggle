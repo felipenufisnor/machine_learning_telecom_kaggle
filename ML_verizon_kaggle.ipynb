{
  "nbformat": 4,
  "nbformat_minor": 0,
  "metadata": {
    "colab": {
      "provenance": []
    },
    "kernelspec": {
      "name": "python3",
      "display_name": "Python 3"
    },
    "language_info": {
      "name": "python"
    }
  },
  "cells": [
    {
      "cell_type": "markdown",
      "source": [
        "## Verizon Customer Evasion Rate\n"
      ],
      "metadata": {
        "id": "2sjsjWJ8JIsQ"
      }
    },
    {
      "cell_type": "code",
      "execution_count": 1,
      "metadata": {
        "id": "pcB__Zda7cqI"
      },
      "outputs": [],
      "source": [
        "import pandas as pd"
      ]
    },
    {
      "cell_type": "code",
      "source": [
        "dados = pd.read_csv('/content/Customer-Churn.csv') \n",
        "dados.shape\n",
        "dados.head()"
      ],
      "metadata": {
        "colab": {
          "base_uri": "https://localhost:8080/",
          "height": 270
        },
        "id": "jNn1Lhd87nrU",
        "outputId": "64e7f2c9-a9d3-4ad9-bd78-ce6f6d3cac8d"
      },
      "execution_count": 2,
      "outputs": [
        {
          "output_type": "execute_result",
          "data": {
            "text/plain": [
              "   Maior65Anos Conjuge Dependentes  MesesDeContrato TelefoneFixo  \\\n",
              "0            0     Sim         Nao                1          Nao   \n",
              "1            0     Nao         Nao               34          Sim   \n",
              "2            0     Nao         Nao                2          Sim   \n",
              "3            0     Nao         Nao               45          Nao   \n",
              "4            0     Nao         Nao                2          Sim   \n",
              "\n",
              "  VariasLinhasTelefonicas ServicoDeInternet SegurancaOnline BackupOnline  \\\n",
              "0    SemServicoTelefonico               DSL             Nao          Sim   \n",
              "1                     Nao               DSL             Sim          Nao   \n",
              "2                     Nao               DSL             Sim          Sim   \n",
              "3    SemServicoTelefonico               DSL             Sim          Nao   \n",
              "4                     Nao       FibraOptica             Nao          Nao   \n",
              "\n",
              "  SeguroNoDispositivo SuporteTecnico TVaCabo StreamingDeFilmes TipoDeContrato  \\\n",
              "0                 Nao            Nao     Nao               Nao    Mensalmente   \n",
              "1                 Sim            Nao     Nao               Nao          UmAno   \n",
              "2                 Nao            Nao     Nao               Nao    Mensalmente   \n",
              "3                 Sim            Sim     Nao               Nao          UmAno   \n",
              "4                 Nao            Nao     Nao               Nao    Mensalmente   \n",
              "\n",
              "  PagamentoOnline FormaDePagamento  ContaMensal Churn  \n",
              "0             Sim    ChequeDigital        29.85   Nao  \n",
              "1             Nao      ChequePapel        56.95   Nao  \n",
              "2             Sim      ChequePapel        53.85   Sim  \n",
              "3             Nao    DebitoEmConta        42.30   Nao  \n",
              "4             Sim    ChequeDigital        70.70   Sim  "
            ],
            "text/html": [
              "\n",
              "  <div id=\"df-4d2ad00a-ef74-44a2-af47-edb1ad038bbd\">\n",
              "    <div class=\"colab-df-container\">\n",
              "      <div>\n",
              "<style scoped>\n",
              "    .dataframe tbody tr th:only-of-type {\n",
              "        vertical-align: middle;\n",
              "    }\n",
              "\n",
              "    .dataframe tbody tr th {\n",
              "        vertical-align: top;\n",
              "    }\n",
              "\n",
              "    .dataframe thead th {\n",
              "        text-align: right;\n",
              "    }\n",
              "</style>\n",
              "<table border=\"1\" class=\"dataframe\">\n",
              "  <thead>\n",
              "    <tr style=\"text-align: right;\">\n",
              "      <th></th>\n",
              "      <th>Maior65Anos</th>\n",
              "      <th>Conjuge</th>\n",
              "      <th>Dependentes</th>\n",
              "      <th>MesesDeContrato</th>\n",
              "      <th>TelefoneFixo</th>\n",
              "      <th>VariasLinhasTelefonicas</th>\n",
              "      <th>ServicoDeInternet</th>\n",
              "      <th>SegurancaOnline</th>\n",
              "      <th>BackupOnline</th>\n",
              "      <th>SeguroNoDispositivo</th>\n",
              "      <th>SuporteTecnico</th>\n",
              "      <th>TVaCabo</th>\n",
              "      <th>StreamingDeFilmes</th>\n",
              "      <th>TipoDeContrato</th>\n",
              "      <th>PagamentoOnline</th>\n",
              "      <th>FormaDePagamento</th>\n",
              "      <th>ContaMensal</th>\n",
              "      <th>Churn</th>\n",
              "    </tr>\n",
              "  </thead>\n",
              "  <tbody>\n",
              "    <tr>\n",
              "      <th>0</th>\n",
              "      <td>0</td>\n",
              "      <td>Sim</td>\n",
              "      <td>Nao</td>\n",
              "      <td>1</td>\n",
              "      <td>Nao</td>\n",
              "      <td>SemServicoTelefonico</td>\n",
              "      <td>DSL</td>\n",
              "      <td>Nao</td>\n",
              "      <td>Sim</td>\n",
              "      <td>Nao</td>\n",
              "      <td>Nao</td>\n",
              "      <td>Nao</td>\n",
              "      <td>Nao</td>\n",
              "      <td>Mensalmente</td>\n",
              "      <td>Sim</td>\n",
              "      <td>ChequeDigital</td>\n",
              "      <td>29.85</td>\n",
              "      <td>Nao</td>\n",
              "    </tr>\n",
              "    <tr>\n",
              "      <th>1</th>\n",
              "      <td>0</td>\n",
              "      <td>Nao</td>\n",
              "      <td>Nao</td>\n",
              "      <td>34</td>\n",
              "      <td>Sim</td>\n",
              "      <td>Nao</td>\n",
              "      <td>DSL</td>\n",
              "      <td>Sim</td>\n",
              "      <td>Nao</td>\n",
              "      <td>Sim</td>\n",
              "      <td>Nao</td>\n",
              "      <td>Nao</td>\n",
              "      <td>Nao</td>\n",
              "      <td>UmAno</td>\n",
              "      <td>Nao</td>\n",
              "      <td>ChequePapel</td>\n",
              "      <td>56.95</td>\n",
              "      <td>Nao</td>\n",
              "    </tr>\n",
              "    <tr>\n",
              "      <th>2</th>\n",
              "      <td>0</td>\n",
              "      <td>Nao</td>\n",
              "      <td>Nao</td>\n",
              "      <td>2</td>\n",
              "      <td>Sim</td>\n",
              "      <td>Nao</td>\n",
              "      <td>DSL</td>\n",
              "      <td>Sim</td>\n",
              "      <td>Sim</td>\n",
              "      <td>Nao</td>\n",
              "      <td>Nao</td>\n",
              "      <td>Nao</td>\n",
              "      <td>Nao</td>\n",
              "      <td>Mensalmente</td>\n",
              "      <td>Sim</td>\n",
              "      <td>ChequePapel</td>\n",
              "      <td>53.85</td>\n",
              "      <td>Sim</td>\n",
              "    </tr>\n",
              "    <tr>\n",
              "      <th>3</th>\n",
              "      <td>0</td>\n",
              "      <td>Nao</td>\n",
              "      <td>Nao</td>\n",
              "      <td>45</td>\n",
              "      <td>Nao</td>\n",
              "      <td>SemServicoTelefonico</td>\n",
              "      <td>DSL</td>\n",
              "      <td>Sim</td>\n",
              "      <td>Nao</td>\n",
              "      <td>Sim</td>\n",
              "      <td>Sim</td>\n",
              "      <td>Nao</td>\n",
              "      <td>Nao</td>\n",
              "      <td>UmAno</td>\n",
              "      <td>Nao</td>\n",
              "      <td>DebitoEmConta</td>\n",
              "      <td>42.30</td>\n",
              "      <td>Nao</td>\n",
              "    </tr>\n",
              "    <tr>\n",
              "      <th>4</th>\n",
              "      <td>0</td>\n",
              "      <td>Nao</td>\n",
              "      <td>Nao</td>\n",
              "      <td>2</td>\n",
              "      <td>Sim</td>\n",
              "      <td>Nao</td>\n",
              "      <td>FibraOptica</td>\n",
              "      <td>Nao</td>\n",
              "      <td>Nao</td>\n",
              "      <td>Nao</td>\n",
              "      <td>Nao</td>\n",
              "      <td>Nao</td>\n",
              "      <td>Nao</td>\n",
              "      <td>Mensalmente</td>\n",
              "      <td>Sim</td>\n",
              "      <td>ChequeDigital</td>\n",
              "      <td>70.70</td>\n",
              "      <td>Sim</td>\n",
              "    </tr>\n",
              "  </tbody>\n",
              "</table>\n",
              "</div>\n",
              "      <button class=\"colab-df-convert\" onclick=\"convertToInteractive('df-4d2ad00a-ef74-44a2-af47-edb1ad038bbd')\"\n",
              "              title=\"Convert this dataframe to an interactive table.\"\n",
              "              style=\"display:none;\">\n",
              "        \n",
              "  <svg xmlns=\"http://www.w3.org/2000/svg\" height=\"24px\"viewBox=\"0 0 24 24\"\n",
              "       width=\"24px\">\n",
              "    <path d=\"M0 0h24v24H0V0z\" fill=\"none\"/>\n",
              "    <path d=\"M18.56 5.44l.94 2.06.94-2.06 2.06-.94-2.06-.94-.94-2.06-.94 2.06-2.06.94zm-11 1L8.5 8.5l.94-2.06 2.06-.94-2.06-.94L8.5 2.5l-.94 2.06-2.06.94zm10 10l.94 2.06.94-2.06 2.06-.94-2.06-.94-.94-2.06-.94 2.06-2.06.94z\"/><path d=\"M17.41 7.96l-1.37-1.37c-.4-.4-.92-.59-1.43-.59-.52 0-1.04.2-1.43.59L10.3 9.45l-7.72 7.72c-.78.78-.78 2.05 0 2.83L4 21.41c.39.39.9.59 1.41.59.51 0 1.02-.2 1.41-.59l7.78-7.78 2.81-2.81c.8-.78.8-2.07 0-2.86zM5.41 20L4 18.59l7.72-7.72 1.47 1.35L5.41 20z\"/>\n",
              "  </svg>\n",
              "      </button>\n",
              "      \n",
              "  <style>\n",
              "    .colab-df-container {\n",
              "      display:flex;\n",
              "      flex-wrap:wrap;\n",
              "      gap: 12px;\n",
              "    }\n",
              "\n",
              "    .colab-df-convert {\n",
              "      background-color: #E8F0FE;\n",
              "      border: none;\n",
              "      border-radius: 50%;\n",
              "      cursor: pointer;\n",
              "      display: none;\n",
              "      fill: #1967D2;\n",
              "      height: 32px;\n",
              "      padding: 0 0 0 0;\n",
              "      width: 32px;\n",
              "    }\n",
              "\n",
              "    .colab-df-convert:hover {\n",
              "      background-color: #E2EBFA;\n",
              "      box-shadow: 0px 1px 2px rgba(60, 64, 67, 0.3), 0px 1px 3px 1px rgba(60, 64, 67, 0.15);\n",
              "      fill: #174EA6;\n",
              "    }\n",
              "\n",
              "    [theme=dark] .colab-df-convert {\n",
              "      background-color: #3B4455;\n",
              "      fill: #D2E3FC;\n",
              "    }\n",
              "\n",
              "    [theme=dark] .colab-df-convert:hover {\n",
              "      background-color: #434B5C;\n",
              "      box-shadow: 0px 1px 3px 1px rgba(0, 0, 0, 0.15);\n",
              "      filter: drop-shadow(0px 1px 2px rgba(0, 0, 0, 0.3));\n",
              "      fill: #FFFFFF;\n",
              "    }\n",
              "  </style>\n",
              "\n",
              "      <script>\n",
              "        const buttonEl =\n",
              "          document.querySelector('#df-4d2ad00a-ef74-44a2-af47-edb1ad038bbd button.colab-df-convert');\n",
              "        buttonEl.style.display =\n",
              "          google.colab.kernel.accessAllowed ? 'block' : 'none';\n",
              "\n",
              "        async function convertToInteractive(key) {\n",
              "          const element = document.querySelector('#df-4d2ad00a-ef74-44a2-af47-edb1ad038bbd');\n",
              "          const dataTable =\n",
              "            await google.colab.kernel.invokeFunction('convertToInteractive',\n",
              "                                                     [key], {});\n",
              "          if (!dataTable) return;\n",
              "\n",
              "          const docLinkHtml = 'Like what you see? Visit the ' +\n",
              "            '<a target=\"_blank\" href=https://colab.research.google.com/notebooks/data_table.ipynb>data table notebook</a>'\n",
              "            + ' to learn more about interactive tables.';\n",
              "          element.innerHTML = '';\n",
              "          dataTable['output_type'] = 'display_data';\n",
              "          await google.colab.output.renderOutput(dataTable, element);\n",
              "          const docLink = document.createElement('div');\n",
              "          docLink.innerHTML = docLinkHtml;\n",
              "          element.appendChild(docLink);\n",
              "        }\n",
              "      </script>\n",
              "    </div>\n",
              "  </div>\n",
              "  "
            ]
          },
          "metadata": {},
          "execution_count": 2
        }
      ]
    },
    {
      "cell_type": "code",
      "source": [
        "# modificação de forma manual\n",
        "\n",
        "traducao_dic = {'Sim': 1,\n",
        "                'Nao': 0}\n",
        "\n",
        "dadosmodificados = dados [['Conjuge', 'Dependentes', 'TelefoneFixo', 'PagamentoOnline', 'Churn']].replace(traducao_dic)\n",
        "dadosmodificados.head()"
      ],
      "metadata": {
        "colab": {
          "base_uri": "https://localhost:8080/",
          "height": 206
        },
        "id": "nPrStex573Yv",
        "outputId": "65b5a8ac-b0a8-42c0-e817-2e8524dfa82c"
      },
      "execution_count": 3,
      "outputs": [
        {
          "output_type": "execute_result",
          "data": {
            "text/plain": [
              "   Conjuge  Dependentes  TelefoneFixo  PagamentoOnline  Churn\n",
              "0        1            0             0                1      0\n",
              "1        0            0             1                0      0\n",
              "2        0            0             1                1      1\n",
              "3        0            0             0                0      0\n",
              "4        0            0             1                1      1"
            ],
            "text/html": [
              "\n",
              "  <div id=\"df-07d4855f-6ff0-4c72-b3d1-0f337f8fbe17\">\n",
              "    <div class=\"colab-df-container\">\n",
              "      <div>\n",
              "<style scoped>\n",
              "    .dataframe tbody tr th:only-of-type {\n",
              "        vertical-align: middle;\n",
              "    }\n",
              "\n",
              "    .dataframe tbody tr th {\n",
              "        vertical-align: top;\n",
              "    }\n",
              "\n",
              "    .dataframe thead th {\n",
              "        text-align: right;\n",
              "    }\n",
              "</style>\n",
              "<table border=\"1\" class=\"dataframe\">\n",
              "  <thead>\n",
              "    <tr style=\"text-align: right;\">\n",
              "      <th></th>\n",
              "      <th>Conjuge</th>\n",
              "      <th>Dependentes</th>\n",
              "      <th>TelefoneFixo</th>\n",
              "      <th>PagamentoOnline</th>\n",
              "      <th>Churn</th>\n",
              "    </tr>\n",
              "  </thead>\n",
              "  <tbody>\n",
              "    <tr>\n",
              "      <th>0</th>\n",
              "      <td>1</td>\n",
              "      <td>0</td>\n",
              "      <td>0</td>\n",
              "      <td>1</td>\n",
              "      <td>0</td>\n",
              "    </tr>\n",
              "    <tr>\n",
              "      <th>1</th>\n",
              "      <td>0</td>\n",
              "      <td>0</td>\n",
              "      <td>1</td>\n",
              "      <td>0</td>\n",
              "      <td>0</td>\n",
              "    </tr>\n",
              "    <tr>\n",
              "      <th>2</th>\n",
              "      <td>0</td>\n",
              "      <td>0</td>\n",
              "      <td>1</td>\n",
              "      <td>1</td>\n",
              "      <td>1</td>\n",
              "    </tr>\n",
              "    <tr>\n",
              "      <th>3</th>\n",
              "      <td>0</td>\n",
              "      <td>0</td>\n",
              "      <td>0</td>\n",
              "      <td>0</td>\n",
              "      <td>0</td>\n",
              "    </tr>\n",
              "    <tr>\n",
              "      <th>4</th>\n",
              "      <td>0</td>\n",
              "      <td>0</td>\n",
              "      <td>1</td>\n",
              "      <td>1</td>\n",
              "      <td>1</td>\n",
              "    </tr>\n",
              "  </tbody>\n",
              "</table>\n",
              "</div>\n",
              "      <button class=\"colab-df-convert\" onclick=\"convertToInteractive('df-07d4855f-6ff0-4c72-b3d1-0f337f8fbe17')\"\n",
              "              title=\"Convert this dataframe to an interactive table.\"\n",
              "              style=\"display:none;\">\n",
              "        \n",
              "  <svg xmlns=\"http://www.w3.org/2000/svg\" height=\"24px\"viewBox=\"0 0 24 24\"\n",
              "       width=\"24px\">\n",
              "    <path d=\"M0 0h24v24H0V0z\" fill=\"none\"/>\n",
              "    <path d=\"M18.56 5.44l.94 2.06.94-2.06 2.06-.94-2.06-.94-.94-2.06-.94 2.06-2.06.94zm-11 1L8.5 8.5l.94-2.06 2.06-.94-2.06-.94L8.5 2.5l-.94 2.06-2.06.94zm10 10l.94 2.06.94-2.06 2.06-.94-2.06-.94-.94-2.06-.94 2.06-2.06.94z\"/><path d=\"M17.41 7.96l-1.37-1.37c-.4-.4-.92-.59-1.43-.59-.52 0-1.04.2-1.43.59L10.3 9.45l-7.72 7.72c-.78.78-.78 2.05 0 2.83L4 21.41c.39.39.9.59 1.41.59.51 0 1.02-.2 1.41-.59l7.78-7.78 2.81-2.81c.8-.78.8-2.07 0-2.86zM5.41 20L4 18.59l7.72-7.72 1.47 1.35L5.41 20z\"/>\n",
              "  </svg>\n",
              "      </button>\n",
              "      \n",
              "  <style>\n",
              "    .colab-df-container {\n",
              "      display:flex;\n",
              "      flex-wrap:wrap;\n",
              "      gap: 12px;\n",
              "    }\n",
              "\n",
              "    .colab-df-convert {\n",
              "      background-color: #E8F0FE;\n",
              "      border: none;\n",
              "      border-radius: 50%;\n",
              "      cursor: pointer;\n",
              "      display: none;\n",
              "      fill: #1967D2;\n",
              "      height: 32px;\n",
              "      padding: 0 0 0 0;\n",
              "      width: 32px;\n",
              "    }\n",
              "\n",
              "    .colab-df-convert:hover {\n",
              "      background-color: #E2EBFA;\n",
              "      box-shadow: 0px 1px 2px rgba(60, 64, 67, 0.3), 0px 1px 3px 1px rgba(60, 64, 67, 0.15);\n",
              "      fill: #174EA6;\n",
              "    }\n",
              "\n",
              "    [theme=dark] .colab-df-convert {\n",
              "      background-color: #3B4455;\n",
              "      fill: #D2E3FC;\n",
              "    }\n",
              "\n",
              "    [theme=dark] .colab-df-convert:hover {\n",
              "      background-color: #434B5C;\n",
              "      box-shadow: 0px 1px 3px 1px rgba(0, 0, 0, 0.15);\n",
              "      filter: drop-shadow(0px 1px 2px rgba(0, 0, 0, 0.3));\n",
              "      fill: #FFFFFF;\n",
              "    }\n",
              "  </style>\n",
              "\n",
              "      <script>\n",
              "        const buttonEl =\n",
              "          document.querySelector('#df-07d4855f-6ff0-4c72-b3d1-0f337f8fbe17 button.colab-df-convert');\n",
              "        buttonEl.style.display =\n",
              "          google.colab.kernel.accessAllowed ? 'block' : 'none';\n",
              "\n",
              "        async function convertToInteractive(key) {\n",
              "          const element = document.querySelector('#df-07d4855f-6ff0-4c72-b3d1-0f337f8fbe17');\n",
              "          const dataTable =\n",
              "            await google.colab.kernel.invokeFunction('convertToInteractive',\n",
              "                                                     [key], {});\n",
              "          if (!dataTable) return;\n",
              "\n",
              "          const docLinkHtml = 'Like what you see? Visit the ' +\n",
              "            '<a target=\"_blank\" href=https://colab.research.google.com/notebooks/data_table.ipynb>data table notebook</a>'\n",
              "            + ' to learn more about interactive tables.';\n",
              "          element.innerHTML = '';\n",
              "          dataTable['output_type'] = 'display_data';\n",
              "          await google.colab.output.renderOutput(dataTable, element);\n",
              "          const docLink = document.createElement('div');\n",
              "          docLink.innerHTML = docLinkHtml;\n",
              "          element.appendChild(docLink);\n",
              "        }\n",
              "      </script>\n",
              "    </div>\n",
              "  </div>\n",
              "  "
            ]
          },
          "metadata": {},
          "execution_count": 3
        }
      ]
    },
    {
      "cell_type": "code",
      "source": [
        "# transformação pelo get_dummies\n",
        "\n",
        "dummie_dados = pd.get_dummies(dados.drop(['Conjuge', 'Dependentes', 'TelefoneFixo', 'PagamentoOnline', 'Churn'], axis=1))\n",
        "\n",
        "# junção dos dados transformados com os que já tinhamos\n",
        "\n",
        "dados_final = pd.concat([dadosmodificados, dummie_dados], axis=1)"
      ],
      "metadata": {
        "id": "xVKzC1Fz_U5h"
      },
      "execution_count": 4,
      "outputs": []
    },
    {
      "cell_type": "code",
      "source": [
        "dados_final.head()"
      ],
      "metadata": {
        "colab": {
          "base_uri": "https://localhost:8080/",
          "height": 299
        },
        "id": "XhxYcj_FBei8",
        "outputId": "b1781c5b-83df-4bfa-ca76-f9c75bc9387d"
      },
      "execution_count": 5,
      "outputs": [
        {
          "output_type": "execute_result",
          "data": {
            "text/plain": [
              "   Conjuge  Dependentes  TelefoneFixo  PagamentoOnline  Churn  Maior65Anos  \\\n",
              "0        1            0             0                1      0            0   \n",
              "1        0            0             1                0      0            0   \n",
              "2        0            0             1                1      1            0   \n",
              "3        0            0             0                0      0            0   \n",
              "4        0            0             1                1      1            0   \n",
              "\n",
              "   MesesDeContrato  ContaMensal  VariasLinhasTelefonicas_Nao  \\\n",
              "0                1        29.85                            0   \n",
              "1               34        56.95                            1   \n",
              "2                2        53.85                            1   \n",
              "3               45        42.30                            0   \n",
              "4                2        70.70                            1   \n",
              "\n",
              "   VariasLinhasTelefonicas_SemServicoTelefonico  ...  StreamingDeFilmes_Nao  \\\n",
              "0                                             1  ...                      1   \n",
              "1                                             0  ...                      1   \n",
              "2                                             0  ...                      1   \n",
              "3                                             1  ...                      1   \n",
              "4                                             0  ...                      1   \n",
              "\n",
              "   StreamingDeFilmes_SemServicoDeInternet  StreamingDeFilmes_Sim  \\\n",
              "0                                       0                      0   \n",
              "1                                       0                      0   \n",
              "2                                       0                      0   \n",
              "3                                       0                      0   \n",
              "4                                       0                      0   \n",
              "\n",
              "   TipoDeContrato_DoisAnos  TipoDeContrato_Mensalmente  TipoDeContrato_UmAno  \\\n",
              "0                        0                           1                     0   \n",
              "1                        0                           0                     1   \n",
              "2                        0                           1                     0   \n",
              "3                        0                           0                     1   \n",
              "4                        0                           1                     0   \n",
              "\n",
              "   FormaDePagamento_CartaoDeCredito  FormaDePagamento_ChequeDigital  \\\n",
              "0                                 0                               1   \n",
              "1                                 0                               0   \n",
              "2                                 0                               0   \n",
              "3                                 0                               0   \n",
              "4                                 0                               1   \n",
              "\n",
              "   FormaDePagamento_ChequePapel  FormaDePagamento_DebitoEmConta  \n",
              "0                             0                               0  \n",
              "1                             1                               0  \n",
              "2                             1                               0  \n",
              "3                             0                               1  \n",
              "4                             0                               0  \n",
              "\n",
              "[5 rows x 39 columns]"
            ],
            "text/html": [
              "\n",
              "  <div id=\"df-74306539-b399-40c7-9e42-91d5c8be43b4\">\n",
              "    <div class=\"colab-df-container\">\n",
              "      <div>\n",
              "<style scoped>\n",
              "    .dataframe tbody tr th:only-of-type {\n",
              "        vertical-align: middle;\n",
              "    }\n",
              "\n",
              "    .dataframe tbody tr th {\n",
              "        vertical-align: top;\n",
              "    }\n",
              "\n",
              "    .dataframe thead th {\n",
              "        text-align: right;\n",
              "    }\n",
              "</style>\n",
              "<table border=\"1\" class=\"dataframe\">\n",
              "  <thead>\n",
              "    <tr style=\"text-align: right;\">\n",
              "      <th></th>\n",
              "      <th>Conjuge</th>\n",
              "      <th>Dependentes</th>\n",
              "      <th>TelefoneFixo</th>\n",
              "      <th>PagamentoOnline</th>\n",
              "      <th>Churn</th>\n",
              "      <th>Maior65Anos</th>\n",
              "      <th>MesesDeContrato</th>\n",
              "      <th>ContaMensal</th>\n",
              "      <th>VariasLinhasTelefonicas_Nao</th>\n",
              "      <th>VariasLinhasTelefonicas_SemServicoTelefonico</th>\n",
              "      <th>...</th>\n",
              "      <th>StreamingDeFilmes_Nao</th>\n",
              "      <th>StreamingDeFilmes_SemServicoDeInternet</th>\n",
              "      <th>StreamingDeFilmes_Sim</th>\n",
              "      <th>TipoDeContrato_DoisAnos</th>\n",
              "      <th>TipoDeContrato_Mensalmente</th>\n",
              "      <th>TipoDeContrato_UmAno</th>\n",
              "      <th>FormaDePagamento_CartaoDeCredito</th>\n",
              "      <th>FormaDePagamento_ChequeDigital</th>\n",
              "      <th>FormaDePagamento_ChequePapel</th>\n",
              "      <th>FormaDePagamento_DebitoEmConta</th>\n",
              "    </tr>\n",
              "  </thead>\n",
              "  <tbody>\n",
              "    <tr>\n",
              "      <th>0</th>\n",
              "      <td>1</td>\n",
              "      <td>0</td>\n",
              "      <td>0</td>\n",
              "      <td>1</td>\n",
              "      <td>0</td>\n",
              "      <td>0</td>\n",
              "      <td>1</td>\n",
              "      <td>29.85</td>\n",
              "      <td>0</td>\n",
              "      <td>1</td>\n",
              "      <td>...</td>\n",
              "      <td>1</td>\n",
              "      <td>0</td>\n",
              "      <td>0</td>\n",
              "      <td>0</td>\n",
              "      <td>1</td>\n",
              "      <td>0</td>\n",
              "      <td>0</td>\n",
              "      <td>1</td>\n",
              "      <td>0</td>\n",
              "      <td>0</td>\n",
              "    </tr>\n",
              "    <tr>\n",
              "      <th>1</th>\n",
              "      <td>0</td>\n",
              "      <td>0</td>\n",
              "      <td>1</td>\n",
              "      <td>0</td>\n",
              "      <td>0</td>\n",
              "      <td>0</td>\n",
              "      <td>34</td>\n",
              "      <td>56.95</td>\n",
              "      <td>1</td>\n",
              "      <td>0</td>\n",
              "      <td>...</td>\n",
              "      <td>1</td>\n",
              "      <td>0</td>\n",
              "      <td>0</td>\n",
              "      <td>0</td>\n",
              "      <td>0</td>\n",
              "      <td>1</td>\n",
              "      <td>0</td>\n",
              "      <td>0</td>\n",
              "      <td>1</td>\n",
              "      <td>0</td>\n",
              "    </tr>\n",
              "    <tr>\n",
              "      <th>2</th>\n",
              "      <td>0</td>\n",
              "      <td>0</td>\n",
              "      <td>1</td>\n",
              "      <td>1</td>\n",
              "      <td>1</td>\n",
              "      <td>0</td>\n",
              "      <td>2</td>\n",
              "      <td>53.85</td>\n",
              "      <td>1</td>\n",
              "      <td>0</td>\n",
              "      <td>...</td>\n",
              "      <td>1</td>\n",
              "      <td>0</td>\n",
              "      <td>0</td>\n",
              "      <td>0</td>\n",
              "      <td>1</td>\n",
              "      <td>0</td>\n",
              "      <td>0</td>\n",
              "      <td>0</td>\n",
              "      <td>1</td>\n",
              "      <td>0</td>\n",
              "    </tr>\n",
              "    <tr>\n",
              "      <th>3</th>\n",
              "      <td>0</td>\n",
              "      <td>0</td>\n",
              "      <td>0</td>\n",
              "      <td>0</td>\n",
              "      <td>0</td>\n",
              "      <td>0</td>\n",
              "      <td>45</td>\n",
              "      <td>42.30</td>\n",
              "      <td>0</td>\n",
              "      <td>1</td>\n",
              "      <td>...</td>\n",
              "      <td>1</td>\n",
              "      <td>0</td>\n",
              "      <td>0</td>\n",
              "      <td>0</td>\n",
              "      <td>0</td>\n",
              "      <td>1</td>\n",
              "      <td>0</td>\n",
              "      <td>0</td>\n",
              "      <td>0</td>\n",
              "      <td>1</td>\n",
              "    </tr>\n",
              "    <tr>\n",
              "      <th>4</th>\n",
              "      <td>0</td>\n",
              "      <td>0</td>\n",
              "      <td>1</td>\n",
              "      <td>1</td>\n",
              "      <td>1</td>\n",
              "      <td>0</td>\n",
              "      <td>2</td>\n",
              "      <td>70.70</td>\n",
              "      <td>1</td>\n",
              "      <td>0</td>\n",
              "      <td>...</td>\n",
              "      <td>1</td>\n",
              "      <td>0</td>\n",
              "      <td>0</td>\n",
              "      <td>0</td>\n",
              "      <td>1</td>\n",
              "      <td>0</td>\n",
              "      <td>0</td>\n",
              "      <td>1</td>\n",
              "      <td>0</td>\n",
              "      <td>0</td>\n",
              "    </tr>\n",
              "  </tbody>\n",
              "</table>\n",
              "<p>5 rows × 39 columns</p>\n",
              "</div>\n",
              "      <button class=\"colab-df-convert\" onclick=\"convertToInteractive('df-74306539-b399-40c7-9e42-91d5c8be43b4')\"\n",
              "              title=\"Convert this dataframe to an interactive table.\"\n",
              "              style=\"display:none;\">\n",
              "        \n",
              "  <svg xmlns=\"http://www.w3.org/2000/svg\" height=\"24px\"viewBox=\"0 0 24 24\"\n",
              "       width=\"24px\">\n",
              "    <path d=\"M0 0h24v24H0V0z\" fill=\"none\"/>\n",
              "    <path d=\"M18.56 5.44l.94 2.06.94-2.06 2.06-.94-2.06-.94-.94-2.06-.94 2.06-2.06.94zm-11 1L8.5 8.5l.94-2.06 2.06-.94-2.06-.94L8.5 2.5l-.94 2.06-2.06.94zm10 10l.94 2.06.94-2.06 2.06-.94-2.06-.94-.94-2.06-.94 2.06-2.06.94z\"/><path d=\"M17.41 7.96l-1.37-1.37c-.4-.4-.92-.59-1.43-.59-.52 0-1.04.2-1.43.59L10.3 9.45l-7.72 7.72c-.78.78-.78 2.05 0 2.83L4 21.41c.39.39.9.59 1.41.59.51 0 1.02-.2 1.41-.59l7.78-7.78 2.81-2.81c.8-.78.8-2.07 0-2.86zM5.41 20L4 18.59l7.72-7.72 1.47 1.35L5.41 20z\"/>\n",
              "  </svg>\n",
              "      </button>\n",
              "      \n",
              "  <style>\n",
              "    .colab-df-container {\n",
              "      display:flex;\n",
              "      flex-wrap:wrap;\n",
              "      gap: 12px;\n",
              "    }\n",
              "\n",
              "    .colab-df-convert {\n",
              "      background-color: #E8F0FE;\n",
              "      border: none;\n",
              "      border-radius: 50%;\n",
              "      cursor: pointer;\n",
              "      display: none;\n",
              "      fill: #1967D2;\n",
              "      height: 32px;\n",
              "      padding: 0 0 0 0;\n",
              "      width: 32px;\n",
              "    }\n",
              "\n",
              "    .colab-df-convert:hover {\n",
              "      background-color: #E2EBFA;\n",
              "      box-shadow: 0px 1px 2px rgba(60, 64, 67, 0.3), 0px 1px 3px 1px rgba(60, 64, 67, 0.15);\n",
              "      fill: #174EA6;\n",
              "    }\n",
              "\n",
              "    [theme=dark] .colab-df-convert {\n",
              "      background-color: #3B4455;\n",
              "      fill: #D2E3FC;\n",
              "    }\n",
              "\n",
              "    [theme=dark] .colab-df-convert:hover {\n",
              "      background-color: #434B5C;\n",
              "      box-shadow: 0px 1px 3px 1px rgba(0, 0, 0, 0.15);\n",
              "      filter: drop-shadow(0px 1px 2px rgba(0, 0, 0, 0.3));\n",
              "      fill: #FFFFFF;\n",
              "    }\n",
              "  </style>\n",
              "\n",
              "      <script>\n",
              "        const buttonEl =\n",
              "          document.querySelector('#df-74306539-b399-40c7-9e42-91d5c8be43b4 button.colab-df-convert');\n",
              "        buttonEl.style.display =\n",
              "          google.colab.kernel.accessAllowed ? 'block' : 'none';\n",
              "\n",
              "        async function convertToInteractive(key) {\n",
              "          const element = document.querySelector('#df-74306539-b399-40c7-9e42-91d5c8be43b4');\n",
              "          const dataTable =\n",
              "            await google.colab.kernel.invokeFunction('convertToInteractive',\n",
              "                                                     [key], {});\n",
              "          if (!dataTable) return;\n",
              "\n",
              "          const docLinkHtml = 'Like what you see? Visit the ' +\n",
              "            '<a target=\"_blank\" href=https://colab.research.google.com/notebooks/data_table.ipynb>data table notebook</a>'\n",
              "            + ' to learn more about interactive tables.';\n",
              "          element.innerHTML = '';\n",
              "          dataTable['output_type'] = 'display_data';\n",
              "          await google.colab.output.renderOutput(dataTable, element);\n",
              "          const docLink = document.createElement('div');\n",
              "          docLink.innerHTML = docLinkHtml;\n",
              "          element.appendChild(docLink);\n",
              "        }\n",
              "      </script>\n",
              "    </div>\n",
              "  </div>\n",
              "  "
            ]
          },
          "metadata": {},
          "execution_count": 5
        }
      ]
    },
    {
      "cell_type": "code",
      "source": [
        "dados_final.shape"
      ],
      "metadata": {
        "colab": {
          "base_uri": "https://localhost:8080/"
        },
        "id": "AnhgeH3OBhAD",
        "outputId": "59d7a6c0-de75-4bda-eeb3-4ca66d75f163"
      },
      "execution_count": 6,
      "outputs": [
        {
          "output_type": "execute_result",
          "data": {
            "text/plain": [
              "(7043, 39)"
            ]
          },
          "metadata": {},
          "execution_count": 6
        }
      ]
    },
    {
      "cell_type": "code",
      "source": [
        "# informações para classificação:\n",
        "# x = inputs\n",
        "# y = outputs\n",
        "\n",
        "pd.set_option('display.max_columns', 39)"
      ],
      "metadata": {
        "id": "H_1GKTg6Bsv1"
      },
      "execution_count": 7,
      "outputs": []
    },
    {
      "cell_type": "code",
      "source": [
        "dados_final.head()"
      ],
      "metadata": {
        "colab": {
          "base_uri": "https://localhost:8080/",
          "height": 270
        },
        "id": "jD37W8MQELj4",
        "outputId": "f3de6596-1849-40f0-adad-91b1fdcf8ccf"
      },
      "execution_count": 8,
      "outputs": [
        {
          "output_type": "execute_result",
          "data": {
            "text/plain": [
              "   Conjuge  Dependentes  TelefoneFixo  PagamentoOnline  Churn  Maior65Anos  \\\n",
              "0        1            0             0                1      0            0   \n",
              "1        0            0             1                0      0            0   \n",
              "2        0            0             1                1      1            0   \n",
              "3        0            0             0                0      0            0   \n",
              "4        0            0             1                1      1            0   \n",
              "\n",
              "   MesesDeContrato  ContaMensal  VariasLinhasTelefonicas_Nao  \\\n",
              "0                1        29.85                            0   \n",
              "1               34        56.95                            1   \n",
              "2                2        53.85                            1   \n",
              "3               45        42.30                            0   \n",
              "4                2        70.70                            1   \n",
              "\n",
              "   VariasLinhasTelefonicas_SemServicoTelefonico  VariasLinhasTelefonicas_Sim  \\\n",
              "0                                             1                            0   \n",
              "1                                             0                            0   \n",
              "2                                             0                            0   \n",
              "3                                             1                            0   \n",
              "4                                             0                            0   \n",
              "\n",
              "   ServicoDeInternet_DSL  ServicoDeInternet_FibraOptica  \\\n",
              "0                      1                              0   \n",
              "1                      1                              0   \n",
              "2                      1                              0   \n",
              "3                      1                              0   \n",
              "4                      0                              1   \n",
              "\n",
              "   ServicoDeInternet_Nao  SegurancaOnline_Nao  \\\n",
              "0                      0                    1   \n",
              "1                      0                    0   \n",
              "2                      0                    0   \n",
              "3                      0                    0   \n",
              "4                      0                    1   \n",
              "\n",
              "   SegurancaOnline_SemServicoDeInternet  SegurancaOnline_Sim  \\\n",
              "0                                     0                    0   \n",
              "1                                     0                    1   \n",
              "2                                     0                    1   \n",
              "3                                     0                    1   \n",
              "4                                     0                    0   \n",
              "\n",
              "   BackupOnline_Nao  BackupOnline_SemServicoDeInternet  BackupOnline_Sim  \\\n",
              "0                 0                                  0                 1   \n",
              "1                 1                                  0                 0   \n",
              "2                 0                                  0                 1   \n",
              "3                 1                                  0                 0   \n",
              "4                 1                                  0                 0   \n",
              "\n",
              "   SeguroNoDispositivo_Nao  SeguroNoDispositivo_SemServicoDeInternet  \\\n",
              "0                        1                                         0   \n",
              "1                        0                                         0   \n",
              "2                        1                                         0   \n",
              "3                        0                                         0   \n",
              "4                        1                                         0   \n",
              "\n",
              "   SeguroNoDispositivo_Sim  SuporteTecnico_Nao  \\\n",
              "0                        0                   1   \n",
              "1                        1                   1   \n",
              "2                        0                   1   \n",
              "3                        1                   0   \n",
              "4                        0                   1   \n",
              "\n",
              "   SuporteTecnico_SemServicoDeInternet  SuporteTecnico_Sim  TVaCabo_Nao  \\\n",
              "0                                    0                   0            1   \n",
              "1                                    0                   0            1   \n",
              "2                                    0                   0            1   \n",
              "3                                    0                   1            1   \n",
              "4                                    0                   0            1   \n",
              "\n",
              "   TVaCabo_SemServicoDeInternet  TVaCabo_Sim  StreamingDeFilmes_Nao  \\\n",
              "0                             0            0                      1   \n",
              "1                             0            0                      1   \n",
              "2                             0            0                      1   \n",
              "3                             0            0                      1   \n",
              "4                             0            0                      1   \n",
              "\n",
              "   StreamingDeFilmes_SemServicoDeInternet  StreamingDeFilmes_Sim  \\\n",
              "0                                       0                      0   \n",
              "1                                       0                      0   \n",
              "2                                       0                      0   \n",
              "3                                       0                      0   \n",
              "4                                       0                      0   \n",
              "\n",
              "   TipoDeContrato_DoisAnos  TipoDeContrato_Mensalmente  TipoDeContrato_UmAno  \\\n",
              "0                        0                           1                     0   \n",
              "1                        0                           0                     1   \n",
              "2                        0                           1                     0   \n",
              "3                        0                           0                     1   \n",
              "4                        0                           1                     0   \n",
              "\n",
              "   FormaDePagamento_CartaoDeCredito  FormaDePagamento_ChequeDigital  \\\n",
              "0                                 0                               1   \n",
              "1                                 0                               0   \n",
              "2                                 0                               0   \n",
              "3                                 0                               0   \n",
              "4                                 0                               1   \n",
              "\n",
              "   FormaDePagamento_ChequePapel  FormaDePagamento_DebitoEmConta  \n",
              "0                             0                               0  \n",
              "1                             1                               0  \n",
              "2                             1                               0  \n",
              "3                             0                               1  \n",
              "4                             0                               0  "
            ],
            "text/html": [
              "\n",
              "  <div id=\"df-afeef9bc-927c-4aba-b007-3db5507818b6\">\n",
              "    <div class=\"colab-df-container\">\n",
              "      <div>\n",
              "<style scoped>\n",
              "    .dataframe tbody tr th:only-of-type {\n",
              "        vertical-align: middle;\n",
              "    }\n",
              "\n",
              "    .dataframe tbody tr th {\n",
              "        vertical-align: top;\n",
              "    }\n",
              "\n",
              "    .dataframe thead th {\n",
              "        text-align: right;\n",
              "    }\n",
              "</style>\n",
              "<table border=\"1\" class=\"dataframe\">\n",
              "  <thead>\n",
              "    <tr style=\"text-align: right;\">\n",
              "      <th></th>\n",
              "      <th>Conjuge</th>\n",
              "      <th>Dependentes</th>\n",
              "      <th>TelefoneFixo</th>\n",
              "      <th>PagamentoOnline</th>\n",
              "      <th>Churn</th>\n",
              "      <th>Maior65Anos</th>\n",
              "      <th>MesesDeContrato</th>\n",
              "      <th>ContaMensal</th>\n",
              "      <th>VariasLinhasTelefonicas_Nao</th>\n",
              "      <th>VariasLinhasTelefonicas_SemServicoTelefonico</th>\n",
              "      <th>VariasLinhasTelefonicas_Sim</th>\n",
              "      <th>ServicoDeInternet_DSL</th>\n",
              "      <th>ServicoDeInternet_FibraOptica</th>\n",
              "      <th>ServicoDeInternet_Nao</th>\n",
              "      <th>SegurancaOnline_Nao</th>\n",
              "      <th>SegurancaOnline_SemServicoDeInternet</th>\n",
              "      <th>SegurancaOnline_Sim</th>\n",
              "      <th>BackupOnline_Nao</th>\n",
              "      <th>BackupOnline_SemServicoDeInternet</th>\n",
              "      <th>BackupOnline_Sim</th>\n",
              "      <th>SeguroNoDispositivo_Nao</th>\n",
              "      <th>SeguroNoDispositivo_SemServicoDeInternet</th>\n",
              "      <th>SeguroNoDispositivo_Sim</th>\n",
              "      <th>SuporteTecnico_Nao</th>\n",
              "      <th>SuporteTecnico_SemServicoDeInternet</th>\n",
              "      <th>SuporteTecnico_Sim</th>\n",
              "      <th>TVaCabo_Nao</th>\n",
              "      <th>TVaCabo_SemServicoDeInternet</th>\n",
              "      <th>TVaCabo_Sim</th>\n",
              "      <th>StreamingDeFilmes_Nao</th>\n",
              "      <th>StreamingDeFilmes_SemServicoDeInternet</th>\n",
              "      <th>StreamingDeFilmes_Sim</th>\n",
              "      <th>TipoDeContrato_DoisAnos</th>\n",
              "      <th>TipoDeContrato_Mensalmente</th>\n",
              "      <th>TipoDeContrato_UmAno</th>\n",
              "      <th>FormaDePagamento_CartaoDeCredito</th>\n",
              "      <th>FormaDePagamento_ChequeDigital</th>\n",
              "      <th>FormaDePagamento_ChequePapel</th>\n",
              "      <th>FormaDePagamento_DebitoEmConta</th>\n",
              "    </tr>\n",
              "  </thead>\n",
              "  <tbody>\n",
              "    <tr>\n",
              "      <th>0</th>\n",
              "      <td>1</td>\n",
              "      <td>0</td>\n",
              "      <td>0</td>\n",
              "      <td>1</td>\n",
              "      <td>0</td>\n",
              "      <td>0</td>\n",
              "      <td>1</td>\n",
              "      <td>29.85</td>\n",
              "      <td>0</td>\n",
              "      <td>1</td>\n",
              "      <td>0</td>\n",
              "      <td>1</td>\n",
              "      <td>0</td>\n",
              "      <td>0</td>\n",
              "      <td>1</td>\n",
              "      <td>0</td>\n",
              "      <td>0</td>\n",
              "      <td>0</td>\n",
              "      <td>0</td>\n",
              "      <td>1</td>\n",
              "      <td>1</td>\n",
              "      <td>0</td>\n",
              "      <td>0</td>\n",
              "      <td>1</td>\n",
              "      <td>0</td>\n",
              "      <td>0</td>\n",
              "      <td>1</td>\n",
              "      <td>0</td>\n",
              "      <td>0</td>\n",
              "      <td>1</td>\n",
              "      <td>0</td>\n",
              "      <td>0</td>\n",
              "      <td>0</td>\n",
              "      <td>1</td>\n",
              "      <td>0</td>\n",
              "      <td>0</td>\n",
              "      <td>1</td>\n",
              "      <td>0</td>\n",
              "      <td>0</td>\n",
              "    </tr>\n",
              "    <tr>\n",
              "      <th>1</th>\n",
              "      <td>0</td>\n",
              "      <td>0</td>\n",
              "      <td>1</td>\n",
              "      <td>0</td>\n",
              "      <td>0</td>\n",
              "      <td>0</td>\n",
              "      <td>34</td>\n",
              "      <td>56.95</td>\n",
              "      <td>1</td>\n",
              "      <td>0</td>\n",
              "      <td>0</td>\n",
              "      <td>1</td>\n",
              "      <td>0</td>\n",
              "      <td>0</td>\n",
              "      <td>0</td>\n",
              "      <td>0</td>\n",
              "      <td>1</td>\n",
              "      <td>1</td>\n",
              "      <td>0</td>\n",
              "      <td>0</td>\n",
              "      <td>0</td>\n",
              "      <td>0</td>\n",
              "      <td>1</td>\n",
              "      <td>1</td>\n",
              "      <td>0</td>\n",
              "      <td>0</td>\n",
              "      <td>1</td>\n",
              "      <td>0</td>\n",
              "      <td>0</td>\n",
              "      <td>1</td>\n",
              "      <td>0</td>\n",
              "      <td>0</td>\n",
              "      <td>0</td>\n",
              "      <td>0</td>\n",
              "      <td>1</td>\n",
              "      <td>0</td>\n",
              "      <td>0</td>\n",
              "      <td>1</td>\n",
              "      <td>0</td>\n",
              "    </tr>\n",
              "    <tr>\n",
              "      <th>2</th>\n",
              "      <td>0</td>\n",
              "      <td>0</td>\n",
              "      <td>1</td>\n",
              "      <td>1</td>\n",
              "      <td>1</td>\n",
              "      <td>0</td>\n",
              "      <td>2</td>\n",
              "      <td>53.85</td>\n",
              "      <td>1</td>\n",
              "      <td>0</td>\n",
              "      <td>0</td>\n",
              "      <td>1</td>\n",
              "      <td>0</td>\n",
              "      <td>0</td>\n",
              "      <td>0</td>\n",
              "      <td>0</td>\n",
              "      <td>1</td>\n",
              "      <td>0</td>\n",
              "      <td>0</td>\n",
              "      <td>1</td>\n",
              "      <td>1</td>\n",
              "      <td>0</td>\n",
              "      <td>0</td>\n",
              "      <td>1</td>\n",
              "      <td>0</td>\n",
              "      <td>0</td>\n",
              "      <td>1</td>\n",
              "      <td>0</td>\n",
              "      <td>0</td>\n",
              "      <td>1</td>\n",
              "      <td>0</td>\n",
              "      <td>0</td>\n",
              "      <td>0</td>\n",
              "      <td>1</td>\n",
              "      <td>0</td>\n",
              "      <td>0</td>\n",
              "      <td>0</td>\n",
              "      <td>1</td>\n",
              "      <td>0</td>\n",
              "    </tr>\n",
              "    <tr>\n",
              "      <th>3</th>\n",
              "      <td>0</td>\n",
              "      <td>0</td>\n",
              "      <td>0</td>\n",
              "      <td>0</td>\n",
              "      <td>0</td>\n",
              "      <td>0</td>\n",
              "      <td>45</td>\n",
              "      <td>42.30</td>\n",
              "      <td>0</td>\n",
              "      <td>1</td>\n",
              "      <td>0</td>\n",
              "      <td>1</td>\n",
              "      <td>0</td>\n",
              "      <td>0</td>\n",
              "      <td>0</td>\n",
              "      <td>0</td>\n",
              "      <td>1</td>\n",
              "      <td>1</td>\n",
              "      <td>0</td>\n",
              "      <td>0</td>\n",
              "      <td>0</td>\n",
              "      <td>0</td>\n",
              "      <td>1</td>\n",
              "      <td>0</td>\n",
              "      <td>0</td>\n",
              "      <td>1</td>\n",
              "      <td>1</td>\n",
              "      <td>0</td>\n",
              "      <td>0</td>\n",
              "      <td>1</td>\n",
              "      <td>0</td>\n",
              "      <td>0</td>\n",
              "      <td>0</td>\n",
              "      <td>0</td>\n",
              "      <td>1</td>\n",
              "      <td>0</td>\n",
              "      <td>0</td>\n",
              "      <td>0</td>\n",
              "      <td>1</td>\n",
              "    </tr>\n",
              "    <tr>\n",
              "      <th>4</th>\n",
              "      <td>0</td>\n",
              "      <td>0</td>\n",
              "      <td>1</td>\n",
              "      <td>1</td>\n",
              "      <td>1</td>\n",
              "      <td>0</td>\n",
              "      <td>2</td>\n",
              "      <td>70.70</td>\n",
              "      <td>1</td>\n",
              "      <td>0</td>\n",
              "      <td>0</td>\n",
              "      <td>0</td>\n",
              "      <td>1</td>\n",
              "      <td>0</td>\n",
              "      <td>1</td>\n",
              "      <td>0</td>\n",
              "      <td>0</td>\n",
              "      <td>1</td>\n",
              "      <td>0</td>\n",
              "      <td>0</td>\n",
              "      <td>1</td>\n",
              "      <td>0</td>\n",
              "      <td>0</td>\n",
              "      <td>1</td>\n",
              "      <td>0</td>\n",
              "      <td>0</td>\n",
              "      <td>1</td>\n",
              "      <td>0</td>\n",
              "      <td>0</td>\n",
              "      <td>1</td>\n",
              "      <td>0</td>\n",
              "      <td>0</td>\n",
              "      <td>0</td>\n",
              "      <td>1</td>\n",
              "      <td>0</td>\n",
              "      <td>0</td>\n",
              "      <td>1</td>\n",
              "      <td>0</td>\n",
              "      <td>0</td>\n",
              "    </tr>\n",
              "  </tbody>\n",
              "</table>\n",
              "</div>\n",
              "      <button class=\"colab-df-convert\" onclick=\"convertToInteractive('df-afeef9bc-927c-4aba-b007-3db5507818b6')\"\n",
              "              title=\"Convert this dataframe to an interactive table.\"\n",
              "              style=\"display:none;\">\n",
              "        \n",
              "  <svg xmlns=\"http://www.w3.org/2000/svg\" height=\"24px\"viewBox=\"0 0 24 24\"\n",
              "       width=\"24px\">\n",
              "    <path d=\"M0 0h24v24H0V0z\" fill=\"none\"/>\n",
              "    <path d=\"M18.56 5.44l.94 2.06.94-2.06 2.06-.94-2.06-.94-.94-2.06-.94 2.06-2.06.94zm-11 1L8.5 8.5l.94-2.06 2.06-.94-2.06-.94L8.5 2.5l-.94 2.06-2.06.94zm10 10l.94 2.06.94-2.06 2.06-.94-2.06-.94-.94-2.06-.94 2.06-2.06.94z\"/><path d=\"M17.41 7.96l-1.37-1.37c-.4-.4-.92-.59-1.43-.59-.52 0-1.04.2-1.43.59L10.3 9.45l-7.72 7.72c-.78.78-.78 2.05 0 2.83L4 21.41c.39.39.9.59 1.41.59.51 0 1.02-.2 1.41-.59l7.78-7.78 2.81-2.81c.8-.78.8-2.07 0-2.86zM5.41 20L4 18.59l7.72-7.72 1.47 1.35L5.41 20z\"/>\n",
              "  </svg>\n",
              "      </button>\n",
              "      \n",
              "  <style>\n",
              "    .colab-df-container {\n",
              "      display:flex;\n",
              "      flex-wrap:wrap;\n",
              "      gap: 12px;\n",
              "    }\n",
              "\n",
              "    .colab-df-convert {\n",
              "      background-color: #E8F0FE;\n",
              "      border: none;\n",
              "      border-radius: 50%;\n",
              "      cursor: pointer;\n",
              "      display: none;\n",
              "      fill: #1967D2;\n",
              "      height: 32px;\n",
              "      padding: 0 0 0 0;\n",
              "      width: 32px;\n",
              "    }\n",
              "\n",
              "    .colab-df-convert:hover {\n",
              "      background-color: #E2EBFA;\n",
              "      box-shadow: 0px 1px 2px rgba(60, 64, 67, 0.3), 0px 1px 3px 1px rgba(60, 64, 67, 0.15);\n",
              "      fill: #174EA6;\n",
              "    }\n",
              "\n",
              "    [theme=dark] .colab-df-convert {\n",
              "      background-color: #3B4455;\n",
              "      fill: #D2E3FC;\n",
              "    }\n",
              "\n",
              "    [theme=dark] .colab-df-convert:hover {\n",
              "      background-color: #434B5C;\n",
              "      box-shadow: 0px 1px 3px 1px rgba(0, 0, 0, 0.15);\n",
              "      filter: drop-shadow(0px 1px 2px rgba(0, 0, 0, 0.3));\n",
              "      fill: #FFFFFF;\n",
              "    }\n",
              "  </style>\n",
              "\n",
              "      <script>\n",
              "        const buttonEl =\n",
              "          document.querySelector('#df-afeef9bc-927c-4aba-b007-3db5507818b6 button.colab-df-convert');\n",
              "        buttonEl.style.display =\n",
              "          google.colab.kernel.accessAllowed ? 'block' : 'none';\n",
              "\n",
              "        async function convertToInteractive(key) {\n",
              "          const element = document.querySelector('#df-afeef9bc-927c-4aba-b007-3db5507818b6');\n",
              "          const dataTable =\n",
              "            await google.colab.kernel.invokeFunction('convertToInteractive',\n",
              "                                                     [key], {});\n",
              "          if (!dataTable) return;\n",
              "\n",
              "          const docLinkHtml = 'Like what you see? Visit the ' +\n",
              "            '<a target=\"_blank\" href=https://colab.research.google.com/notebooks/data_table.ipynb>data table notebook</a>'\n",
              "            + ' to learn more about interactive tables.';\n",
              "          element.innerHTML = '';\n",
              "          dataTable['output_type'] = 'display_data';\n",
              "          await google.colab.output.renderOutput(dataTable, element);\n",
              "          const docLink = document.createElement('div');\n",
              "          docLink.innerHTML = docLinkHtml;\n",
              "          element.appendChild(docLink);\n",
              "        }\n",
              "      </script>\n",
              "    </div>\n",
              "  </div>\n",
              "  "
            ]
          },
          "metadata": {},
          "execution_count": 8
        }
      ]
    },
    {
      "cell_type": "code",
      "source": [
        "Xclient_1 = [[0,0,1,1,0,0,39.90,1,0,0,0,1,0,1,0,0,0,0,1,1,1,0,0,1,0,1,0,0,0,0,1,0,0,1,0,0,0,1]]\n"
      ],
      "metadata": {
        "id": "mjEa0UvREOj4"
      },
      "execution_count": 9,
      "outputs": []
    },
    {
      "cell_type": "code",
      "source": [
        "# dados desbalanceados?\n",
        "\n",
        "import seaborn as sns\n",
        "%matplotlib inline"
      ],
      "metadata": {
        "id": "QDuZJJw6EzI6"
      },
      "execution_count": 10,
      "outputs": []
    },
    {
      "cell_type": "code",
      "source": [
        "ax = sns.countplot(x='Churn', data=dados_final)"
      ],
      "metadata": {
        "colab": {
          "base_uri": "https://localhost:8080/",
          "height": 449
        },
        "id": "NRThSZcoGa6A",
        "outputId": "7ca075a0-506e-4e9d-e6e8-e57c4d49eabc"
      },
      "execution_count": 11,
      "outputs": [
        {
          "output_type": "display_data",
          "data": {
            "text/plain": [
              "<Figure size 640x480 with 1 Axes>"
            ],
            "image/png": "[encoded data removed]"
          },
          "metadata": {}
        }
      ]
    },
    {
      "cell_type": "code",
      "source": [
        "!pip install -U imbalanced-learn"
      ],
      "metadata": {
        "colab": {
          "base_uri": "https://localhost:8080/"
        },
        "id": "L8va64NTGoO6",
        "outputId": "797eb06f-dfc5-4d98-8042-420e2931a4b2"
      },
      "execution_count": 12,
      "outputs": [
        {
          "output_type": "stream",
          "name": "stdout",
          "text": [
            "Looking in indexes: https://pypi.org/simple, https://us-python.pkg.dev/colab-wheels/public/simple/\n",
            "Requirement already satisfied: imbalanced-learn in /usr/local/lib/python3.10/dist-packages (0.10.1)\n",
            "Requirement already satisfied: numpy>=1.17.3 in /usr/local/lib/python3.10/dist-packages (from imbalanced-learn) (1.22.4)\n",
            "Requirement already satisfied: scipy>=1.3.2 in /usr/local/lib/python3.10/dist-packages (from imbalanced-learn) (1.10.1)\n",
            "Requirement already satisfied: scikit-learn>=1.0.2 in /usr/local/lib/python3.10/dist-packages (from imbalanced-learn) (1.2.2)\n",
            "Requirement already satisfied: joblib>=1.1.1 in /usr/local/lib/python3.10/dist-packages (from imbalanced-learn) (1.2.0)\n",
            "Requirement already satisfied: threadpoolctl>=2.0.0 in /usr/local/lib/python3.10/dist-packages (from imbalanced-learn) (3.1.0)\n"
          ]
        }
      ]
    },
    {
      "cell_type": "code",
      "source": [
        "# Para podermos aplicar o SMOTE, devemos separar  os dados em variáveis características e resposta  \n",
        "# Churn - evasão dos clientes\n",
        "\n",
        "X = dados_final.drop('Churn', axis = 1)\n",
        "y = dados_final['Churn']"
      ],
      "metadata": {
        "id": "xCNkaeGmHCGo"
      },
      "execution_count": 92,
      "outputs": []
    },
    {
      "cell_type": "code",
      "source": [
        "from imblearn.over_sampling import SMOTE\n",
        "\n",
        "smt = SMOTE(random_state=123)  # Instancia um objeto da classe SMOTE\n",
        "X, y = smt.fit_resample(X, y)  # Realiza a reamostragem do conjunto de dados"
      ],
      "metadata": {
        "id": "_npgelGTHUzn"
      },
      "execution_count": 14,
      "outputs": []
    },
    {
      "cell_type": "code",
      "source": [
        "dados_final = pd.concat([X, y], axis=1)  # Concatena a variável target (y) com as features (X)\n",
        "\n",
        "# Verifica se o balanceamento e a concatenação estão corretos.\n",
        "dados_final.head(2)"
      ],
      "metadata": {
        "colab": {
          "base_uri": "https://localhost:8080/",
          "height": 176
        },
        "id": "cO9_qqQRHlXr",
        "outputId": "b07d4ab1-423c-4e59-e1fe-21036ab42238"
      },
      "execution_count": 15,
      "outputs": [
        {
          "output_type": "execute_result",
          "data": {
            "text/plain": [
              "   Conjuge  Dependentes  TelefoneFixo  PagamentoOnline  Maior65Anos  \\\n",
              "0        1            0             0                1            0   \n",
              "1        0            0             1                0            0   \n",
              "\n",
              "   MesesDeContrato  ContaMensal  VariasLinhasTelefonicas_Nao  \\\n",
              "0                1        29.85                            0   \n",
              "1               34        56.95                            1   \n",
              "\n",
              "   VariasLinhasTelefonicas_SemServicoTelefonico  VariasLinhasTelefonicas_Sim  \\\n",
              "0                                             1                            0   \n",
              "1                                             0                            0   \n",
              "\n",
              "   ServicoDeInternet_DSL  ServicoDeInternet_FibraOptica  \\\n",
              "0                      1                              0   \n",
              "1                      1                              0   \n",
              "\n",
              "   ServicoDeInternet_Nao  SegurancaOnline_Nao  \\\n",
              "0                      0                    1   \n",
              "1                      0                    0   \n",
              "\n",
              "   SegurancaOnline_SemServicoDeInternet  SegurancaOnline_Sim  \\\n",
              "0                                     0                    0   \n",
              "1                                     0                    1   \n",
              "\n",
              "   BackupOnline_Nao  BackupOnline_SemServicoDeInternet  BackupOnline_Sim  \\\n",
              "0                 0                                  0                 1   \n",
              "1                 1                                  0                 0   \n",
              "\n",
              "   SeguroNoDispositivo_Nao  SeguroNoDispositivo_SemServicoDeInternet  \\\n",
              "0                        1                                         0   \n",
              "1                        0                                         0   \n",
              "\n",
              "   SeguroNoDispositivo_Sim  SuporteTecnico_Nao  \\\n",
              "0                        0                   1   \n",
              "1                        1                   1   \n",
              "\n",
              "   SuporteTecnico_SemServicoDeInternet  SuporteTecnico_Sim  TVaCabo_Nao  \\\n",
              "0                                    0                   0            1   \n",
              "1                                    0                   0            1   \n",
              "\n",
              "   TVaCabo_SemServicoDeInternet  TVaCabo_Sim  StreamingDeFilmes_Nao  \\\n",
              "0                             0            0                      1   \n",
              "1                             0            0                      1   \n",
              "\n",
              "   StreamingDeFilmes_SemServicoDeInternet  StreamingDeFilmes_Sim  \\\n",
              "0                                       0                      0   \n",
              "1                                       0                      0   \n",
              "\n",
              "   TipoDeContrato_DoisAnos  TipoDeContrato_Mensalmente  TipoDeContrato_UmAno  \\\n",
              "0                        0                           1                     0   \n",
              "1                        0                           0                     1   \n",
              "\n",
              "   FormaDePagamento_CartaoDeCredito  FormaDePagamento_ChequeDigital  \\\n",
              "0                                 0                               1   \n",
              "1                                 0                               0   \n",
              "\n",
              "   FormaDePagamento_ChequePapel  FormaDePagamento_DebitoEmConta  Churn  \n",
              "0                             0                               0      0  \n",
              "1                             1                               0      0  "
            ],
            "text/html": [
              "\n",
              "  <div id=\"df-bfc784f3-61c9-41cb-ab82-c9671649d25f\">\n",
              "    <div class=\"colab-df-container\">\n",
              "      <div>\n",
              "<style scoped>\n",
              "    .dataframe tbody tr th:only-of-type {\n",
              "        vertical-align: middle;\n",
              "    }\n",
              "\n",
              "    .dataframe tbody tr th {\n",
              "        vertical-align: top;\n",
              "    }\n",
              "\n",
              "    .dataframe thead th {\n",
              "        text-align: right;\n",
              "    }\n",
              "</style>\n",
              "<table border=\"1\" class=\"dataframe\">\n",
              "  <thead>\n",
              "    <tr style=\"text-align: right;\">\n",
              "      <th></th>\n",
              "      <th>Conjuge</th>\n",
              "      <th>Dependentes</th>\n",
              "      <th>TelefoneFixo</th>\n",
              "      <th>PagamentoOnline</th>\n",
              "      <th>Maior65Anos</th>\n",
              "      <th>MesesDeContrato</th>\n",
              "      <th>ContaMensal</th>\n",
              "      <th>VariasLinhasTelefonicas_Nao</th>\n",
              "      <th>VariasLinhasTelefonicas_SemServicoTelefonico</th>\n",
              "      <th>VariasLinhasTelefonicas_Sim</th>\n",
              "      <th>ServicoDeInternet_DSL</th>\n",
              "      <th>ServicoDeInternet_FibraOptica</th>\n",
              "      <th>ServicoDeInternet_Nao</th>\n",
              "      <th>SegurancaOnline_Nao</th>\n",
              "      <th>SegurancaOnline_SemServicoDeInternet</th>\n",
              "      <th>SegurancaOnline_Sim</th>\n",
              "      <th>BackupOnline_Nao</th>\n",
              "      <th>BackupOnline_SemServicoDeInternet</th>\n",
              "      <th>BackupOnline_Sim</th>\n",
              "      <th>SeguroNoDispositivo_Nao</th>\n",
              "      <th>SeguroNoDispositivo_SemServicoDeInternet</th>\n",
              "      <th>SeguroNoDispositivo_Sim</th>\n",
              "      <th>SuporteTecnico_Nao</th>\n",
              "      <th>SuporteTecnico_SemServicoDeInternet</th>\n",
              "      <th>SuporteTecnico_Sim</th>\n",
              "      <th>TVaCabo_Nao</th>\n",
              "      <th>TVaCabo_SemServicoDeInternet</th>\n",
              "      <th>TVaCabo_Sim</th>\n",
              "      <th>StreamingDeFilmes_Nao</th>\n",
              "      <th>StreamingDeFilmes_SemServicoDeInternet</th>\n",
              "      <th>StreamingDeFilmes_Sim</th>\n",
              "      <th>TipoDeContrato_DoisAnos</th>\n",
              "      <th>TipoDeContrato_Mensalmente</th>\n",
              "      <th>TipoDeContrato_UmAno</th>\n",
              "      <th>FormaDePagamento_CartaoDeCredito</th>\n",
              "      <th>FormaDePagamento_ChequeDigital</th>\n",
              "      <th>FormaDePagamento_ChequePapel</th>\n",
              "      <th>FormaDePagamento_DebitoEmConta</th>\n",
              "      <th>Churn</th>\n",
              "    </tr>\n",
              "  </thead>\n",
              "  <tbody>\n",
              "    <tr>\n",
              "      <th>0</th>\n",
              "      <td>1</td>\n",
              "      <td>0</td>\n",
              "      <td>0</td>\n",
              "      <td>1</td>\n",
              "      <td>0</td>\n",
              "      <td>1</td>\n",
              "      <td>29.85</td>\n",
              "      <td>0</td>\n",
              "      <td>1</td>\n",
              "      <td>0</td>\n",
              "      <td>1</td>\n",
              "      <td>0</td>\n",
              "      <td>0</td>\n",
              "      <td>1</td>\n",
              "      <td>0</td>\n",
              "      <td>0</td>\n",
              "      <td>0</td>\n",
              "      <td>0</td>\n",
              "      <td>1</td>\n",
              "      <td>1</td>\n",
              "      <td>0</td>\n",
              "      <td>0</td>\n",
              "      <td>1</td>\n",
              "      <td>0</td>\n",
              "      <td>0</td>\n",
              "      <td>1</td>\n",
              "      <td>0</td>\n",
              "      <td>0</td>\n",
              "      <td>1</td>\n",
              "      <td>0</td>\n",
              "      <td>0</td>\n",
              "      <td>0</td>\n",
              "      <td>1</td>\n",
              "      <td>0</td>\n",
              "      <td>0</td>\n",
              "      <td>1</td>\n",
              "      <td>0</td>\n",
              "      <td>0</td>\n",
              "      <td>0</td>\n",
              "    </tr>\n",
              "    <tr>\n",
              "      <th>1</th>\n",
              "      <td>0</td>\n",
              "      <td>0</td>\n",
              "      <td>1</td>\n",
              "      <td>0</td>\n",
              "      <td>0</td>\n",
              "      <td>34</td>\n",
              "      <td>56.95</td>\n",
              "      <td>1</td>\n",
              "      <td>0</td>\n",
              "      <td>0</td>\n",
              "      <td>1</td>\n",
              "      <td>0</td>\n",
              "      <td>0</td>\n",
              "      <td>0</td>\n",
              "      <td>0</td>\n",
              "      <td>1</td>\n",
              "      <td>1</td>\n",
              "      <td>0</td>\n",
              "      <td>0</td>\n",
              "      <td>0</td>\n",
              "      <td>0</td>\n",
              "      <td>1</td>\n",
              "      <td>1</td>\n",
              "      <td>0</td>\n",
              "      <td>0</td>\n",
              "      <td>1</td>\n",
              "      <td>0</td>\n",
              "      <td>0</td>\n",
              "      <td>1</td>\n",
              "      <td>0</td>\n",
              "      <td>0</td>\n",
              "      <td>0</td>\n",
              "      <td>0</td>\n",
              "      <td>1</td>\n",
              "      <td>0</td>\n",
              "      <td>0</td>\n",
              "      <td>1</td>\n",
              "      <td>0</td>\n",
              "      <td>0</td>\n",
              "    </tr>\n",
              "  </tbody>\n",
              "</table>\n",
              "</div>\n",
              "      <button class=\"colab-df-convert\" onclick=\"convertToInteractive('df-bfc784f3-61c9-41cb-ab82-c9671649d25f')\"\n",
              "              title=\"Convert this dataframe to an interactive table.\"\n",
              "              style=\"display:none;\">\n",
              "        \n",
              "  <svg xmlns=\"http://www.w3.org/2000/svg\" height=\"24px\"viewBox=\"0 0 24 24\"\n",
              "       width=\"24px\">\n",
              "    <path d=\"M0 0h24v24H0V0z\" fill=\"none\"/>\n",
              "    <path d=\"M18.56 5.44l.94 2.06.94-2.06 2.06-.94-2.06-.94-.94-2.06-.94 2.06-2.06.94zm-11 1L8.5 8.5l.94-2.06 2.06-.94-2.06-.94L8.5 2.5l-.94 2.06-2.06.94zm10 10l.94 2.06.94-2.06 2.06-.94-2.06-.94-.94-2.06-.94 2.06-2.06.94z\"/><path d=\"M17.41 7.96l-1.37-1.37c-.4-.4-.92-.59-1.43-.59-.52 0-1.04.2-1.43.59L10.3 9.45l-7.72 7.72c-.78.78-.78 2.05 0 2.83L4 21.41c.39.39.9.59 1.41.59.51 0 1.02-.2 1.41-.59l7.78-7.78 2.81-2.81c.8-.78.8-2.07 0-2.86zM5.41 20L4 18.59l7.72-7.72 1.47 1.35L5.41 20z\"/>\n",
              "  </svg>\n",
              "      </button>\n",
              "      \n",
              "  <style>\n",
              "    .colab-df-container {\n",
              "      display:flex;\n",
              "      flex-wrap:wrap;\n",
              "      gap: 12px;\n",
              "    }\n",
              "\n",
              "    .colab-df-convert {\n",
              "      background-color: #E8F0FE;\n",
              "      border: none;\n",
              "      border-radius: 50%;\n",
              "      cursor: pointer;\n",
              "      display: none;\n",
              "      fill: #1967D2;\n",
              "      height: 32px;\n",
              "      padding: 0 0 0 0;\n",
              "      width: 32px;\n",
              "    }\n",
              "\n",
              "    .colab-df-convert:hover {\n",
              "      background-color: #E2EBFA;\n",
              "      box-shadow: 0px 1px 2px rgba(60, 64, 67, 0.3), 0px 1px 3px 1px rgba(60, 64, 67, 0.15);\n",
              "      fill: #174EA6;\n",
              "    }\n",
              "\n",
              "    [theme=dark] .colab-df-convert {\n",
              "      background-color: #3B4455;\n",
              "      fill: #D2E3FC;\n",
              "    }\n",
              "\n",
              "    [theme=dark] .colab-df-convert:hover {\n",
              "      background-color: #434B5C;\n",
              "      box-shadow: 0px 1px 3px 1px rgba(0, 0, 0, 0.15);\n",
              "      filter: drop-shadow(0px 1px 2px rgba(0, 0, 0, 0.3));\n",
              "      fill: #FFFFFF;\n",
              "    }\n",
              "  </style>\n",
              "\n",
              "      <script>\n",
              "        const buttonEl =\n",
              "          document.querySelector('#df-bfc784f3-61c9-41cb-ab82-c9671649d25f button.colab-df-convert');\n",
              "        buttonEl.style.display =\n",
              "          google.colab.kernel.accessAllowed ? 'block' : 'none';\n",
              "\n",
              "        async function convertToInteractive(key) {\n",
              "          const element = document.querySelector('#df-bfc784f3-61c9-41cb-ab82-c9671649d25f');\n",
              "          const dataTable =\n",
              "            await google.colab.kernel.invokeFunction('convertToInteractive',\n",
              "                                                     [key], {});\n",
              "          if (!dataTable) return;\n",
              "\n",
              "          const docLinkHtml = 'Like what you see? Visit the ' +\n",
              "            '<a target=\"_blank\" href=https://colab.research.google.com/notebooks/data_table.ipynb>data table notebook</a>'\n",
              "            + ' to learn more about interactive tables.';\n",
              "          element.innerHTML = '';\n",
              "          dataTable['output_type'] = 'display_data';\n",
              "          await google.colab.output.renderOutput(dataTable, element);\n",
              "          const docLink = document.createElement('div');\n",
              "          docLink.innerHTML = docLinkHtml;\n",
              "          element.appendChild(docLink);\n",
              "        }\n",
              "      </script>\n",
              "    </div>\n",
              "  </div>\n",
              "  "
            ]
          },
          "metadata": {},
          "execution_count": 15
        }
      ]
    },
    {
      "cell_type": "code",
      "source": [
        "ax = sns.countplot(x='Churn', data=dados_final)"
      ],
      "metadata": {
        "colab": {
          "base_uri": "https://localhost:8080/",
          "height": 449
        },
        "id": "3A8r1vluHxEI",
        "outputId": "1640da24-2bc1-412f-ecde-be9053ec34b3"
      },
      "execution_count": 16,
      "outputs": [
        {
          "output_type": "display_data",
          "data": {
            "text/plain": [
              "<Figure size 640x480 with 1 Axes>"
            ],
            "image/png": "[encoded data removed]"
          },
          "metadata": {}
        }
      ]
    },
    {
      "cell_type": "code",
      "source": [
        "# k-nearest neighbors (KNN)\n",
        "\n",
        "# A classificação é interpretada pelo valor de 'k'\n",
        "# k muito pequeno -> overfitting\n",
        "# k muito grande -> underfitting"
      ],
      "metadata": {
        "id": "WuuaEKKRH6rI"
      },
      "execution_count": 17,
      "outputs": []
    },
    {
      "cell_type": "code",
      "source": [
        "Xclient_1"
      ],
      "metadata": {
        "colab": {
          "base_uri": "https://localhost:8080/"
        },
        "id": "BH6nNzCYRRHd",
        "outputId": "3137ac1c-03ea-4f9c-c796-c1297ce3b801"
      },
      "execution_count": 18,
      "outputs": [
        {
          "output_type": "execute_result",
          "data": {
            "text/plain": [
              "[[0,\n",
              "  0,\n",
              "  1,\n",
              "  1,\n",
              "  0,\n",
              "  0,\n",
              "  39.9,\n",
              "  1,\n",
              "  0,\n",
              "  0,\n",
              "  0,\n",
              "  1,\n",
              "  0,\n",
              "  1,\n",
              "  0,\n",
              "  0,\n",
              "  0,\n",
              "  0,\n",
              "  1,\n",
              "  1,\n",
              "  1,\n",
              "  0,\n",
              "  0,\n",
              "  1,\n",
              "  0,\n",
              "  1,\n",
              "  0,\n",
              "  0,\n",
              "  0,\n",
              "  0,\n",
              "  1,\n",
              "  0,\n",
              "  0,\n",
              "  1,\n",
              "  0,\n",
              "  0,\n",
              "  0,\n",
              "  1]]"
            ]
          },
          "metadata": {},
          "execution_count": 18
        }
      ]
    },
    {
      "cell_type": "code",
      "source": [
        "# Yclient_1 = ???"
      ],
      "metadata": {
        "id": "usvi2kBeRRzN"
      },
      "execution_count": 19,
      "outputs": []
    },
    {
      "cell_type": "code",
      "source": [
        "# Divisão em inputs e outputs\n",
        "\n",
        "x = dados_final.drop('Churn', axis=1)\n",
        "y = dados_final['Churn']"
      ],
      "metadata": {
        "id": "niYtiQFmRbuN"
      },
      "execution_count": 20,
      "outputs": []
    },
    {
      "cell_type": "code",
      "source": [
        "# biblioteca para padronizar os dados\n",
        "\n",
        "from sklearn.preprocessing import StandardScaler"
      ],
      "metadata": {
        "id": "vGZZZ_jQRn2x"
      },
      "execution_count": 21,
      "outputs": []
    },
    {
      "cell_type": "code",
      "source": [
        "norm = StandardScaler()\n",
        "\n",
        "X_normalizado = norm.fit_transform(X)\n",
        "X_normalizado"
      ],
      "metadata": {
        "colab": {
          "base_uri": "https://localhost:8080/"
        },
        "id": "lLCUyIO4R1vi",
        "outputId": "5dd74dda-0611-4cda-b2f9-fc9cdc79b7ce"
      },
      "execution_count": 22,
      "outputs": [
        {
          "output_type": "execute_result",
          "data": {
            "text/plain": [
              "array([[ 1.26542767, -0.52771004, -3.06083934, ...,  1.30373042,\n",
              "        -0.47912706, -0.4360152 ],\n",
              "       [-0.79024667, -0.52771004,  0.32670777, ..., -0.76702973,\n",
              "         2.08712905, -0.4360152 ],\n",
              "       [-0.79024667, -0.52771004,  0.32670777, ..., -0.76702973,\n",
              "         2.08712905, -0.4360152 ],\n",
              "       ...,\n",
              "       [-0.79024667, -0.52771004,  0.32670777, ...,  1.30373042,\n",
              "        -0.47912706, -0.4360152 ],\n",
              "       [-0.79024667, -0.52771004,  0.32670777, ..., -0.76702973,\n",
              "        -0.47912706, -0.4360152 ],\n",
              "       [-0.79024667, -0.52771004,  0.32670777, ..., -0.76702973,\n",
              "        -0.47912706, -0.4360152 ]])"
            ]
          },
          "metadata": {},
          "execution_count": 22
        }
      ]
    },
    {
      "cell_type": "code",
      "source": [
        "X_normalizado[0]"
      ],
      "metadata": {
        "colab": {
          "base_uri": "https://localhost:8080/"
        },
        "id": "SsVY05zMSZN-",
        "outputId": "7c90e728-f104-459d-8e9c-449ee4806851"
      },
      "execution_count": 23,
      "outputs": [
        {
          "output_type": "execute_result",
          "data": {
            "text/plain": [
              "array([ 1.26542767, -0.52771004, -3.06083934,  0.81482091, -0.41318358,\n",
              "       -1.10771815, -1.3217706 , -0.88447396,  3.18604176, -0.83366906,\n",
              "        1.51268338, -1.04386816, -0.44617598,  0.86827317, -0.44617598,\n",
              "       -0.51721942, -0.95834643, -0.44617598,  1.57389661,  1.04285807,\n",
              "       -0.44617598, -0.64211419,  0.87979784, -0.44617598, -0.52426638,\n",
              "        1.18690873, -0.44617598, -0.77707385,  1.20311799, -0.44617598,\n",
              "       -0.78976268, -0.44648735,  0.73788726, -0.41989297, -0.42576817,\n",
              "        1.30373042, -0.47912706, -0.4360152 ])"
            ]
          },
          "metadata": {},
          "execution_count": 23
        }
      ]
    },
    {
      "cell_type": "code",
      "source": [
        "Xclient_1_normalizado = norm.transform(pd.DataFrame(Xclient_1, columns = X.columns))\n",
        "Xclient_1_normalizado"
      ],
      "metadata": {
        "colab": {
          "base_uri": "https://localhost:8080/"
        },
        "id": "6DWGYxRJSiNt",
        "outputId": "6c7a057f-e2b3-458e-93d7-7ca6112ac3ed"
      },
      "execution_count": 24,
      "outputs": [
        {
          "output_type": "execute_result",
          "data": {
            "text/plain": [
              "array([[-0.79024667, -0.52771004,  0.32670777,  0.81482091, -0.41318358,\n",
              "        -1.14938255, -0.97236043,  1.13061554, -0.31386908, -0.83366906,\n",
              "        -0.66107688,  0.95797538, -0.44617598,  0.86827317, -0.44617598,\n",
              "        -0.51721942, -0.95834643, -0.44617598,  1.57389661,  1.04285807,\n",
              "         2.24126814, -0.64211419, -1.13662476,  2.24126814, -0.52426638,\n",
              "         1.18690873, -0.44617598, -0.77707385, -0.83117367, -0.44617598,\n",
              "         1.26620316, -0.44648735, -1.35522058,  2.38155929, -0.42576817,\n",
              "        -0.76702973, -0.47912706,  2.293498  ]])"
            ]
          },
          "metadata": {},
          "execution_count": 24
        }
      ]
    },
    {
      "cell_type": "markdown",
      "source": [
        "Distância Euclidiana\n",
        "\n",
        "![image.png](data:image/png;base64,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)"
      ],
      "metadata": {
        "id": "uJI0jrMATcVT"
      }
    },
    {
      "cell_type": "code",
      "source": [
        "import numpy as np"
      ],
      "metadata": {
        "id": "ZoYXJ9WXTgN5"
      },
      "execution_count": 25,
      "outputs": []
    },
    {
      "cell_type": "code",
      "source": [
        "a = Xclient_1_normalizado"
      ],
      "metadata": {
        "id": "E74-DLtxTrn3"
      },
      "execution_count": 26,
      "outputs": []
    },
    {
      "cell_type": "code",
      "source": [
        "b = X_normalizado[0]"
      ],
      "metadata": {
        "id": "pO3FuJ9hTv2C"
      },
      "execution_count": 27,
      "outputs": []
    },
    {
      "cell_type": "code",
      "source": [
        "#1 começamos subtraindo\n",
        "\n",
        "a - b"
      ],
      "metadata": {
        "colab": {
          "base_uri": "https://localhost:8080/"
        },
        "id": "1_S-eMWfTyN_",
        "outputId": "9464ff01-1862-4a76-9e1f-d8fa73232a70"
      },
      "execution_count": 28,
      "outputs": [
        {
          "output_type": "execute_result",
          "data": {
            "text/plain": [
              "array([[-2.05567434,  0.        ,  3.38754711,  0.        ,  0.        ,\n",
              "        -0.0416644 ,  0.34941017,  2.0150895 , -3.49991084,  0.        ,\n",
              "        -2.17376025,  2.00184354,  0.        ,  0.        ,  0.        ,\n",
              "         0.        ,  0.        ,  0.        ,  0.        ,  0.        ,\n",
              "         2.68744412,  0.        , -2.01642259,  2.68744412,  0.        ,\n",
              "         0.        ,  0.        ,  0.        , -2.03429166,  0.        ,\n",
              "         2.05596584,  0.        , -2.09310784,  2.80145225,  0.        ,\n",
              "        -2.07076016,  0.        ,  2.72951321]])"
            ]
          },
          "metadata": {},
          "execution_count": 28
        }
      ]
    },
    {
      "cell_type": "code",
      "source": [
        "#2 depois realizamos a exponenciação\n",
        "\n",
        "np.square(a-b)"
      ],
      "metadata": {
        "colab": {
          "base_uri": "https://localhost:8080/"
        },
        "id": "SxufibGxT5FT",
        "outputId": "6a27fc07-9606-4f13-f076-a3ceca0a35ff"
      },
      "execution_count": 29,
      "outputs": [
        {
          "output_type": "execute_result",
          "data": {
            "text/plain": [
              "array([[4.22579699e+00, 0.00000000e+00, 1.14754754e+01, 0.00000000e+00,\n",
              "        0.00000000e+00, 1.73592202e-03, 1.22087466e-01, 4.06058568e+00,\n",
              "        1.22493759e+01, 0.00000000e+00, 4.72523363e+00, 4.00737757e+00,\n",
              "        0.00000000e+00, 0.00000000e+00, 0.00000000e+00, 0.00000000e+00,\n",
              "        0.00000000e+00, 0.00000000e+00, 0.00000000e+00, 0.00000000e+00,\n",
              "        7.22235589e+00, 0.00000000e+00, 4.06596007e+00, 7.22235589e+00,\n",
              "        0.00000000e+00, 0.00000000e+00, 0.00000000e+00, 0.00000000e+00,\n",
              "        4.13834258e+00, 0.00000000e+00, 4.22699553e+00, 0.00000000e+00,\n",
              "        4.38110042e+00, 7.84813473e+00, 0.00000000e+00, 4.28804763e+00,\n",
              "        0.00000000e+00, 7.45024235e+00]])"
            ]
          },
          "metadata": {},
          "execution_count": 29
        }
      ]
    },
    {
      "cell_type": "code",
      "source": [
        "#3 a soma\n",
        "\n",
        "np.sum(np.square(a-b))"
      ],
      "metadata": {
        "colab": {
          "base_uri": "https://localhost:8080/"
        },
        "id": "4ZNZf87yUi5g",
        "outputId": "9dc1b033-e9fa-4eb7-cdf4-6746c3c8a2cb"
      },
      "execution_count": 30,
      "outputs": [
        {
          "output_type": "execute_result",
          "data": {
            "text/plain": [
              "91.7112036526817"
            ]
          },
          "metadata": {},
          "execution_count": 30
        }
      ]
    },
    {
      "cell_type": "code",
      "source": [
        "#4 então tiramos a raíz da nossa função\n",
        "\n",
        "np.sqrt(91.7112036526817)\n",
        "\n",
        "# esse valor representa a distancia do x_cliente1 do cliente '0' da nossa base de dados."
      ],
      "metadata": {
        "colab": {
          "base_uri": "https://localhost:8080/"
        },
        "id": "UQ3UIkXAUpSy",
        "outputId": "2f15afaa-112f-4571-fdc2-d79123fad805"
      },
      "execution_count": 31,
      "outputs": [
        {
          "output_type": "execute_result",
          "data": {
            "text/plain": [
              "9.576596663360199"
            ]
          },
          "metadata": {},
          "execution_count": 31
        }
      ]
    },
    {
      "cell_type": "markdown",
      "source": [
        "##Implementando o modelo"
      ],
      "metadata": {
        "id": "YRdLtuDtXjUL"
      }
    },
    {
      "cell_type": "code",
      "source": [
        "# Biblioteca para divisão dos dados\n",
        "\n",
        "from sklearn.model_selection import train_test_split"
      ],
      "metadata": {
        "id": "VjOpsHfXYhPQ"
      },
      "execution_count": 32,
      "outputs": []
    },
    {
      "cell_type": "code",
      "source": [
        "X_treino, X_teste, y_treino, y_teste = train_test_split(X_normalizado, y, test_size=0.3, random_state=123)"
      ],
      "metadata": {
        "id": "yod4AY2eY424"
      },
      "execution_count": 33,
      "outputs": []
    },
    {
      "cell_type": "markdown",
      "source": [
        "## Treino e Teste"
      ],
      "metadata": {
        "id": "4i00P19XZWyB"
      }
    },
    {
      "cell_type": "code",
      "source": [
        "# Biblioteca para divisão dos dados\n",
        "\n",
        "from sklearn.neighbors import KNeighborsClassifier"
      ],
      "metadata": {
        "id": "4oD7mdGWXm3P"
      },
      "execution_count": 34,
      "outputs": []
    },
    {
      "cell_type": "code",
      "source": [
        "# instanciar o modelo (criamos o modelo) - por padrão são 5 vizinhos\n",
        "\n",
        "knn = KNeighborsClassifier(metric='euclidean')"
      ],
      "metadata": {
        "id": "jSZDIQ61X4Wd"
      },
      "execution_count": 35,
      "outputs": []
    },
    {
      "cell_type": "code",
      "source": [
        "# treinando o modelo com os dados de treino\n",
        "\n",
        "knn.fit(X_treino, y_treino)"
      ],
      "metadata": {
        "colab": {
          "base_uri": "https://localhost:8080/",
          "height": 74
        },
        "id": "1UQRLNluYLgG",
        "outputId": "5ae8bdfc-9c94-49b8-b77a-31920f06a07e"
      },
      "execution_count": 36,
      "outputs": [
        {
          "output_type": "execute_result",
          "data": {
            "text/plain": [
              "KNeighborsClassifier(metric='euclidean')"
            ],
            "text/html": [
              "<style>#sk-container-id-1 {color: black;background-color: white;}#sk-container-id-1 pre{padding: 0;}#sk-container-id-1 div.sk-toggleable {background-color: white;}#sk-container-id-1 label.sk-toggleable__label {cursor: pointer;display: block;width: 100%;margin-bottom: 0;padding: 0.3em;box-sizing: border-box;text-align: center;}#sk-container-id-1 label.sk-toggleable__label-arrow:before {content: \"▸\";float: left;margin-right: 0.25em;color: #696969;}#sk-container-id-1 label.sk-toggleable__label-arrow:hover:before {color: black;}#sk-container-id-1 div.sk-estimator:hover label.sk-toggleable__label-arrow:before {color: black;}#sk-container-id-1 div.sk-toggleable__content {max-height: 0;max-width: 0;overflow: hidden;text-align: left;background-color: #f0f8ff;}#sk-container-id-1 div.sk-toggleable__content pre {margin: 0.2em;color: black;border-radius: 0.25em;background-color: #f0f8ff;}#sk-container-id-1 input.sk-toggleable__control:checked~div.sk-toggleable__content {max-height: 200px;max-width: 100%;overflow: auto;}#sk-container-id-1 input.sk-toggleable__control:checked~label.sk-toggleable__label-arrow:before {content: \"▾\";}#sk-container-id-1 div.sk-estimator input.sk-toggleable__control:checked~label.sk-toggleable__label {background-color: #d4ebff;}#sk-container-id-1 div.sk-label input.sk-toggleable__control:checked~label.sk-toggleable__label {background-color: #d4ebff;}#sk-container-id-1 input.sk-hidden--visually {border: 0;clip: rect(1px 1px 1px 1px);clip: rect(1px, 1px, 1px, 1px);height: 1px;margin: -1px;overflow: hidden;padding: 0;position: absolute;width: 1px;}#sk-container-id-1 div.sk-estimator {font-family: monospace;background-color: #f0f8ff;border: 1px dotted black;border-radius: 0.25em;box-sizing: border-box;margin-bottom: 0.5em;}#sk-container-id-1 div.sk-estimator:hover {background-color: #d4ebff;}#sk-container-id-1 div.sk-parallel-item::after {content: \"\";width: 100%;border-bottom: 1px solid gray;flex-grow: 1;}#sk-container-id-1 div.sk-label:hover label.sk-toggleable__label {background-color: #d4ebff;}#sk-container-id-1 div.sk-serial::before {content: \"\";position: absolute;border-left: 1px solid gray;box-sizing: border-box;top: 0;bottom: 0;left: 50%;z-index: 0;}#sk-container-id-1 div.sk-serial {display: flex;flex-direction: column;align-items: center;background-color: white;padding-right: 0.2em;padding-left: 0.2em;position: relative;}#sk-container-id-1 div.sk-item {position: relative;z-index: 1;}#sk-container-id-1 div.sk-parallel {display: flex;align-items: stretch;justify-content: center;background-color: white;position: relative;}#sk-container-id-1 div.sk-item::before, #sk-container-id-1 div.sk-parallel-item::before {content: \"\";position: absolute;border-left: 1px solid gray;box-sizing: border-box;top: 0;bottom: 0;left: 50%;z-index: -1;}#sk-container-id-1 div.sk-parallel-item {display: flex;flex-direction: column;z-index: 1;position: relative;background-color: white;}#sk-container-id-1 div.sk-parallel-item:first-child::after {align-self: flex-end;width: 50%;}#sk-container-id-1 div.sk-parallel-item:last-child::after {align-self: flex-start;width: 50%;}#sk-container-id-1 div.sk-parallel-item:only-child::after {width: 0;}#sk-container-id-1 div.sk-dashed-wrapped {border: 1px dashed gray;margin: 0 0.4em 0.5em 0.4em;box-sizing: border-box;padding-bottom: 0.4em;background-color: white;}#sk-container-id-1 div.sk-label label {font-family: monospace;font-weight: bold;display: inline-block;line-height: 1.2em;}#sk-container-id-1 div.sk-label-container {text-align: center;}#sk-container-id-1 div.sk-container {/* jupyter's `normalize.less` sets `[hidden] { display: none; }` but bootstrap.min.css set `[hidden] { display: none !important; }` so we also need the `!important` here to be able to override the default hidden behavior on the sphinx rendered scikit-learn.org. See: https://github.com/scikit-learn/scikit-learn/issues/21755 */display: inline-block !important;position: relative;}#sk-container-id-1 div.sk-text-repr-fallback {display: none;}</style><div id=\"sk-container-id-1\" class=\"sk-top-container\"><div class=\"sk-text-repr-fallback\"><pre>KNeighborsClassifier(metric=&#x27;euclidean&#x27;)</pre><b>In a Jupyter environment, please rerun this cell to show the HTML representation or trust the notebook. <br />On GitHub, the HTML representation is unable to render, please try loading this page with nbviewer.org.</b></div><div class=\"sk-container\" hidden><div class=\"sk-item\"><div class=\"sk-estimator sk-toggleable\"><input class=\"sk-toggleable__control sk-hidden--visually\" id=\"sk-estimator-id-1\" type=\"checkbox\" checked><label for=\"sk-estimator-id-1\" class=\"sk-toggleable__label sk-toggleable__label-arrow\">KNeighborsClassifier</label><div class=\"sk-toggleable__content\"><pre>KNeighborsClassifier(metric=&#x27;euclidean&#x27;)</pre></div></div></div></div></div>"
            ]
          },
          "metadata": {},
          "execution_count": 36
        }
      ]
    },
    {
      "cell_type": "code",
      "source": [
        "# testando o modelo com os dados de teste\n",
        "\n",
        "predito_knn = knn.predict(X_teste)\n",
        "predito_knn"
      ],
      "metadata": {
        "colab": {
          "base_uri": "https://localhost:8080/"
        },
        "id": "Ag91iWcpYcOv",
        "outputId": "1407ce9d-9a05-44ee-8b2b-450cf3df0234"
      },
      "execution_count": 37,
      "outputs": [
        {
          "output_type": "execute_result",
          "data": {
            "text/plain": [
              "array([1, 0, 0, ..., 0, 1, 1])"
            ]
          },
          "metadata": {},
          "execution_count": 37
        }
      ]
    },
    {
      "cell_type": "code",
      "source": [
        "X_treino"
      ],
      "metadata": {
        "colab": {
          "base_uri": "https://localhost:8080/"
        },
        "id": "yDvKdduEahoj",
        "outputId": "479f19b2-d5ff-4b64-9c05-50280451c3a0"
      },
      "execution_count": 38,
      "outputs": [
        {
          "output_type": "execute_result",
          "data": {
            "text/plain": [
              "array([[-0.79024667, -0.52771004, -3.06083934, ..., -0.76702973,\n",
              "         2.08712905, -0.4360152 ],\n",
              "       [ 1.26542767,  1.89498006,  0.32670777, ..., -0.76702973,\n",
              "         2.08712905, -0.4360152 ],\n",
              "       [-0.79024667, -0.52771004,  0.32670777, ...,  1.30373042,\n",
              "        -0.47912706, -0.4360152 ],\n",
              "       ...,\n",
              "       [ 1.26542767,  1.89498006,  0.32670777, ..., -0.76702973,\n",
              "         2.08712905, -0.4360152 ],\n",
              "       [ 1.26542767,  1.89498006,  0.32670777, ...,  1.30373042,\n",
              "        -0.47912706, -0.4360152 ],\n",
              "       [-0.79024667, -0.52771004,  0.32670777, ...,  1.30373042,\n",
              "        -0.47912706, -0.4360152 ]])"
            ]
          },
          "metadata": {},
          "execution_count": 38
        }
      ]
    },
    {
      "cell_type": "code",
      "source": [
        "y_treino"
      ],
      "metadata": {
        "colab": {
          "base_uri": "https://localhost:8080/"
        },
        "id": "2YGpZalx2iWf",
        "outputId": "3f89bd59-5672-43f4-9c4a-54f8f2775278"
      },
      "execution_count": 39,
      "outputs": [
        {
          "output_type": "execute_result",
          "data": {
            "text/plain": [
              "4831    0\n",
              "5077    0\n",
              "9023    1\n",
              "4424    1\n",
              "5236    0\n",
              "       ..\n",
              "9785    1\n",
              "7763    1\n",
              "5218    0\n",
              "1346    1\n",
              "3582    0\n",
              "Name: Churn, Length: 7243, dtype: int64"
            ]
          },
          "metadata": {},
          "execution_count": 39
        }
      ]
    },
    {
      "cell_type": "code",
      "source": [
        "# escolho utilizar mediana, porque é o valor central dos nossos dados ordenados\n",
        "\n",
        "np.median(X_treino)"
      ],
      "metadata": {
        "colab": {
          "base_uri": "https://localhost:8080/"
        },
        "id": "kaVquu4W2jgv",
        "outputId": "dafe3b0b-09c3-4a11-9d53-ba3e83f91152"
      },
      "execution_count": 41,
      "outputs": [
        {
          "output_type": "execute_result",
          "data": {
            "text/plain": [
              "-0.4461759755508453"
            ]
          },
          "metadata": {},
          "execution_count": 41
        }
      ]
    },
    {
      "cell_type": "code",
      "source": [
        "# Biblioteca para criarmos o modelo de machine learning\n",
        "\n",
        "from sklearn.naive_bayes import BernoulliNB"
      ],
      "metadata": {
        "id": "B8oZ5VDN2up0"
      },
      "execution_count": 49,
      "outputs": []
    },
    {
      "cell_type": "code",
      "source": [
        "# criamos o modelo\n",
        "\n",
        "bnb = BernoulliNB(binarize=0.44)"
      ],
      "metadata": {
        "id": "4TRaV9hC3MTz"
      },
      "execution_count": 57,
      "outputs": []
    },
    {
      "cell_type": "code",
      "source": [
        "bnb.fit(X_treino, y_treino)"
      ],
      "metadata": {
        "colab": {
          "base_uri": "https://localhost:8080/",
          "height": 74
        },
        "id": "q6BnFEIJ3lkD",
        "outputId": "f7307aec-81f9-46da-c1c2-4cb16374b5a8"
      },
      "execution_count": 58,
      "outputs": [
        {
          "output_type": "execute_result",
          "data": {
            "text/plain": [
              "BernoulliNB(binarize=0.44)"
            ],
            "text/html": [
              "<style>#sk-container-id-2 {color: black;background-color: white;}#sk-container-id-2 pre{padding: 0;}#sk-container-id-2 div.sk-toggleable {background-color: white;}#sk-container-id-2 label.sk-toggleable__label {cursor: pointer;display: block;width: 100%;margin-bottom: 0;padding: 0.3em;box-sizing: border-box;text-align: center;}#sk-container-id-2 label.sk-toggleable__label-arrow:before {content: \"▸\";float: left;margin-right: 0.25em;color: #696969;}#sk-container-id-2 label.sk-toggleable__label-arrow:hover:before {color: black;}#sk-container-id-2 div.sk-estimator:hover label.sk-toggleable__label-arrow:before {color: black;}#sk-container-id-2 div.sk-toggleable__content {max-height: 0;max-width: 0;overflow: hidden;text-align: left;background-color: #f0f8ff;}#sk-container-id-2 div.sk-toggleable__content pre {margin: 0.2em;color: black;border-radius: 0.25em;background-color: #f0f8ff;}#sk-container-id-2 input.sk-toggleable__control:checked~div.sk-toggleable__content {max-height: 200px;max-width: 100%;overflow: auto;}#sk-container-id-2 input.sk-toggleable__control:checked~label.sk-toggleable__label-arrow:before {content: \"▾\";}#sk-container-id-2 div.sk-estimator input.sk-toggleable__control:checked~label.sk-toggleable__label {background-color: #d4ebff;}#sk-container-id-2 div.sk-label input.sk-toggleable__control:checked~label.sk-toggleable__label {background-color: #d4ebff;}#sk-container-id-2 input.sk-hidden--visually {border: 0;clip: rect(1px 1px 1px 1px);clip: rect(1px, 1px, 1px, 1px);height: 1px;margin: -1px;overflow: hidden;padding: 0;position: absolute;width: 1px;}#sk-container-id-2 div.sk-estimator {font-family: monospace;background-color: #f0f8ff;border: 1px dotted black;border-radius: 0.25em;box-sizing: border-box;margin-bottom: 0.5em;}#sk-container-id-2 div.sk-estimator:hover {background-color: #d4ebff;}#sk-container-id-2 div.sk-parallel-item::after {content: \"\";width: 100%;border-bottom: 1px solid gray;flex-grow: 1;}#sk-container-id-2 div.sk-label:hover label.sk-toggleable__label {background-color: #d4ebff;}#sk-container-id-2 div.sk-serial::before {content: \"\";position: absolute;border-left: 1px solid gray;box-sizing: border-box;top: 0;bottom: 0;left: 50%;z-index: 0;}#sk-container-id-2 div.sk-serial {display: flex;flex-direction: column;align-items: center;background-color: white;padding-right: 0.2em;padding-left: 0.2em;position: relative;}#sk-container-id-2 div.sk-item {position: relative;z-index: 1;}#sk-container-id-2 div.sk-parallel {display: flex;align-items: stretch;justify-content: center;background-color: white;position: relative;}#sk-container-id-2 div.sk-item::before, #sk-container-id-2 div.sk-parallel-item::before {content: \"\";position: absolute;border-left: 1px solid gray;box-sizing: border-box;top: 0;bottom: 0;left: 50%;z-index: -1;}#sk-container-id-2 div.sk-parallel-item {display: flex;flex-direction: column;z-index: 1;position: relative;background-color: white;}#sk-container-id-2 div.sk-parallel-item:first-child::after {align-self: flex-end;width: 50%;}#sk-container-id-2 div.sk-parallel-item:last-child::after {align-self: flex-start;width: 50%;}#sk-container-id-2 div.sk-parallel-item:only-child::after {width: 0;}#sk-container-id-2 div.sk-dashed-wrapped {border: 1px dashed gray;margin: 0 0.4em 0.5em 0.4em;box-sizing: border-box;padding-bottom: 0.4em;background-color: white;}#sk-container-id-2 div.sk-label label {font-family: monospace;font-weight: bold;display: inline-block;line-height: 1.2em;}#sk-container-id-2 div.sk-label-container {text-align: center;}#sk-container-id-2 div.sk-container {/* jupyter's `normalize.less` sets `[hidden] { display: none; }` but bootstrap.min.css set `[hidden] { display: none !important; }` so we also need the `!important` here to be able to override the default hidden behavior on the sphinx rendered scikit-learn.org. See: https://github.com/scikit-learn/scikit-learn/issues/21755 */display: inline-block !important;position: relative;}#sk-container-id-2 div.sk-text-repr-fallback {display: none;}</style><div id=\"sk-container-id-2\" class=\"sk-top-container\"><div class=\"sk-text-repr-fallback\"><pre>BernoulliNB(binarize=0.44)</pre><b>In a Jupyter environment, please rerun this cell to show the HTML representation or trust the notebook. <br />On GitHub, the HTML representation is unable to render, please try loading this page with nbviewer.org.</b></div><div class=\"sk-container\" hidden><div class=\"sk-item\"><div class=\"sk-estimator sk-toggleable\"><input class=\"sk-toggleable__control sk-hidden--visually\" id=\"sk-estimator-id-2\" type=\"checkbox\" checked><label for=\"sk-estimator-id-2\" class=\"sk-toggleable__label sk-toggleable__label-arrow\">BernoulliNB</label><div class=\"sk-toggleable__content\"><pre>BernoulliNB(binarize=0.44)</pre></div></div></div></div></div>"
            ]
          },
          "metadata": {},
          "execution_count": 58
        }
      ]
    },
    {
      "cell_type": "code",
      "source": [
        "predito_BNb = bnb.predict(X_teste)"
      ],
      "metadata": {
        "id": "lDWXq72K33tE"
      },
      "execution_count": 60,
      "outputs": []
    },
    {
      "cell_type": "code",
      "source": [
        "predito_BNb"
      ],
      "metadata": {
        "colab": {
          "base_uri": "https://localhost:8080/"
        },
        "id": "AR6QgELt5c-k",
        "outputId": "19551456-8e6b-479c-9ad7-bf3976fae61c"
      },
      "execution_count": 61,
      "outputs": [
        {
          "output_type": "execute_result",
          "data": {
            "text/plain": [
              "array([1, 0, 0, ..., 1, 1, 1])"
            ]
          },
          "metadata": {},
          "execution_count": 61
        }
      ]
    },
    {
      "cell_type": "code",
      "source": [
        "# biblioteca para criarmos o modelo de machine learning\n",
        "\n",
        "from sklearn.tree import DecisionTreeClassifier "
      ],
      "metadata": {
        "id": "xrtAL4SS5iER"
      },
      "execution_count": 62,
      "outputs": []
    },
    {
      "cell_type": "code",
      "source": [
        "# instanciando o modelo\n",
        "\n",
        "dtc = DecisionTreeClassifier(criterion='entropy', random_state=42)"
      ],
      "metadata": {
        "id": "b00Vyq4f96UA"
      },
      "execution_count": 63,
      "outputs": []
    },
    {
      "cell_type": "code",
      "source": [
        "# treinar o modelo\n",
        "\n",
        "dtc.fit(X_treino, y_treino)"
      ],
      "metadata": {
        "colab": {
          "base_uri": "https://localhost:8080/",
          "height": 74
        },
        "id": "PUUR4PWs-HMW",
        "outputId": "9a73d78d-70e8-41d0-8aaa-a667ce56e239"
      },
      "execution_count": 64,
      "outputs": [
        {
          "output_type": "execute_result",
          "data": {
            "text/plain": [
              "DecisionTreeClassifier(criterion='entropy', random_state=42)"
            ],
            "text/html": [
              "<style>#sk-container-id-3 {color: black;background-color: white;}#sk-container-id-3 pre{padding: 0;}#sk-container-id-3 div.sk-toggleable {background-color: white;}#sk-container-id-3 label.sk-toggleable__label {cursor: pointer;display: block;width: 100%;margin-bottom: 0;padding: 0.3em;box-sizing: border-box;text-align: center;}#sk-container-id-3 label.sk-toggleable__label-arrow:before {content: \"▸\";float: left;margin-right: 0.25em;color: #696969;}#sk-container-id-3 label.sk-toggleable__label-arrow:hover:before {color: black;}#sk-container-id-3 div.sk-estimator:hover label.sk-toggleable__label-arrow:before {color: black;}#sk-container-id-3 div.sk-toggleable__content {max-height: 0;max-width: 0;overflow: hidden;text-align: left;background-color: #f0f8ff;}#sk-container-id-3 div.sk-toggleable__content pre {margin: 0.2em;color: black;border-radius: 0.25em;background-color: #f0f8ff;}#sk-container-id-3 input.sk-toggleable__control:checked~div.sk-toggleable__content {max-height: 200px;max-width: 100%;overflow: auto;}#sk-container-id-3 input.sk-toggleable__control:checked~label.sk-toggleable__label-arrow:before {content: \"▾\";}#sk-container-id-3 div.sk-estimator input.sk-toggleable__control:checked~label.sk-toggleable__label {background-color: #d4ebff;}#sk-container-id-3 div.sk-label input.sk-toggleable__control:checked~label.sk-toggleable__label {background-color: #d4ebff;}#sk-container-id-3 input.sk-hidden--visually {border: 0;clip: rect(1px 1px 1px 1px);clip: rect(1px, 1px, 1px, 1px);height: 1px;margin: -1px;overflow: hidden;padding: 0;position: absolute;width: 1px;}#sk-container-id-3 div.sk-estimator {font-family: monospace;background-color: #f0f8ff;border: 1px dotted black;border-radius: 0.25em;box-sizing: border-box;margin-bottom: 0.5em;}#sk-container-id-3 div.sk-estimator:hover {background-color: #d4ebff;}#sk-container-id-3 div.sk-parallel-item::after {content: \"\";width: 100%;border-bottom: 1px solid gray;flex-grow: 1;}#sk-container-id-3 div.sk-label:hover label.sk-toggleable__label {background-color: #d4ebff;}#sk-container-id-3 div.sk-serial::before {content: \"\";position: absolute;border-left: 1px solid gray;box-sizing: border-box;top: 0;bottom: 0;left: 50%;z-index: 0;}#sk-container-id-3 div.sk-serial {display: flex;flex-direction: column;align-items: center;background-color: white;padding-right: 0.2em;padding-left: 0.2em;position: relative;}#sk-container-id-3 div.sk-item {position: relative;z-index: 1;}#sk-container-id-3 div.sk-parallel {display: flex;align-items: stretch;justify-content: center;background-color: white;position: relative;}#sk-container-id-3 div.sk-item::before, #sk-container-id-3 div.sk-parallel-item::before {content: \"\";position: absolute;border-left: 1px solid gray;box-sizing: border-box;top: 0;bottom: 0;left: 50%;z-index: -1;}#sk-container-id-3 div.sk-parallel-item {display: flex;flex-direction: column;z-index: 1;position: relative;background-color: white;}#sk-container-id-3 div.sk-parallel-item:first-child::after {align-self: flex-end;width: 50%;}#sk-container-id-3 div.sk-parallel-item:last-child::after {align-self: flex-start;width: 50%;}#sk-container-id-3 div.sk-parallel-item:only-child::after {width: 0;}#sk-container-id-3 div.sk-dashed-wrapped {border: 1px dashed gray;margin: 0 0.4em 0.5em 0.4em;box-sizing: border-box;padding-bottom: 0.4em;background-color: white;}#sk-container-id-3 div.sk-label label {font-family: monospace;font-weight: bold;display: inline-block;line-height: 1.2em;}#sk-container-id-3 div.sk-label-container {text-align: center;}#sk-container-id-3 div.sk-container {/* jupyter's `normalize.less` sets `[hidden] { display: none; }` but bootstrap.min.css set `[hidden] { display: none !important; }` so we also need the `!important` here to be able to override the default hidden behavior on the sphinx rendered scikit-learn.org. See: https://github.com/scikit-learn/scikit-learn/issues/21755 */display: inline-block !important;position: relative;}#sk-container-id-3 div.sk-text-repr-fallback {display: none;}</style><div id=\"sk-container-id-3\" class=\"sk-top-container\"><div class=\"sk-text-repr-fallback\"><pre>DecisionTreeClassifier(criterion=&#x27;entropy&#x27;, random_state=42)</pre><b>In a Jupyter environment, please rerun this cell to show the HTML representation or trust the notebook. <br />On GitHub, the HTML representation is unable to render, please try loading this page with nbviewer.org.</b></div><div class=\"sk-container\" hidden><div class=\"sk-item\"><div class=\"sk-estimator sk-toggleable\"><input class=\"sk-toggleable__control sk-hidden--visually\" id=\"sk-estimator-id-3\" type=\"checkbox\" checked><label for=\"sk-estimator-id-3\" class=\"sk-toggleable__label sk-toggleable__label-arrow\">DecisionTreeClassifier</label><div class=\"sk-toggleable__content\"><pre>DecisionTreeClassifier(criterion=&#x27;entropy&#x27;, random_state=42)</pre></div></div></div></div></div>"
            ]
          },
          "metadata": {},
          "execution_count": 64
        }
      ]
    },
    {
      "cell_type": "code",
      "source": [
        "# verificar a importância de cada atributo\n",
        "\n",
        "dtc.feature_importances_"
      ],
      "metadata": {
        "colab": {
          "base_uri": "https://localhost:8080/"
        },
        "id": "2L9htOA4-TZ5",
        "outputId": "5206b25d-8834-4e3d-d00d-86d4b8e47b3c"
      },
      "execution_count": 65,
      "outputs": [
        {
          "output_type": "execute_result",
          "data": {
            "text/plain": [
              "array([0.02100894, 0.01395648, 0.0068095 , 0.01986065, 0.01886452,\n",
              "       0.1627932 , 0.22212421, 0.00939177, 0.00344576, 0.01039829,\n",
              "       0.0019815 , 0.03128648, 0.00065123, 0.00849934, 0.        ,\n",
              "       0.01698366, 0.00622973, 0.        , 0.00964718, 0.01267467,\n",
              "       0.00027769, 0.00770208, 0.01299062, 0.00368329, 0.02047256,\n",
              "       0.00371587, 0.        , 0.00156955, 0.00671244, 0.0003825 ,\n",
              "       0.01126638, 0.03622159, 0.16358635, 0.07445054, 0.01758995,\n",
              "       0.02117825, 0.02183557, 0.01975766])"
            ]
          },
          "metadata": {},
          "execution_count": 65
        }
      ]
    },
    {
      "cell_type": "code",
      "source": [
        "predito_ArvoreDecisao = dtc.predict(X_teste)"
      ],
      "metadata": {
        "id": "499IjQpj-a5d"
      },
      "execution_count": 66,
      "outputs": []
    },
    {
      "cell_type": "code",
      "source": [
        "predito_ArvoreDecisao"
      ],
      "metadata": {
        "colab": {
          "base_uri": "https://localhost:8080/"
        },
        "id": "SEEemKeJ-m_f",
        "outputId": "470f75d1-bafc-4791-fedf-6564137be270"
      },
      "execution_count": 67,
      "outputs": [
        {
          "output_type": "execute_result",
          "data": {
            "text/plain": [
              "array([0, 0, 0, ..., 1, 1, 1])"
            ]
          },
          "metadata": {},
          "execution_count": 67
        }
      ]
    },
    {
      "cell_type": "markdown",
      "source": [
        "## Validação do modelo\n",
        "\n",
        "![image.png](data:image/png;base64,iVBORw0KGgoAAAANSUhEUgAAAkMAAAC6CAYAAACtO0ljAAAAAXNSR0IArs4c6QAAAARnQU1BAACxjwv8YQUAAAAJcEhZcwAADsMAAA7DAcdvqGQAAIABSURBVHhe7d0HmCxF1QbgVgwYEUVRUUSQKJIzkpF0yUgGCUoSFEmCIChRBAQUFclyyRdFcs6iBAFRgoKSk6IiGFDxV/96i62laWZ2Z/ZuvHu+5+lnZ2c6VFc49Z1Qp17zv4QqEAgEAoFAYJzitT1/A4FAIBAIBMYlggwFAoFAIBAY1wgyFAgEAoFAYFwjYobGGW6++ebqN7/5Tf4cTR8IBAKB8YDXvOY1+e+HPvShaplllsmf6wgyNM5w9NFHVzfeeGM177zz9naOQCAQCASmdNxzzz3Vxz72sWrfffft+eZlBBkaZ/j2t79d3XvvvdXuu+9eve51r+v5NhAIBAKBKRf//e9/8/z3rne9q9p77717vn0ZQYbGGb773e9WDz74YPX1r389yFAgEAgExgWQof33379685vfXO255549376MCKAOBAKBQCAwrhFkKBAIBAKBwLhGkKFAIBAIBALjGkGGAoFAIBAIjGsEGQoEAoFAS/ztb3+rXnzxxZ7/AoEpF7GabJwhVpMFhgNWbtx6663Vk08+Wf3zn//s+bbKfW7aaaetPvjBD1ZzzDFH9drXvqSP/fnPf65+8YtfVM8++2z1j3/8I+fAkhxt/vnnz6s/+gIRJpHo7bffnq+F17/+9dVGG21UveENb8j/Dyd+8pOfVH/5y1+qP/7xj/l/7zjVVFPlsqgXdWB57wc+8IHqPe95T36/4c759dhjj+X6Uu8FH/3oR6vFFlssf/6///u//B433XRTLuv666+f/zbx73//O79bacdAYLSiv9VkU301oedzYBzgZz/7WRaAn/jEJ0KABYYMCMpvf/vb6oorrqhOPPHE6oYbbsjHr3/960yC3ve+91Xvfve7e0kAwvTwww9XP/3pT6vjjjsuk6K55547EyLEpj8gHj/84Q+r448/Pj8HEfv0pz89ImTo8ccfr/70pz9VJ598cnX++efnJKe33XZbfo9nnnmmuvrqq6srr7wyJ4D7wx/+kInhW9/61p6rhwdkgDqSd+Wqq67KdTbddNNVSy21VP79r3/9a7XLLrtUkyZNymWfffbZq7nmmiv/VlAI0zvf+c5q6qmn7vk2EBidIJP0c+Pw4x//eM+3LyNmw0AgMOhAtBdffPFq1VVXzRMrYuR46qmnqjnnnDNPrHUy/o53vKNadtllc3bYf/3rX/m6JZdcsnrTm97Uc0Z7IFSzzTZbtmogIg4WqZGCcq+88srV+9///myFZbVSnoUWWqhab731qgkTJmRSeOqpp1aHH354Jk0sScOJGWecsVpllVXy51JnxaoG//nPf6qHHnqoeu6556rf/e53mcQ1cf/991eHHXZYPicQGOsIMhQIBIYEiAxLw3LLLddLfFhCWESabiH/v/GNb+y1Wq6zzjrV2972to7dR+7/3ve+t+e/kcdb3vKWbNUq4BrjFltggQWqT33qU9WKK66YXUwIx0knnVT98pe/7DlzeKC+uOhYgwq4uwq4EpRTWyBwSy+9dM8vL4Hl65RTTslWJRaiQGCsI8hQIBAYMphUN9xww2z5AVais88+O1t/mkCUuMk222yzHFdUhwn3+eefr37/+99PlhVF3IAyPP3003lCbzWRM6f7vn6U0ErPVs7yfzsgca3ce+V7VqJC9Fhl7rzzznxP5as/l4UGfI8oqoPms/1W6qZu3WkFVhxWnr///e/5PnUCVAir+ynbpptuWn3pS1+q9thjj+zaLFB3xx57bG7HUkaH65pQHuXyzFZtHgiMFkTM0DhDxAwFhhMmVbFBAnHFBIHJdKWVVqpmmGGGXkIA1113XXYpbbfddpkwmKxN8jfffHOOW7njjjvyOXfddVeeWFk1WJMKWFlOO+20/Nn3u+22W2/MkHvp9xdddFGOG7jvvvtyAPETTzyRiVrdCuU51157bX7mz3/+83zfmWaaKbu8zjrrrOrHP/5xtvw0y1+H53ln5QX3F4TMPQXe4dJLL+0lNlyEgsWRQdcog2crs2uuv/766kc/+lG+ToyRMrsWMROXhUw53yGGx+/18Y0Aqkf3ECuknhGVa665JtcBrLDCCtkCpH3UkXu5v9/dUwD1o48+mi1Z3/nOd7L7DFjkHnjggUwuP/KRj+Tv3Ns9xEbZC1Fd/+pXv8rWQkS3TsICgeGA8RIxQ4FAYMRgIuVqKcTlhRdeqM4555z8t0AANZeLWJtynolY8PVRRx2VPwsyNokfffTReVWIib2Qif5QrBmHHnpoVghM4CZv/x9xxBGZHJV7ITi33HJLddBBB+XjW9/6ViYQ4nuOPPLITATOPffc7ObqBoU4saAgBsWSgmTMM888+XcE5owzzuh99sSJE3PA9SGHHFJ985vfzO+uLCAOSdkEQbPMIGgCnq0U9T4FfjvvvPNynSEy4rZYay644IL8uaAQFGWwnN6zPNdx991359/EOiFq9Rgi/yN+5Zna1b09z9+3v/3t+d6e7V7eJxAYbQgyFAgEhhQmeZbI+mqkyy+/PAdUAxJiWT0XFMuE8xEFVgsEwEQ733zzVRtvvHG1+uqrZysH64xVZ/Lg9AdkwKouxIFLSnA21537IUQm6RNOOKGXnC244IJ59RSLiAMB4xJyH9Yo5SvEplN4H1YupM77sJggHeJ2Nthgg+w241JcZpll8t/ybBYVRMZzWZcKYUNWEB8ED5BN95l55pkzmUIiS34gxAthYl3yvG233bbaYost8lL6etqDYklCFJdffvlcHwhXPT0CK5U2qOOTn/xktfXWW+c2Vj5WKgTWe7J2KZf4o+mnnz6TyG984xvVI4880nN1IDA6EGQoEAgMOQQPm0RLbiuuJ24iMNFyXyECJQjapCqomOUCSUKcTNYf/vCHM1kArplOVjLJqcN9xprBRTPvvPPm77m+BDmLnzFJF3IG5RmAxPj/i1/8YvXlL385Lzk3wbeKCWoHxKIs/Ue8vAtX4U477ZSPeg6f+gq6kmJg3333rfbee+9q9913z6vmELTTTz89/24FHusby5mVeuqTRYZbj/Xqwgsv7A3QXnjhhTOxRJrWXnvt7OorKGQIfK4vly9WI/cXBF7HoosumttOOZE+q+S42ADJ8z7eTzmVx3J8ZBi5DARGC4IMBQKBIYeJdd11183WAWC1YPFAUMQSIUf1VWcsL0sssUS24qy22mp5mboYFTEzxT1l4u0kO7JrxK0AwsBtA57FtQTcaFxjrYCYKbvJnhUEeUEqurEOOVcdsO64dq+99srEaocddshWqHb3UlaxRogE64p4KjFDrC9cViCuiBWN+4k1CdSVmCdWNHESpZ4QwEJsvHupC+jrfdr91vxerBDyVdpIu4G6LnFZyJoy1d2kgcBII8hQIBAYFnDLCBQuEGMiWFiskN/KxAkmTwG9X/nKV3IgtEnWUm65bbqxKCAyLCSuBwHV9aDrOgphaoLVhSUFEIlpppkmf+4GSBhSw0W1/fbbZzcdslfcbu2A+BRrmbK7j3cqAdCAALH8iOthhUHc1lhjjWzNYvWqu6RcP5go5LUAqazHEyFArSAQuxMXZyAwXAgyFAgEhgXcSgiB1WVgMpdwUGyJybvpdjL5Ix9WdiFCSAAXTzsy0w6Wf5dg5b7QjmSxZnX7zCa8B3LCOuRe3rUvElSADDUJh3qouwe5HuUtcmy++eaZQHKrWTHjveuB3p3UQ3+ol9uz6//XnwXt3lE5vEcgMFoQZCgQCAwbZKUu+1+ZDG1VIZ5IcHV94vQbN5CVXgJu/bbVVlvlfDfFzdMJXIfMlCX2CA9yVFCfkIsFpgnWlm6e2QrK0SQ1naCVJce96tYpbjKxP1aklYOlTZwO0lV3hTl3clGvC5/r7SZAux5rVM8tVK9rsVuTSzADgcFEkKFAIDBsMEELPi7EwP8CeUtgdQHSYgWX+BOuHpM7UiOYuZAZk2vTEtEKyEFxwZmcy8oo1gn3BqRDsG9B3YJSn+y7Qf0eytqpVaZOGlpBedRHcUGJuZJrqFi2/BVTJNO39xL0XN6Be63ED7HMiSkq6O+5BXVS577l3lbKIWncf+W7YsFyb8/yF4FS14PtsgsEJgdBhgKBwLDBRGhPrFlnnTVPquKCuL6aMKELaC5kxeRulRJLUpm0kSJxMiVXTtMKUWJqkIG11lorWyysvrK8HsS2WGnme0vJCxlybXkueE55ZqdAfBC3AgSkkxiZ5rNbkT1Ewwougdjqk7XHKrWLL7445/yxkoxrUf0KkhaEXjJ6+10aA3mGxGqVgGtAZkp2b+9cyBWUugQkplh/lM+qPu1jCT9Sa4PcskoNIXMfdYGIKa995Gy3EpahwGhCZKAeZ4gM1IGRBreT1U4mTyuqWDmKJaEAKbA8G9kxMSM6XD5WVZm0BQW7hiXCUnmTuOzQJSGh38ru+IiAv87henM/111yySU5X5HValaIOd+YENgtKaSJvABhc5+y+qwvKLNl+meeeWZv8LL3ESslMzQiUV8+X8Bi5Z3FUcl/BOKMuBC5nxCJAlYh90LmEBukxrtZOSeImTtSzBBy4rlIoEByBNDvyqWM2gD54kZ0HhLDrWZlmlQAxYrGhagMLGzaQbC5/EPFumRlGAuc8xzeF/nRVtygiK37qWMr6KQVqL9PIDDU0Cf7ykAdZGicIchQYKRRSAzrieR/rYiBvmlyNjFb0i4zNdLir++RARM+64gDeTA5Iw6LLLJI/s7kbSm5Z1m1ZQk7q4bnm+RN5Fw6W265Zb6muOpYjkzuiJdnmOQFMiNU7VZH1YFksIQQvkiUe8vN43oEhmuwlYuIlYXLCzFRfs9GHpALyQ7rrkT1Y4WbezqQGPf0meXN+C7WG2WeZZZZMpnzbGQQqfHu7iMxouBrljHvqc4RJ88V36UcnmVVnTxPJhP1qn7d17NLeREchJH1x/msP94LEXWPTTbZJAfLl7IFAsOF/sjQa9IJ3dl/A2Ma3/3ud7Ogk7K/GacRCAwXkA3uLZNp0ypUwL1iEkVcTNAmUJMtKxGLg4nW98gDYlN35RQgAiV4mqjjqqIMOAoxYX2pKwbu08xf5HfPJ0j7gzIre6sYIeX3vFKmOpyvXuruKfBsBKNexgJEwzux+KgnBAXxa5bTvb1XseYgPUgoFxfSgjAqk+vUk3LUpwZt5PmFxCmjc5A+ZfN9/ZmuVR4xQ3/84x9z3SlX87xAYLhgDNgixvjbc889e759GUGGxhmCDAUCgUBgvCHIUOAVKGToa1/7WpChQCAQCIwLIEMHHHBAtmQGGQrkfZEEjVrO3MrsHggEBgfcQRSOVu67QCAwvEB17IcortD+gk0EGRpnsFJFh2i1nDkQCAwexA4J7BZ0HAgERhbi3qz0tHDg85//fM+3LyPI0DjDcccdl5fv2h8pLEOBwNDB7uyWqNseIxAIjCxQne9///s51YP9DpsIMjTOEAHUgcDw4Ec/+lHOfTRp0qSebwKBwEihvwDqMA0EAoFAIBAY1wgyFAgEAoFAYFwjyFAgMArBex0e7EBg9KDVmIxxOuUgyFAgMEyQLVjGXtmPrTSy5LqVILVX1HXXXZdjTewdFQgEOocxZaw1j2Zm7wLbk7Q6vz42jUPxX6eddlp1++235+zazrHx7f33399zVmAsIwKoxxkigHp4YXhZXv3LX/4y13vZqkHd2/7AFgX2iVpqqaV6t6W4/vrrc3Iwm5kus8wy1ZFHHtly/67A6EYEUI8MbBNiR37jDtEpsP2K3fKb24FY8Wc/Oucar8ambVwmTJiQg20pMF/84hdzfjbbtNizbt11161mnXXWLE/tA7f55pv33C0wWhEB1IHACOKhhx7KZOaQQw7J+Z1sxGmXcTuM2zX94IMPrr75zW++Qgu18/iNN96YtVHX2HsqEAh0BpMe66t91771rW/lMeY48MADM0li0anDrvuPPvpodc4551SHH3543m3ffmplTEpF4rqPfOQjeT+8K664ojr00EPzPa+55pq8v11g7CPIUCAwREBiJk6cWH3729/OAnfjjTeuPvOZz/Qem266adZC77zzzp4rXgKhK0tq2TU8rEKBQOeg+a+22mp5h3xj8LHHHsvHPffcU33jG9/I5KaufCy77LLVZpttlsebDW9ZeWToL+OOhdau/KwJDrvusz653/LLL593+w+MfQQZCgSGCATweeedl4kQUzoBK/P3nHPOWS2yyCLVeuutV62yyiqvSn655JJLVvvtt1/15S9/OScHs5dOIBDoDMaT3fvnmGOObMlhuSkhARJhHnPMMdXTTz+d/4dpp502KyDvfve7q6mmmiorIu973/t6x+X8889ffe5zn8tjdoMNNqj22Wef6qtf/WpOpsl9xtUdGPsIMhQIDBFolA6gof7rX/96hUY69dRTZ5IkNqHAeWKKxAohS7PMMkvvNbRR5vtyPPvss/l79/UcLrlHHnkkxyW5xuGap556KscrcQWEyy0w3oDMiMlDiIyVCy+8MGci5krrBDPPPHMmSGKQ/vCHP1TTTDNNtiattNJKeauVEutXh7En1uiJJ57IY497HAHz/MDoRARQjzNEAPXwQSA0TZIAnW222aqddtopkxyBl8UEj7gwzSM94BqBmmXlC5P/jjvuWL31rW+tbrnllhy7UIJC3UNA6M9+9rPqF7/4Rb6PNmV9QqQQJCtf7rvvvkyckC9uN8GfgkkDQ4sIoB5ZlGBnRIhra9999817U8FMM82UY4i4rlmDwOadp556aq+SUSB274ILLugNyDY2rfh8+9vfni1Kq666aiZMBWKWLJgQT0RBUQ7fsUAtsMACWQFihQoML/oLoJ7qq+x9gXEDEyeNyICMvcmGFgSnlSosM+ocKRGcKbCT1ghM+Ez6RbtEaARWn3322bmtBFqLYeAqYw267LLLqjPOOCP/JtbIqhdaJyHvOt95znPPPZefy1KERF155ZU5MNuzCfDZZ5+9pUYbGDxoO3El66+/fs83geEE0nLsscdm680222yTFQBuMtZS44OywJVmryqyUGA0paI5UVrM4D4IzIc+9KE8Ft3n8ssvz2MKMVpwwQXzJMu2QAE57LDDMgn2HDFF/p5//vl5fLLOIkVceIHhg7a54YYb8mrCj3/84z3fvoyYDQOBIcIHP/jBbBlCWGgliIkYIlY5GsrXvva1vILF6jJATgRqMuvTQh20VNfCPPPMkwVr+Q05Ettgst15552ztlt/jvsI0mZZQrqQM0QJQQuDcGA8AVExFjfaaKNsZQWk5aijjsrL6vsaDyw7rLm77rprPsTxuReyZawZw5SMcu73vve9THyefPLJas0116z22muvao899sgB2pQWvyNTMQZHF4IMBQJDBJof4fvZz342u66K5ihugEbJ+oMYWW2G2AANtZ3Frvkbl9iKK65YLbroojl+Yd555+355SViJTgbueIWm2GGGXp+qXIcQyAw3sCiYyyK0TOOLLFnMT3xxBOzctEOxtUOO+yQCRGXmvxgLKvczsDqw6ILFBsWWqQIWCCcxw3ueuA2v+iii3LS1cDoQZChQGAIwTpEm6QdbrvttjnwkjUHUSIwxSPQFAnlEifUKRCeQo4QI+62AvcubjCTgPiGgiKoA4HxBm4xK8MQHGOHi+uUU06pfvCDH7wq/1CBeD/KjPgfy/Jvu+226re//W2vZYc1tsTx+b4QI+PPWAfjffrpp8+fnc9CFIsZRheCDAUCQwwkxbJ6pnLLcS2Z33DDDXuDLmmlAjQJ5slB3WrURF+/BQLjBQgKVzO38owzzpi/s8qLdfbee+/N/9fBiivORAwQ17YEqYiTOLxWK8PqS/aNOVakgnqKDO7vWFk2uhASMhAYIsgzZEUJ0Axtu8EyxELEUmT1iqBOGiaNMszmgcDQw1iknGy55ZbZYmr8IUL2GWvCqjDZpmWyFhvE3SwWj5us1WrcTuOAWIc6PTcwPAgyFAgMEawkshVH0y1FiDLXC272NxAIDC/kCkKGLLkve5VJjtqE1Zs2TbYCjTLDoiRthRQVdatPQT0BY919BjZ3LfD8VtcHRg5BhgKBIYIcQpbAW/re1AKZ62moBKLPAixj241AYPggng+5sQChnRvZKrESy/fOd74zu7yNWYHUJSavDmkrSg4vY74sjBCPJHAaXMeyVFa1BUYHggwFAkMIcUDyAiFEhCpt0SFe4NZbb63uv//+bKq3l5KYAgK0SZzK/4P1W6tzA4EpCfq3cVb/3OzzCJD8QAKqpaVoBRacAsTGajHExuf6gocyprjRJFYt5IrrzbPlNJLsFpCglVdeOa8uDYweRNLFcYZIujh8sP2F4EuEx0oUwlDSRYndJHg799xzs/ldzpJPfepTWUhaci9Ak4sNaKACPSWOcz/XOAdomPY5E4jtvmeeeWZ+DrhOXiKaLIEsE3LRUlmgPvrRj2azf8m+Gxh8RNLFkYHYO5nardB0IC8IiUSnJdN7gTHEQsRVRjnxfz3pomvJTMvn3ZcrTRyRcWYc+s41xpktO1iP5PSSu8h4szjCs7nbrr322vwbN9vWW2+d848Fhg/Ial9JF4MMjTMEGRo+GHQ0SwKQy0xGaBqiPD9Wnchoa6K0YzaNktA0edI+Lee1/HfuuefO7jTbCvgeIWKK9xuy4/6IjWBtZngxSH4jmFmc5DaxfF/sgvP8hjx5tmeUeInA4CPI0MiA1fWnP/1ptsYiOpId6v/y/ej/TRhf3FauM17qewVaDs9i60B4WHopEDJI+80YMg65xow933mmrNa+Yz2y1N7Y9Aw5v7bYYovelWyB4UN/ZCj2JhtniL3Jhg/IjVwitElkyFHy/7AC0SIFXLLU+M5QpE22yj8iXwktlIZaB8FMALvG/esouYeQ3+ZKNROD38IyNHSIvclGBogPpaOZN6is6GwH1yBEttwoMCaNX8qGsSdeyHhzsPrUF0dQeko+rxIjRIExNk3AxrvrnGO8B4YX5HFfe5MFGRpnCDIUCAwPggwFAqMH/ZGh8JMEAoFAIBAY1wgyFAgEAoFAYFyjXzcZvyefp7iGKcGjVny149U7aHNQKx3slxXxIoHA0EH2cZt2SrwZCARGFtxkxx57bI7dMv810S8ZMnnanE4ehlaBnWMNAuQE0o1XWBKK4C6yyCIRxBcIDCGsGrTNypJLLtnzTd/IonicKmmBwICR5rE8k3Uwn0lrssQSS+Rkm030S4asvLdviyWBUwIZOv/88/MSY0soxyPkyLBqwtL6IEOBwNBB7ieKZKtlvK3wv6S5BhkKBLoEMmQu62A+kxvKeNxtt916vnkZ/ZKhr33tazkx3D777DNFuJY+85nP5P1o1lprrZ5vxhdOOumknH8DyY3VZIHA0OHiiy+uTj/99OrLe+/d803fmBLkayAwEuhEsf9vGl8TTzste7n22GOPnm9fRr9k6JBDDsm5FKaU3IybbLJJtc4664zbRGixtD4QGB5YWn/yySdXBx1wQM83gUBgpIAMnXjiidWMH/pQLK0PBAKBQCAQaCLIUGCKgSzLzz77bO9Rzw47uWjeWyB+IBDoGzIxP/+Xv/Qe//znP3t+CQRGF4IMBfqEvXUIsOaBDFiq2IRU+M1zkZLhiIeQMsBy5u9///vVd77zneqBBx7o+WXy8eSTT+Z7n3rqqfne9vsaKCxEsGnkSMWImKCabeRo16bDAXGJtg3ppk6U1crI5rYLgc5hfGv3Tg/juxvo57fffnt12eWXV+ecc05155139vwyMiCL6u/TTjb5rnmuo9v3H2kEAe0c/W7U+uMf/zgPmGWXXbbnm7GNH/7wh3mnbyvKxiO63aj1kUceyblSrr/++urqq6+ubr755rxKxoo0GyDKP1UHAmLH6BtvvDFvimdpscFoI9KhzmtkE0X7CNn+QDsvtthiecPSwYB72/vLfe0cv9BCC+XNU7uFvceOP/74XD92oreZ43Dj7rvvzm2pffy1qaXvbrvttty+VhzaXNL+aVLXD/WGvtrshBNOyGWxwaX92jqBPikGwJ5RNrQdbasjbdRqNdnyyy3X883ow+NPPFHdfMst1c8TSbnl1lurn991V/XbBx+s7rvvvpeOe++t7knH3alP3JHO0VYzp37bKRAK11jSfP6PfpQ3Fl500UV7fh1+XJf6jM1z9fM77rijuiuV653TTptzz9Sh3OrjF+m97WZ///33V08kheh1r3999a7GuaMVDz70UDUpyaqHUnua78b7xtwoLzI+TZK5rVZ4hmUo0CcQGIf0CoKuv/nNb2aCZMPCVpOPc31/xRVXZNJAmxqundHtFr3iiitmgYt0ePZgwSTt3oSmew9U20Iiv/e97+VAdkRxJKA9CEaKjjYthMLGk9r20ksvrQ499NDqW9/61qBa19rBs4877rhcJ0hZE7T0Vtr7ZZddlq8544wzurIoBV7GVKkfGLO/TpP99089tTrt9NMzeSnHX9LBuvBsUqCQZn2mGxiLCy24YDVjGpt/Tu38QmPD4OGGvv/iv/9d/ej886szzjyzOvmUU6rzzjuveu7553vOeAlk2Otf97rqX2mcX55k2S9TvzRmXjfECt1A0ar/s16TwWedc05YTztAkKFAn7CD84YbblhttdVW2Yohdubd7353tdJKK7W0asjftFzShJmTV1tttepTn/pUttAMByEiwAj2odCABuveyJS0Dg4EayRAS9xoo42yNYUGbBftHXbYodpxxx2rXXbZpdp2223zdwgKlyCr2FCCBWrNNdes1l577WrmmWfu+fZlSBT6k5/8pOe/l6FfqUd9sRUxD/QPffATieR/LPUFHgBY/5Of7D02WH/9asMNNqg23njjnKyunNMphnJMDgRLL7VUfl8WT5bdt7zlLdWVV11VXXnlla94N8re4osvXq2wwgp5zM4x++zVyqmfseaONlAmjI8mIZopyW4enRWWXz63QaBvBBkK9AuCYf7556+WSoKERYRGLsajHbhZHn300WqDJERphu0mqoFo8+2u8X35bbAnxm7v3a6MwLUo4dfee+/dceLPvu7X1299QZs6AFFVrve///2ZjCCx22+/fXancgv2ZR3q9PnOa3cuUo2EqZN55pmn59uXgKzR3B1NKOd+++1XbbnllkPS5uMFUmyUvqAeuSnrx3uS8vO+1D8Qpre97W35vKFAX32kiYG2j/d7Y3pXFrHFE5nmwmQV4lrXz+v3da56QSSMkb4Uum7KUz8XAWORffrpp3u+6R7cl2efc07Pfy9DOMhnPv3passtthh0ZXSg9T+aEWQo0BFoUOutt14WhmJL2gVCsgjJ8s3qMMccc/R8+zKYa2n6TO7iZvjtxacUlN/FJXEjIV0GHteUc5966qmeM18akL///e9zWZjvHWKiWmVKF2zLRcXdp/yeL7CTEGoXNKxcYj7q9+Y6aAfnK6P3cn/JLevmadd6N9Y1zyyuNu/hWu9c4rHAeWIVxDggBQWuE89R6tD7PPbYY11r7e1Ai2d1MQkIgBX7Uker5wteb/V8rkrmepprOdf/5X1YndSJNjP5eOcC5zj3rLPO6q0bObJc430909Y69TbRH8q55VC3RXibeOq/Ob/8pu/aQkOMSGlD714v03hGtvrWYke12aOpHe5LbSQmiIvz4Uce6doloz9p1zvTWHMYo9q3VbAydx2XnvOMzfsTgRHLNxCwfrJ8IQ0PpbF6TiJEdVnUH/R3Cysof2SQMaF/tQLXnP6qnsgIsUjI149vuqk66+yzq980XOat6pYLu163nq+8knuKD1Jnj6VnqA8rXpXttWlMFTkD7pvPqx3GQJGB+nr9N7Ko/Gac/Cnd91dpTOT6v+uu/A6t5O1YRGTdC3QEEySTKxeL4MMf/OAHeX8z5uY6EBikgfVj6qmn7vn2JRg0grFvueWWfJ3ga4Nt2mmnzUkwESgCkHAxaSJA3GwmP/ck/DbffPMcjG2iJFQuvPDCPPhpsDRcEzih04R7TJw4MQsPlgjvQ1goxyc/+clXBHUSOITbBRdckMnAu971rl4NkcWrCUJJWQgl78isboImWJZeeumc8dykrZzey3s477Of/Ww21RMySN5NSTBKF6+OuX4EOPuf0P7yl7+cy0BAqUNCyPc0PmZyYLkT14S4Ti7UC3KibHVh6v3FFHk+q586Z0Fy7jLLLFMtv/zyvc9XB9oHuVDn6sC5ynvAAQdkS5R6UNcOv7HyIGIEsPdnhSxkUDZn99BXkBYThL7ykY98pNprr73yM9Ujl4d+6FyWJm2rfyij1WfaSh9kDVtllVWy29c7epb20Te8gz7jQAK48PQ79xhv0BbqQR2qqwIWCfX4ttQP35TGurEivmixVN/cUc3FFa1gTFyR2gshLv3pudQP0FNWDbIByAUkSJ9AsCll/5fGnWdOl8an/d+4srppH+fONtts1Xrrrpvl0LXXXZfDAjbbdNN+LSnG9k8SWTY+WZqmTu+KCOk3K33iE7nPFNegPn71Nddk8m3MvjHV1d/Td0iI955xxhnzgpY6ch9NffHt6T3J0efTmBG/pS+Xun0g3Y8svj2d610uSeMyKzLpnDenchg3lAlya7ddd83vpL5vpZAkQoMoycY8Z1JayTjXei+/UcJg4YUXzu1Oxt2byB4ZRT6qf3//kur/Pe95T65/7zyWx0dYhgIdY/rpp88xGgTWtdde+6oAYIPDhGLiMzHXBwZhZpI6/PDDszXGhIcoED6C/ARmEyYGLFcNLcvkx8pkwBNWBAcCA4SQrWLcc5ZZZsnPcxi8rUz5LEzONQEiceIfCALBw9/+9rdfEWxtkhVA7F3ECCine1tBRpg1QWNzvvuzhjnf/ct9WKCQCuUS5E3Q2QC5WLnUE4GCgAgG9ptl/IQn4eVd1S2hKo7nmGOOycLLMzyLC5MFw7MErrey0HQLZMN9tMf73ve+/J3n2/VZYLXyiqkoz9denm8locnT+5oo7diu7ISlc+ebb75cL4XAmTz0AdYAFiDWtALkz32K8EV69A31ZAIxIagv71xQ6hExRdj1Vd+Vvqje/I+k+U2f9p5Wsh122GG5j+lDpQ29v/q22s3EOx7hvUu71qHN/WYynTeRTsTCd6d8//stlYYm3M/EzCKjnhdI/chhPJvEEbACK9wEO7NIGLcLLLBANX/qS+9PfROZOunkk3stqt1Av1gmtTWXq+cJrBYs3XzXOnK5E8EXcI7QUOIWTOVBlhGq01OfZJkBcg+BkJKDVUs9LZTOnScpQcaAfi+4fNbUt+tAPNQteZLrNhE93+W6TQoRcPW9NhEd40Nfdh/yBTm1Qs6qN+RR/RSZID5P/6dcCgz3jPekMVCImzE1ffpdPfvN+PAbInpKqn9j1xjUTsby9EmeXpSUM23Tzio2VhBkKNAxDIpVV101D4ay6qgOlpyLLrooa9sEQx0GvokUEdpiiy2qCRMm5Alnq622ygNYTAiSYFDT5k1axT3BSiKGxb5yzjWw7bFGQLO6fDppkCwiLFc0rOazwcTqd5Yl9/OZ1cm9LNEuA9n/Bj0ipIye6d6sHu7t+XUQjLZdUBcCxzfbbLP8XgKC1ZXJwaTsXRApAoQGzBJRBC6BzErCSuR7VhATv7r5/Oc/n4mEeiGACVXauXKtvPLK+Vlis9Qp8oSoEGKTA4JcrBBwIRTrFVI6ceLETCjrzxdg7/kmMKSWRcj5hTCrbwdCyarD+lNIJeGsvWmf3r0IbX1NnSNcYALUdgK/ta8Js15fBX5D2E0iLE3qQnkLGSrPUYf6jgBibW9VGqLtGaxAyrr66qvn99QX9Qn1772mZOiTlpDXD8vPuQ2bBAEhVUfLpnZCTlZcYYXcLqyGTbdPK2g3rkiygbWDkuI+xo3+UixLnkuuIBUsjxMScUE+WEDWSW0llsmkf03qb6xF3cJ4XCf1Gf1JH0DKvXc7UKwmpTFNmfH++qlyr5n60wdTf7J8/+577snnGguXJFnCvSQ+iRKIPFnaTa7oTYgeQlPHh1LdrpHkT71uyV11W5RQ5HOJdD+ygQJAXqmbWdJ5+rmxq7/Wx4dxt0gi+wsmMkMBJLPFhNXJEFlpHAoe/3Aad3BeknG3JQKlzKsm+a5MYq5sbTV7KgcSeEPqI2X8jkUEGQp0BcLOgDDATPJ17Y0FhHZmUDLN1oE8mUxpJQRCGXwmGsKBQKStNCFPkAnROSZ9WrsBjHwQkiZHwqw/mHRNdJ5XwIJFOCAqLDBgYnRvwskKGuf0Be9/+eWX5/ogwAklMPmymPhfvZT7dwKuASQDSfC+yk1AsTypX6SLxlZAq9YmvlPHxcTdKZADGqrYBJMKaxnSM3vSRrfZZptsGVIfLDDcjIQkYVvg+d7ddyY3ApsQ9s7qBUkqBI3rSjvW3S2DDYRIfJtnI6pFSweTE+KtvsrKICTSROs61qBCnKBYHZF45HssC/tOwJJhXNcPVrZ/pD7SBPLCwlHqSx81vozLYvnrC877eyIWJmWEQD8EbiFEuxBmbSZmTx9EDvShAhZDRArE33QzzgqUH7HbKJH6d+vDaQx557q1uA7WIK7urNzMO2+vLPP/R2adNVtQuajAZ277tyQ5MENSeAo8E2kBfau5IEXdImevqNt3vrPjuu0L6lf/f3MiPlx99ThM/dv7cz2W56tT9Q9LJRKnLAXTpHc2PpTrxnROfT4YawgyFOgKJncxNgY+k6lJxMRnMHNpmUxaLT+lzRgoJijBtOJeHIgHcgNcM00gVUUgmEBNzO6FtCAqJqtOQHsiOE18JUDWxE/4g8EM3CTiSrJga5iuW8G5hAmBiISU93KIZwHvV6xcncD7FgGLaChHjpn49a/zb+q31EmBujCZq1/t0g1YUGjD3HNcluJ3ENZ99923WnfddXNZtJ3n+9zJ852HyCGqp512WnZpTpo0KZMuk1l9Qhts6DPcHvqGsmjn0r4sddqFhapYHryXSUv/apJf9U8jd0/3Kv1lSoV2NWnXD5a10h/rEM9iYkZ2BdMi/SUAudR3XzCpsuroSSwP3E6sO1xsJmp1D08nBYCLySTOhdOE8nG3Iil14tsNvPeSSXatteaauY3F3yAFrSxNyI3xjDhQIJAwx01JrpXnKwuoN7mJnNvsO4VsqYem8kj+NOv2Dz11+78O6rYveNePJUUL2SG/rq/JQUqLJJxch29LCiSwkikL2d9KiSGT/caqNrlEbSQRZCjQFQwkQXziZ0x8UuzT3EwyYlto5GWSqaMQHtcQIM4thwmIa6LTbNEEDeHCglIEZl9A1lgruOnEfpgclYGgaZqnCfNy77oG1A7enUZLmHlG/b0QNmZ9Vp5WddIN1BtB432L9akO7VIm8jIhdQrEhMld/dPyuIYQIZaxkpm3k+eXYFfP9z+34tZbb53rUb0feOCB1SGHHJKtTpPryusPNH2uSiSdyw+Z0w+4P/02b9LoC8rEhSw3JyUwMfleH+5kkh/L0L6UnfqBENctkaDfs5SdeeaZ1Y2JCBhLVoQJ9O0UFBSr0xBXk/GZiZAfn/qJ+JOrrr6611qi3xmTxlCr9nl96l9+c343SkcT2p8cYu1hgZWUMS/GSP2mDskjQZkEMVOCyvHmRNi8EwsRlFg3/c+55I3rECEkB1myYKI+pv6S6vZKdZvqg0Wm1G0zMeTkgEXH+DQ2ubiMWeNDvJQyskwVUJbUQbv6zwHk6b1fSO/Yzpo2FhBkKNA1DFyaNdcTYsEkzBIi7sUgMhE2QfCByTX7tmuHmJ+vfOUrWRB1g04nJoIbERL3wU2njAiKuCGDuBU6vTfh4H0JNbED9ffiDpI7Z+edd+4lCgOFZ3gWgeVoBUIWSl13CmVDfLgctSsTOmtIvR3L89VLu7ppPl9/sGJO24p9QrgI9yOOOCK7XxCsoYKy6k+sBmLCkHVkhkUQYa/XUflcyt9E/b1a9e0pDd6xftD8xYmUiVD7c4dOPO20PFFaxSUWjoJUgu07BWui1Vvbb7ddTvL43kS6uG5YiViQ1X39ua2Qx0T6zRhsZcHqBkifsaBcLIis3X/92yuXjpfykH/cRvVDvJp3kdgRWKxWT7LgAx/8YHVpIuIXXnRRXhwhUJu1hyVd3ZY+WOqWNTXX7RxzDLhu+4PM4LMl0mbRgnggZJKVaMnFF3+FG7xk3e6r/v32mlT3Y3l8BBkaYhD4Olm7jjRWweIhQM9Sb+6VEnBcj8mpw6RUYFI0wJuHVUWdwEAlkJikO9EEmd2tHkJ8xN8gQSwDyt+0LCm/exNEndyb1QA5pE0RVq3ei8Vlct1Crmei9hxWlSYh0r+K9a3bzNYEmHpwtJtM1F15fqu4jFbPpyWqE5aF3XffPacHMNGwmOkzQ2lS905itpBebkyTmkmIJoy01qG8zvde3q8O9ayfsVwgd5M72Y5FcFmxBpd3R1AECXOfqEsxO3OlscQt2XQz9gV1Sz4iHpajb7XlljlGTVzQk088kZejs7qKX7E1BjnaikD/M41TsUeIx1vTMTnwjgKzBUP7zG1XVrAWKA8oPyuj2LrmUeKDyBIywMILY+jZ1Pd//8wzua8tuthiOX1APR+bfqZuPVM9sNT21m0HsZHdgGIo/lAdW1nGsiW203d1q7hxb9Vau/q3xYp7FFk4VhFkqEsYAIQ8wc+USrCLN2hOTkDYWwVhBZCVUlMSTCDcEAavgFQCEkFqhyIo1RktvVV9dQpmZ7EoBIpAxv7uZTJjpjZY21mCClhEWEpYk2hu/d0bMbPSyfuLnypWhMEGEzWhSkC3qj9BmASod2xmcR4MEHIIJNIg7qf5fITDUZ6PHLHIFBcULRo5YX1CKrQJ4dofiqY5kHr1zGLBRIZOPvnk7JJpathIMYGvb5byFhjr3BTKsWDSpOsWpfEKbfvMH/6QJ/q3p3FY2qhbmFilXzA2QTt9NCkOq6y8cl4eTiFBTllrSjzaIy2W7Ev0qC9Rpopbd3JgrK226qqZFFGImqSd7NPPlU8MYl8yQpnFKP4x1dfaa62VZabtMayCk99IAHqxNIG6FRuEfHhGf3Vbfnddt6D8IFxkmLCBHyY5jtw1Yz6NF4e6aJXDTZyl31zXyWKW0YogQx1CZ+O3Zd63fNieTTbclIPkqKOOyktzEZ/6wGDmlXtF/pKjjz46k6YpBSwV3A0GkgnECqPmsvM6/Mb9QoDIlcO1xk9tUhTEJ3i6aB3qugxuwrA50AlHq00QA/cykJFTh8Fa4lEQNe1hgNIaS6I+5UUcEFTPdE45l7YkNQBBYXd5ZKvc2/VFMJqcnU9wEnAEl/gpK8sQEyTZNT57xwLPKdd6N3+hlAG8b/lcYBL2zrTO6667Lk/QBJB7eJa4GGUrgcN9wbNocsW/rzwmpHp5mvB895ZYjYWFFlme7z2NC+SUdZBQ9A6shVagaQ/neaYx4LOJSzwFeH69Turtre20s3pkhfSsYhlzLrSqLzBRWInILWrsut6y7SahQYC9m/6ozMVCpE4QYq49hMmKOWWZklDqsYw9/yMWvmvXF9SrlU2uQYzVmz4oC7LPUNoTtI//8+eetgbPEK8ivk5da0P3ZOVx7QyJdJAziLh9wYwxFgzyopTZmHQP4/sTSQb52xc8Wz9UJtc7Wr0nSzYrJnLQ/H26RJy5t9TTD3q2qzHG9UvyjXxxX/Aul6Uyl2zSXIC33nZbDra+5uqrs7wgY/Q50L8QOte/qm7Te0O9btWN/kx5e7xHPrlXGRPlvPrnOoxDgeNkgRgm5KhpLVenZA9ZJ5ZJedzPNeQtS5axrP7HsmVoqq8m9HxuCYJA5XMtTAkwaRBsgta6gY6J9EyaNCl3OI1OKOj8BjPrCIHLDVPYOnI0ceLEfI5DbEx/g3WoYfm6sgiem1zBbtAayDRqGYUNrPLuTRhgtG8uK8u/+alNqOqO5mSiMtGDBHiWtjq3BG5yX5W6U26kxQTJGkMzcT/v5p7awYozFghlNIFbMeR3ZfUbIkSoEmQGN6HnnsidZxJo7u1eTMeudQ/Pcg1h6d7e2XPUKaJlJZZ3KVm09RsTOs3KZzFWZYm874wtz1QmEzGiQ+j4jvBSplKnviP4lEO5lJtmKp8PN6D0A+KTmvE+TXgfMV5Ijee6p4lGHfrbztWh/WixzeeX9mI58nyWMmVHhBxleTHSKqu3urIxrPM9nwVJnTjH+5YJwRgj1E0YJj0Cn1XMZOa5lA31ydqnLk0g/tZhMkXaPENeIZapJhlyjjZUL/qziVkb6pdInudtJw4kjZnmRNEX1JP7yS8zWvGHRC7VowlaW4C61xbicHxu9iX/q9NfpvbMBDX1g1+ldmEZNBHbIoN11TJ1kCFZTIpxY9LUrurRX7lpjBlxOVaNyX6sP+tnYoj0Jc/TL15Mk69tLIo89Rzn6rfqmOWlP8uvmBh5k7StfmZX+qlSf0Du6sjPTP3936lPyRkkvqYE3SubenkmyQjl4S5UDxITkgHegzwxjv+TSIN+pd9SAJ1P9qgTf8uWFv9M7zZ3mpOUidvJebbWQP7VLVmHbDlX3ZIFZKK+SzZ5PnehZwnwltdIWfKKuFQG1qznU9t8YIZX5mDzvDektrgl1cfMSYkxPqQBaIJMRP6USzm4+/RvbkQkTIwU12Ini05GCqigvjZNkm/yPDURZKgDID/f+MY3cgAuF434B1qi5ceST4mBMfkRIAJFi/AgRHVOg975EnR1I0yHAoNJhlzv3UygtKi+3s25JhzCzYRlgNLufO/64nv3v4mWsLE0W30jQSxLzOgFhKPfCAYTr0mznMedxA/PQuI8ZMgzyyRvwPpf2+kLzmWGJzAIGJN+uTe4t/f0u3srp3s6z/t4ru+8H2FsUi7lIUTc3/sgQAiEZ7FWuNZ9lVkfM9nnbLZJ8DrfoZylPxHCyuV8kxHNzDXq0jLZTTbZJF9bN7u3Ai0WuSBQlUM9e1f1omzlvZtwX++trTzfe5bnc415vjotz3c/n8kPBAMp0tbGAQuSuqL5OpBL5dBm2lldqz/1g0z6DonRPurN8/3vvQWXKrND+evQn1yjr3GZtSKK/vd8Fi1lcm/lJfy1MQsoy1G9/3WCsUCG/pbe83dpolXXYlOspFLf6tZ40Uda1Zc61ZZWcuUxnEiOvDn6rzEnWZ/+q860r3Y0DvRf3yEf7v+GNJmD8fKPVN/q3vcszQundi2Tq/Jpd+3z79TfkAfnm8hZaViOPK9Z1iYoM/9Jz9KHjdc3pXIpi/dpQt/VL9QHd1Yh2p6hXhALf5XdGLC9hXezqS0lqd7/ERqESvygenLob9yMtjVBcrjP1KmYJH+9myzTCOTMaVyoW6kF1MM70zlkCzLkXOd4c89XZm2CiCmHDNbqxqovsqMJ1yp/TgjZQ8iacI5EkOrfuf9I9W98eEdxeWK+2ilRowX9kaHXpInk1bazGiyFJfT64UxjBgS2rJkEY6dgvbDE1CR90EEHVV/60pde0WF0DnlUbB/BfVF+01n4xFkZTFJI00iDO897fP3rX3+VhjwQ0ARN5IRLJyiCAykg+Axmk5i/BIfu6Pdmt1TW5iB1DsKJ3CEGBmMWCkkoEUDgGtd6rskYEShWKn+d5zfwfAc0700gEjr1e/tcCKDzfY8c0JzAexHi7ulc71WeVUcpX/O3UvYmnKfulM0k7xme5VzP6Q/KWd6hiVb13ETz+QSwum8+3zP8rn8YC+qBUDYxlnpuV5Z6OcgfE6rzTFpZ425xTV/1xWpRrm2H0vdK3yTo8ySS+mZ/ddIKEj6KUzrogAN6vhl9UDet6hK8c2mnJtSVttUH3MPYKHVb7qcvuEer+7tv+c19WIaKlUagcLs6d34h1lYvlb272pWzCc9qor/39EznNMtT+guLi7KTBZnEpH5TztWXTjzppNyfBIdb0l7gelacAw48MLtjTzrhhDxPdFq3yuyv74wxcspYJA/cw1GHc1uND+cpp2e4th2c11v/6ShEzXWt2mq04b+p/BLKzpgI4p577tnz7csIMtQBuAGYD3WYbbfdtjr44IOzYK0LfsshuQRKPZl0DVjVq0MbKDQRHVjHLRMm+I4m7PxiavYdLdekDc5nKnWOwYbhE9TdYrDJUCAQaI2xQIYCQwsxQnvvs0/1hZ13zm68+pwByMVue+yRXZVnJGXaUvfA0KA/MjT66dwoAPJRiIO4DsHT8pWw+GDjCI+VMnKqlM7OmiS3DfdaCbDGqIH/WPC1fCsO+0nxYcst4f/9998/x+C4nqVJvAOhKhDbb5LXcdl5fiAQCARGJ4q7lZXZwZKEALH8UGzFDomN5EJrxvMEhhcRM9QBkB2EREwQN4hAOCRFsG5Z2cCCw1VRwLoj8NMKI8SINcYGlcyY7sHaZMdtv7mf693LMwSTCrZFmliYDCi/iUFQDt/7LL6CH7mpbfSFwYwZCgQC7TEWYoYCQwsWfrGC5Dp3moB1wc6CvwVQW2TBy7DB+uvnWKBuZHmgO/QXMxSzYQfg3rIbub86qwh/q35YbsQKcZvZbsBqDMTJOQJtrT7A/h0ITfFICqITaFr/DUGzi/quu+6aY4ucK07Cih9E1LYGX/jCF3oD9mgTVtKUewYCgUBgdEH4w9ZbbdU7FyBFyJBcQpRoSvkWSe5bBBBEaGQRZKgDcJMJoLZseMkll8xBY8DkiQDZbPTwww/PuYTE/BR02rlpDyL5kSQrI6yQKXAPuVKQJSvSELICGkcgEAgERieEV5DrLD+SLMruLGs3Wf7J9dbLy9Gt0Iz4zZFHkKEOwSJjNcA+++xT7bHHHnmLAZ1cpD9LDRLE7SV/C5LUDRCeQpy4rupLFGkP5TcrLOrR/t0+JxAIBALDCzJdeIRQCCkHLKmn1JLzVsJ1qjQHhhZBhrqAmCBZlLmybD5pZ2/uK1YbsEoMGSqB0gNFX7E8MXACgUAgEBhcBBnqAFxhMkwDlxbrjCRzlufvsssuOe+QRGPAJ2zVQCAQCAQCgbGBIEMdQFpzS+QlzqoDMZJsUIbaspUE329YbwJ1cKOOdKC75ytHIDDeMBr6vjLEYpfRjTFBhuTysZx8pMDSI126o1WHLnkjkCAp52XYDQTAykPpDJpEerjBdSsbupQPgcB4gbhKm5zafmawlJJu7lFI0HPPP59TqNhGJDA6MSxkSAZrK5/sFD6Qw75flrGPJEwmEh/KDVGySzskPpRPyMaRguLsYI4MIUdIXIEBYUI0IA3Q5m8Il99c5yjwXfnNNYhXQblPN4MzMDzQXiyKEydOzKn26+0GNjY966yzqrPPPrs699xz8yEnVflu0qRJr/jOX+7asnkot63j/PPPz5ufilXTD2Wy5aqt9y8wBuWosmVMSQERCEyp0L/JbMlxJcote+gNN5SjyHebphqj5owYf6MPw5J0kXA+5phjcqckkLs9rrrqqpxTR56dycVAki5aKWYSkghRokWTiaSLiJF3knbfagG5iDbYYIO86sv2HCYz1iQQFC25lhxCrjfBFWsXi1LZqJT2cOaZZ+ZcFOA6yRURLROdeyJjYIsPG09K1tXp0sxIujj0MF4k29PnkZCVV145t2+9vqVpkKsKaRF4T1nQZxAh5B+ZYlWy0a/vkR1tbQWKBJz6MVKkD8pwq03tCm9LGIk8EW+rVqSFAC5d5TKe9GV9qrmlTGBwEUkXRw4UVQrHTxIBscWFHQKMEzLcLvNF0bbzvESIv3/mmd6jbB6MsNgC6al0GIsO9yDrW8lOv5kXHnn00XzuM2mc2sH+/5JyazNYSi4Z/tDDD+ftlN6W7hPjb/iAfo74rvWsJvvtt18W/grT7VE2P221n0i3GAgZshEdMmIHYKRDpzfYaBs6OBKDBNnzzBJ8g8juyCZCg1AOobIzuIzRJj/XSszot0UXXTQHYCuXQUiDkZTRb5JxWZJpt2cEyUB0L795Bzsp+61sGNofggwNPZAZW6fQTHfcccfcXs26tkXLUkstlfuMzRm1JeF84YUX5n7yuc99Lre9PqGNjQH9z/kINZfXRRddlPvjpz/96bz7vD6k/yDaSLXNZfVN5ziQZv2HRQkhd++B7G8X6AxBhkYGrDCXXX55df4FF+RJb43VV8+54SgIXGaU0AvT2LFb/O8SGaJcGnuUXslsf56UCaSFAsHKjzzdnEiVudC170oy/r3TT9/ztJdBseGOM1btMIBIGcs2kyXDESDkh8JCoUHSIqRi+NAfGRqWjVpNwJIWFmvHQEBo2yh1cjGQjVpVkTpwIEKIjI6vYxtkJh2Eqb6DuYFXd3cVWInWdJOBe/mtPKcOE6lBY5A3Tb1lwHZKbGKj1qGF/iH1AtIt79QKK6yQ26gJ1iKWI0S2tJ0973baaaeceBMpYrkB/Yh7S//ffffd83flXOSam4zVSN9ghd10000zWUK2ESPkqWig+pbv3Gf77bfP47pV+QKTj9iodfhB9rKWHnbEETn78z5f+lLvODI+/pJkN0Kz8xe+kMeEZIjGmx3YjcN/p3OeSuTniiuvzOPGGHk+Ka+3pTnszDRukCaJE3fZeedq+gYhYs0l9yka+x94YL7vVltskRUQ3gIg988488zqtDSet99uu2r9NC92KrsDk4dRs1GrDmG7iYEca6yxRm/W55GAQaMzK4MBYAKjyUu6iO1LvFi3zDgfQUGSmgcCItFW83v3MCkhVc3fPNdvyFLzt3Ym28DwgyDm0hLHg6Sw/LQjGhtuuOGrXGcF+k8hL6BvLb/88tnKWFDcX3XoW1xjq622Wi4LlwDBXIfrVk+aMk2VO9Y5gcCUAorDDxMJ/d3TT1crf+ITr9gv0vh4Z/r/o0lu+2zssc58fMklc5Z/FnqfxX1ulMansTt1kvvG6WqrrlrNmuQ+MsNCdM6kSdm6U4f7kdHmBs/9ULoOEStECHxGpswB3HgsSYHRgWGZRcU56GC00IEce+21V9akA4HRDFohawA35KpJeCK27YAMEYidgpZrK5iCOllqAlkHE0PTyggENHLFUjuQjOmBwGjFk089Vd10001ZuRRq0E7Z6EuBNC6FIVA+yjij3LqnMW28nJfG+UWJzBjzTSBaFJg6Carjve99b95y6bcPPph3rWdRCow8hoUMibexlQWtdSCHYE/xEoHAaIbYA+6pkpSzLzinG2QttUPyJFYFxK+JN2qFEsdk4nj++ed7vg0ExjbEhAhj+GCPVaZbICYCqpEfYwSxqUMM3pJLLJHjPhGi62+4obUy8b//tbTewhvT97PPNltWVO78+c9bhlMEhh/DQoYIfjENrUCLJpDFWJQlxq0OwdeBwGgGszm3FPdlyUg+1CC8me4dtFTxEMzvBPGECROyMtEKFBQC32rHsjoxEBjLMBaK2/eDH/hAn9afdjCGuLpZhAQ+1+/hu5kSydp8883z4gMB12L5rN5sps7gpm5n8XFP4RasR1YnN+NHAyODYSFD7aATnHTSSdX+++/f0j1WDitv5GwJBEYzrOSilSIZYrmGA6w6Vq5wz8lpJB+XcWXBggBr1qFWLjUKinLKeWJlZCAw1sHSYgxCPVaoHRAWS+mtMHv44YezInNtUrrvTQpFO7wuEZiPzT13tcWnPpUJFyvsxNNOq+5vJOT1qf5/E+JAkSEpNcJNPTowomSIFmtVDGFuKbD/Wx2WqYcpMTDaYbUXAcgq0y5eYChgbFjFRqudYYYZcg4jcXaW7LcL4FY+5bT837WBwFiH1bYv9MTwIPr9geVGGgzL8OWyu+TSS6sfnndezgvUCpQK44brbJmll84rkt+RSNett92WFRFejl4kOdAXGXIfY9P4axXXFxh+jCgZkstBNL2OK0DUIS6Ci0EEfzmw6HnnnbfnqkBgdIIwBkJzICb6Vhac/kADljNKuggrL3fYYYe8tN5qtr6gfI7iZgsExjr+7z//qf7b4656XRsloI7XpvEmmHkWiWs//OEcyvHROed8VZxQHSUOSCC1VZvrrr12/v+666/PMUT17W76IkOW8oPxF4r+6MCIkiEJrmiyEsztvffeOfeJDsnE7/9yyNXSTZLEQGAkUCdAfQnCdhgIgWJqt8oFKZKLS7wSQd0JsSplbGc9CgTGEnKf7+n3nYy/qRLpsWJs1VVWqVZKCsWERG423njj6v2JILVEunc9KNoyfXPVcssum5836dxzq4svuaT614sv9usmq/82kHEfGHyMaCvwlcqyu8cee+QsugLTWIJ8t9VWW/UeK620Us7qGebEwGhGyYWlXw8kDmAgQtE1A7EolTIiU90s8Q8ERivekPqyAxCS/mDc1BUBY4mlaIEFF2w5pnxjvNQhEHrzzTbLy/gtoDj7nHNy0kcWqr7IkOSOrELuVydYgZHDiJIhGiwXGW22xFkI7Lzmmmsy+Snp0cUM8e0KNgsERivKChFup8mJwyFE+xKkdXRzbh3Kx63HotTtMv9AYDQCqX97mkvgrzV3VTs0yRD4v56x/RVI37VSWJy/dVLa55hjjpyh+pRTTul3M1bjjzLCmtskWIGRwYiSIStdRPDbu4zflK9WZlybnx588MHVEUccUR166KF5Q0rBoXV/bCAw2qDvIkRWZ3Wbu4fgtBINCMr+VniVZG+I10BiDuRJEbwpgzplJBAY60AqSj46q8Q6QZP0+L+dpbSd/dVzF1l44WqzTTbJlqWf3X573qT1f22W1hvrz/35z3ncylL9+rAMjQqMKBkSH0Qon3DCCXlDQ51KsjqC3lLh73//+3l/Jzt3E9jIUyAwWiHJm8yyiFA3+/DZK06yRvlNwPJgiwuspGySIucaK34H1tIbbrghp57oJhCaAuJ84y02aw1MKVhg/vmz9cb4a44HuYCa1ppOrarO43p7sQ/FY5lllqk2XH/9XuWi3Z2V47HHH8/3FAsrCWNg5DGiZMgKsS222CJr1EyGOrHd8e3pxIVWNF6/r7322kGGAqMatp0R30bYISudClpJD+1wLdO62Lm11lor932kqBknV84VW+dc44K7q5t8Jcp3/fXXZ7f0Kqus0tEy5EBgLGCuOeesPjzTTNXTaTw88uijPd++BOSI8m0bjBIzJwTDmCorQZsQ18OCanzZ78xGyGKDWG+b41tuMftoWmVW4gdbwf3uvueeTJpYlGIBw+jAVF+V1bAP2JSO8ERSBhtlybyAacvqWYbEMFhhZmJh8qRp62CCq7kgJhcyXcseOl5Xp/3sZz/L+TAsx27l/w4MHOqTdQjREPNmpUlfQrEA8Wdel/6/KAP2F9Pfywa+BSX1RDnXIVbBthvO7aRNle2QQw7JeYis4ByuBJHjDRLyseItv9xyPd8EhhoIPqJy1y9+UU2b5hAJEsv4Iffu6dm8+MVEjN6bxhdFgJtKzKrx03SbUUp4JmSKRrBe/7rXVW9J1zgPmWmON+OTovJCIjzmsVlnnbXnl5fxi1Q2gda29Vh3nXViAcMwAXW1Xcs0qV98/OMff+nLGkaUDOlIpSNwLWDoOiwNeZFFFskkycRA8OtYfeV/6BRBhoIMDSWQeRojyxCSI98PAd0XnIc0Ea7l8L/A5qbWSHg3zyXEEZpO2pO16dvf/nYO8Nxtt93yOAsMDYIMDT+QFJ4EgcysL3MmRcH/vmcJ+uc//pE9DFaMUQaEarwtjR3jyHhrkiGWIVYjc8/s6V72JjPejEFHc8wVkvT+NF9Zet90QRt3p59xRr7vVltu2XabqsDgoz8yNOKzoU4rQPrII4+sDjzwwLz9hr1eaMpzzTVXJi7+F1MRCIx2EI4y026//fbVhRdemGPf2pnghxsWIJx55pmZEMtSvfLKK/f8EghMObDv3iYbb1y9KxERiRBZdigoSApPhGXwCyUiVA7eB9bWJhEC3gqWnuzB6DmfgkM578u9xVXX3BeQwq88grs/tfnm/W7mHBhejCgZIpyPPvrovGLse9/7Xl6SeNppp2UzZh3M+vYw6zQGIxAYSdA8t0xan9if2267rTr//POz6X4kYaXa2WefnceWTNUbbLBB1nADgSkNFBKWf/2cJVUixBI/hPC0O9qh1bmOvuD3Olni9bj0ssuqPz/3XLXeuuvm7Tz6sxgHhhevSQSjT4YhtkAQZz/etAHBTvTrrbdeJkXF3MiUefzxx1ef+cxn8v9w4okn5s1c7Ug8uQJ8k002yZOU545HHHfccXlFknYdDLdjoD2sBOMukytro402GlHyQRhTNLgGuJ1DEA89Lrjggrwidv+vfKXnm8BwwtT2xJNPVj+56abqo3PPneOHRgoWPVx77bXVggstVH1klllC9o4A/pv6w8mnnJJjkffcc8+eb19Gv2ToG9/4Rg4is/HjYOOggw6qvvvd7+b4FaZNsUmnn356dcABB7yCDJnAZanm7xNYOjmwAocPWaKs8QhLsK2MUOeBoYc+bQNXsQMjKQCNYbFirFadxBYFJh/SF4gZWnqppXq+6RviSNIM3vNfYDCgNq3ekvNHjM9IwUo21mExhYFBBktdkml92+pews/vuqtaYoklql122aXnm5fRERliGfrSl77U883gQdwCYWHn+plmmilr0hMmTKg++9nPZjKkaDrQTjvtlOOKxA1NbuDz1ltvnYO2rV4bj+A/tzz0o3PN1fNNIBAYCvzhj3/MikerYM1WyKI4yFAg0B06cFuCc8QfL7nkkgMjQ0PpJtt3331zPIVVLSw+2DPiY0my5fTiHO65557qsMMOy0GoPltCPDmwEd/yyy+f86uMR5x11lnVXYmACuALC0EgMHSQidhxzDHH9HwTCARGCqjON7/5zRwsPyA32VCSISttWGrkU7EtADcC6w8rkf9F30uKZcWZJfZXXXXVZG9qJ2ZonXXWySt+xiO4Je/42c+qHXfcsc/VEIFAYPJw449/nI9zzz2355tAIDBS4IYWeyyovhUZGlHTAN+dPCcCem3OeuWVV+YMoTZlvfTSS6sbb7yxeuKJJ/IyeysDYnffQCAQCAQCg40RJUMsQlxkVtpItCh7rxU3kl/5K65n0UUXzeeIJQoEAoFAIBAYbIx40Ij4nS9/+cvV3nvvneOFBE5b8bXddttlErTffvvlOB/xQoHA5IKplLXRJqiOX/361707wAdeRj/e87YY6HWBsQUrtFjwb7/99nw88MADL62GGwTkvbvuvrv33rbCsCpzoIg+ObwYq/U9ojFDdXiGfEMCpRVJ/JClkPx7Bh1fnxijyUXEDI3+mCFLkl/okKBYITDzhz/c8f5ahKptEjzjzp//PD9np89+NsepjQS4ha3ukwOjDmsjjIE3Tj11Nc3b356X5A5Xe8mL9ORTT+WtDLpZCiy2z7XSVsSmyt3HDAkXsF1KE6zktoFopmZAQKRtqIM1XbzlUEO//elPf5r32ZJYVFZmC2IGI5RBrGj93nYhoDDbtqZb6I/Ge8kaPdyQG8+8VmDRisVCvCBNIIBWVNchDczkppMZTlg9qd2UmbdnNKG/mKER2ZtMoZAfCRZ9NqEZ6App4Eubjgj5Tm4UicvEEO266649dxg4Ym+yn1VPp4lOrNZoXU0m47gUAFdccUX105tvzkH0dor23cOO9D8yw7Lz45tuyjtVtxIuraCvSTjo3S+8+OIsgORcGoxNgAeCZ1P/9r5STFggcPsdd1TPp4nGu96XvrcUVNbov7/wQiYYJptOlpFODk448cTq8lT3xqCNJjt93hlnnFGdf+GFeQsDW+kMdTlHOx597LF8yPbdCVhATCTSiJB3lMDSXyWKa5Jh/V//Pe+883L/IS9NnsPRl5VFOIN+Kkmucgp3aBK2gaDcm5Lg3uaIDTfccEBES9qWE044IZePzBvuPmn8Gt8I8eWXX57jYM17880336vaUxsibrbxcZ26pOQNB7kdLFitbFcJZHm55ZYbVTKAkeWGG27I8mlU7E2G+d6UJjDZcHV0eyX5v7ldAQImyaKKdW64MsYPTMDzzjNP9fDDD1c3JzKECNjHxzHvxz7W+9meQiaQuubVHwxOZNvkYvfpkcY7enbWtlmkZdg0YVaAj6X3Q9otAzUOTjr55Oqiiy7K6SeGGqwTrDwEWhME+R8b1ogCeXWeSkRbtutA96BJL7744nkSvPrqq7NcZLGkuLUiGSxw+oj+QZFcbLHFhi1/mgnFJG3/rcG2WLq393DvySVXLBUImw1SRwLaTptS3pAiCg/rvFXTTdcf6xXCJls1i5/rRqNVSLnVJ1nQRFFayYGxhmElQwgNrUfm6a997Wt5TzJuuIMPPjh/L68QsAbRjL7+9a/nHbZV7lj1Qwa6B80WIXhLIgjIy4xJ6C637LIvHUnbWGH55auVV1qpWn3ChExqxjLe/KY35QnPZpAmFcdSSWvxjmuusUZ2635ixRWzlnzW2Wdny9hQgxt58802y8K4qdmJt6K5thqPq622Ws5ftewyy4wqjXCsAPG1ISgLi89IJZnIvdPKiuscYQXIg2tc29wlfbxDvYg9XXfddUfEEq7tWIEoPcYTwsq9+a1vfSuPpToQwLJpLBlI4fN5KMAzIyv9QPDHpPScnJSzVkqohU7qe/MxmMdu2EpLeDL9SXpkGT3XBwaMMdOCDj/88GwFQHxUtB3sacK0U4LVdh2BQB36xVJLLpktPUMBfZYW1CkRH6wA0jpYjFZMZMgkx1rDlN4OnT6/vFc7LLLwwnkzSTtv1+G6a669trriyit7vnkl5kuTsesGe6sb79VpG0wJWGihhfL+cazlXGDNOJICREjSWtYhRKgvAtpNPy5oV++l//hrwhtM4tu8d39Qxr76vdXI2267bd6pvhN4bqv79fecTkBx+9znPpfnMiEA3MoD3cC5m/LU69RRFBpz8EBgjzVlF+jeBOuW+pYXcLAxkD7cDYYtgJpJTYCd7T2YPsUG0YKxUwzTM2ygKsP0JZdcUj322GP5OnEL/Ht+s8JschEB1GMn6eKWW2+dYyhYKXZtkT5d12UGL+kY9KF77r03f2fgFIHxgaSdmTDqQdaCNHffY4/q3vvuq7537LHVPEkjKzDIud/sdO0Zr03CfqrUZ5ms55h99l4h7benEqH/bSL0Yn/yUErHO6adNm/GyI3Q6URBIdgvjTHlvioJSu9U4B02TZoWM/umqf/usfvu+fv8/Keeqn7z299ma6r/He/0/FRWmmZ5vu+d88u77+51Y/lNHMb8889fvT+NO5Mr5cTO2uqStWq2WWfN5/4pXfObpNEeedRR+fOX9tor1wvXDuF+f/rN/bnxjGHbvdAgH0j3I/A9a+o3vrF613TT9W5UqQ1oyX5XPlowIuU3FhFtoH7/k2SH31+fyup5SNpAgmmHGwNNuuhdhQZYWStO7JxzzskysNmX9AfxSIKLxdQ0oQ6NH21a4jNZHBADbet/8WgmRX2eFQOp4p4Wi+R5q6++enbB6Q/O45Jz39J3XC+UQc44E6ytjqCcyxvgOeS8Mco6YlzUZY/fBI8j+uaCcm/lOCr1N8TQprdl/HoX/UYZi3WCdcx7sSiLsXJPyje3jTIYC4gRuMYqNf0PxAwinOrKM+1OwFqrXwqA1g/rC3tmnnnmbO0xRptt0g6egeTa1socSPlXJp9ZVEt9qGftrs6/973v5e8K1KP3FktWyu69WZDE6JW6B/cpdeT9ld1BdpXvELMSO0vRuvXWW3M/8Bx17H42diZLynjVRjw6Yk9xAzFq3Jnqw29c7O4hhlOcMWNGva6NW4sy3Fcbq/fSp7SZ67ST35SXfLOSXPmUy3fqnQVNOIX37xSuHxUB1DoT95iXNoANsmWWWSYLYgPUgDUgdOCyQkKnQ1o02korrdTVi7dDBFCP/gDqgvOTAOSbFj9EiNbBqiiW6H3vfW8eOGDACf4txIAwIzhuvOmm6k1pYNctFibtK6+6KgtLfVEfBNf5/twf/CB/JuwIzztTv/xLun898FFw7OlJQ/IMdUmAIAC33nJL9askQJEwFp1OBKbJ47rrr8/P5Gqq7yrvvj8877w8LhZMAp+pHVhRPZ9wqz//5vR85MTzCR7PJ6B+kPq+Z7wuld9z3E9AIfJCoBGgVt+IVbn44ourNyWhwdoDvme5Nbl7G9cggIQXgYg4EqY/Ov/8TAj1L4LwF6luzk6TuQ0StdP0PS4Adah9jPlLLr001yXNGbFS1ssuu6y69PLLs9ywCaM2EDAsruq/SR5py04nopFCtwHUBd4LCVIHlEJ9iKw0IRVoP9o5MrJ7Isd18gzaUjzmKaecktvBtcYSS5O2JHdNTKwEP/nJT/KWIVyxxoVzWOVNptweJg/WAIoU+aHtzAlkufLp/9pOCpRSRit/kTgyW1mQDLLX5IZw1TdNFVRc4mj0Y5OWSVJ53BtpcO8yzk2uSIRJ0jhxrnvonwi1vqx8SMz1qb8LoFYGcwjoX+YZG4CrY9f4652V21ynf/vMS6HevLPrjDXJgX2eY445XkFA+gJyq2+rT3XlvZTBvVlRyqpN5UYq1Ru5VIdrjjjiiEw6PFcZzM/aTx+pxxf5Hkk1r2pnskG7W4yknhkFhByUOVU9qQ/t51zkQz9wPWtPsUwLAlc+4xKp1be0pfGovvUPoS0UUkYHbXPHHXfksvAIgXoo8WDuox3d0wpC35eVk/qmAHjP1C/UDbKlrb0D2YO0dioHjJlREUCN9aksneGLX/xitf3221fbbLNN3pTVjvhcASoGY9UxsPN99tknryAj/A3IQKDgpiQA9Kc6DGLCXF8iSNZac81q1VVXzUIEsSI8+gNCNSlp8qwf66y9drX2WmtVa6e/yycB6f4FzhPnZmDSzJzjXLEJCJOBfebZZ79q6XO3MIAJMWSAgCAogBCa5PlJ6CEspayerzzqR4xRsQKZNL0XMkJIqRvXUApYXoCApXGJb/htIimIVcG7eoQtoUS4yg+2fBKmH5pxxixc5k73QXI8pywPN6FzuU2VriFUCTPaXJkwTeAUHoR0lnRv2q3frk8CS9lZAtbQjum9lFmMGIF86sSJWWNXN1MqTND6lPpmKW8GpFIGTBL2cERGm0BMjzzyyEw4t9pqq7ztEfeFifjUU0/Nkw/SYRIz2ZmQWEZMXiZ58rdY3xB15EPwr30j3UcuuC233DJPKmVCrUP/1JfEjmyxxRb5fO1tMkZmChB61h9uI+/L+u9c1yAJhQAVeG8TpMleGZ3rYBlTHyZd41yZWJRMlt4NsSpQDv0XESnWIBPrCius0KswWcjAemP8brrpprn+yjvro8pMYRhIH9QGNik38VM8TjrppKzA9QVj5Nhjj82kVDlLPj4kEZFBkrRdORe5VKfmW+2vPr0DYql+kMi6wqW9jG/tZbeHci5CS8Z5T+EIiCw5oW+o/yLvEBKWOfJEfesz4Bry2Jzue3LT+aVdWQvJK/2bLChtroz66dlJDpB5yuPw3t5JvWlrytRgYdjIkElKg+vwOpwOieBgnITgmkk4axwV4qUlW9QoOoxB6/rA+INByOpAENcPWoYBXIf+ZPJEDliMTBIsKWWZbjHV9gUroizdf0caxDMmoUVI2g7GILXbcbEKmfQJG89ZZeWVsxXGuR9MAsRg9VcZueG6BdKAeFEgCOwLk8aKDCEcxVLD/URDnSFpWTReLo7yfHXg+6vT8y3VBXXoXrQyvzmXsDOZFo3SxGtcOpowOZtYnMNdNXsaw8ZxsXzRDpuxW4QawW/icY6JJ33o1eTU5ROJ3PgO2XS99z4vaeTcY8gdK+502iARLUrRMksvXT2Y2sfSf9r+lAqTeQkbQPpNgmXi9RfZ1p7ar0kY1OGkSZOyGw2J5HZwH7LVPdUbtxPLjrGhbUEb+l3yW4eJzr31Mxo1N4+AZP3FmNDn/NUnmvBME7U+4hyTJHJkDmBxAnKde9g4YalyPrLc1725VJDDMmewTujHyo18u5exqY8h9fp5E8iMe5d6Q5p22GGHrJh7b/VhEma5WW+99aqlU58zbtQhGYAQUVAmJlKuDruFfo/QmN98dh8LhtRHO7BIsVSpe+3ivdURWaNsCFEZ6xQPZMF7eI7f1Q2SyxrE6MBaQ74UIMQIk/HmPbUDcoNMs8gqm3v4HRnSP7UBcqT+wfgtfanAecqpbfUvz0V06jIAeWMFYq3ybL/5HxnCCZRLeShb+IA20Wba2tFXvXWDYSND2dydXlLDNOF7lYA90gywZoOpaJAGPVNnYHziT4mgsATUD32iCWTIhGkAGuisjP9I/c7/khp2Mnla3TV1OmgclyVNk4WEQGClEFdUhPN9aaLhJmIZIXTrQBBYOghKQqwbIEIClC9KWudZSSv7fhIIJgCkboskPIsVgIAysSAbTRJiAjDxIVC/TNoYEETqgSuB5YUmpj5mStcTrEMFY3jpRCRNPuqsXh8vpjYixNVrEaja1WRJCIrPKkITfDah+k0feD6935QMk43JS58wERYro3bjwkBOiiWjDv1Cn9FX9Q/XsfI5TGQIkMm8qRzQ9vVl1yHEJlowsSJYytIkXu1Q4ndcZ/ywWugL2tC4BHMCFw9FF+Eolqi+wEXk/cwj7l3ey/1Nlu5VSEGnMKaMDeVD3NUPy5D/m7mJfPZu6gfZZNkaCLSDyZ91hSWVm1K521maKBLe0zs6p/ne6oJMAONePShjmUNB2ckK1yMkdRKhr7HQ6Gvay+/6gaO01+SAm9f9EXvKbB2IIHnl9wLvom4RKUpYHWSxNvCO+o8yDwaGjQxpLCzQADAIm4cBbjCIDdGIJpLym4rhzwyMTxDoK37iE684aDl1IQX6EJM3q4EBhswYeN1YFQlGS8ORKfEWYga4wyRDrGtSYiUIE8HSBGkd+jkNidAx6XQD13AFPZ40o2cSMSCMVl555erTW2+drVNFuHm+cykQfT3/sZ7ns+RwWbEonXjSSdWpp52WXYfI3mBpVu1AmC2RxrWxrz0IW0DIxDaJ0SjvwA2iHRHbesB7AWHuN27MgWjlYwkmZVoweSgWw6FNWT6QAlafVuQEWXDoO8gmy0M5WJhMxPoImdwOrkWgtZm+5jmCrptjrhVMTiZqY1Bck0R8Dm4S5XeASdaEp+0Rcs/sD8a3613n3vV302/0DxP5QKFvIRPcy+ajEstTh37JSoKINN2X3YBc+/znP5+tHcgXhb+4mJvwvsYpi4lYsPp7e18ktrjJKGP6jncoYw20i/Gl7RkfiixxX+9cVri5v4MVZ7Bkg/bVX7WR2DH9E1iF9FH9vO62o4zqn96lSZL1E8qVfuO8MUeGQKFVNv9z81BB3B4CzZq/MZeVyguMLxC+BA8XUf2gwXFRFehbLB7HJ4FiovhbEhAGvRVMVj11CkJ/4402qjbbbLPs+kIWzkyCXIJQMQImByh/m0Sk4I09k1Q5r1MosxxKa66+enZJbLXlltW6SYiwiNS1PBYvddPp8wmPrbfaKrvQ3p4mOTElrE4EsIDrMkENBZSbuZ5gQyoLAaPVqeNZe9x00F+9qh/3Q0wHSwiOZnAHsACZ2FiH1I94H5o07bgV1E1RPk0kJsZymIBLvGarib4J9zGhqvNOrULIGrktPoh7Wlub6JrXa79ybwStExQrRbFw1Q+B6oLJuW4mB5Qn760PtiJoxp138V7dKFpNuDcPiLAQZIZrjuLVioCU9262pwPJEIdrhRZYccmdx8rKpYhAIkHIDbeSvmM8FnmCYEl5Q8YhF/X26oT8dgJ9kUsXoeZ+5ObNMjsRIW3JMlhHIXHt+lwpm3oZLNk17GQI4xR81jyYfZEhZKn5mw4yGKa6wJSDhRsuApqoJcxcMZIzrrbqqtWqq6ySl7R2KmgLCIsNk2Dd5jOfeSn54BJL5IDA004/vTcwUEJIg5AwbDUYS38lrLqBAU5gsKYgCixV7tEUym9N33XzfILP5Gmlmolwg/XXz/5/25kIkhxqZYNlaqEkrGm+1113XdYIb0mEDKll+Sgo5aVBtnovk5TJnrB+fY8wn5LB5SlGRPsJEDaJ0OBNgMVl2kSumx4yaQGB2JRymHhZI/xFTvuDSczEo947mfhNpHIfsVgYR1xB4kX8FZdSn1z1afc2L3RKKoq1kAuuBPuWQ7oQIRaTS4YQDvWnD7Yi3N7R+Cpkc3KgrdSNmCdj48QTT8wxP02U91anzfcW6/SFL3yhlwxpV8HVLE5iw4q1xzzKIuRc4QSlLVhrBWdTmJSltBkS3ooMDhSIuIUtLFmMHwiavsLyXdzkBUUmIP+t5IDvtQPr5WARtmElQ4DxMec1D53Ly7X6fUoiQgS5zs5kzDQJGtvnsH51DppUPVaGa4kGJDiY0KX1ErQEVhotPWf1DwPVRE34sMaw0nwmTRwEg2DfEvwpVoig0GZ19xmYOEpMU9PfPVhAmHqfn55XR35+j7m9PJ9lgVuJ+0z8EWsTS5HYi1/ff38WTEMJ9blSIqbKzFWDhJkAF22keFAeE4R2aOUGozCREVa3EYRTOpAgcSXamwYvczFZ4bvct1tA33eYzE2wJuzmQUHoZKJzbonFKa7ZvkCGW+nl2bR9E7K2b2VlUQaTs3tzJ7u2P5T+XNxJzfdyFIvHQGGMIKHmHUpWE+YkcVjeqzmJDwT6PCJHuRM31CrO0Hub9Mkm9dTXezuPu49F3eIKJCSP+0SW5DlCpupKGoJNjnDDK4P3Ijs76R/dQPm4w9StwHlWK1ZEBKnZZgLF9Zmmqw+8P3lF7jqv3TjoFsNKhrwc3yF2282BsQ52w3QCk4rGYtarHzqs35pgEm6e6yAYQONhwvItOSyHZLo0sPjU5boIDAw0OEHSBGshJwS3gdRKu2sHJIKm5B6ECqFAWBHq8NqegSepoESFCFgzmNtARXgJo7L6a7CB8JmkWKqacQbiGPRbloMSlCgZpSXNBIn3MhHNksbWe9I5/u9kfMlP5Fx13Kr/9wX3J4xZiMRDWSHn/6Z1Qp3JK6X+BY3WJ0jflVUwrq1blKZkmAgl5lP3rGqCUQWWtgMlgfsFyBs5X5okpj9SU2BSdS/txzKlr5Vr/TW2mvfSPtoNaSi/kYHNSU0fdG/zgjFn3NTv1ere2l2/1g8czX7YPH8goGipY0DsvE+B5/nOu1GQkNTJhbq1ms7iIe/WSvln7UIcpQmRY6deJqi/N8VQjC0iJwBcQkyxuFyu7o9MUzbKNeVe3qmMN9/VzylAPJSXDHB0A/3Xe6pbZRST6b2KbK2D1VpQNwVAoHod5ktufsqQew0WGRq2pIuY56RJk/LSRWYxLLTTw8A3uTDvTS66SbqosWmxBioWy99qiamG4JdF0jRwgU5KYDifKZu2o9ENYNousrT33nvnmJbSqU1cDoG63rPpOx1sjIWki+pdgKwYHQPaYBEwDTSIep0X/CcNYv5nxESW438mgYIoyLh8Z6pvg9weX7QSA9xKMO1k01FutUK4tZe4tXem88TWEH6PpXbTnv9M5dpk442zQKFZvZCecVuqT22LmAAypdzicFZL2jvNrC83nXKxgOgPOXYn/b9CKqcB3kqbLuAmI6wkIZRQkuYH3h/RuPW227KrkDXG893bVho0WeUlcK3sEOQqhYBl7M4zaYnr8V60RO7IUufK6t4WNej/ni9bNVJCRqhrK49M3ksmAewd6m3luWK5kDK/sbiVchd43zemcvwqKRzPJC1YXJjkj39NAly5yBB1zYWpHUYzBpp0sQl1gpTogywAZEixkLSC87WJmCxWBm1jcqNls+5Q5kyIJle/6Qf6vL5hubpnlXYr97IKETnVJ40J45KVtCQ71CZyEOlDzhMQ7B6sDOSe/8k7i2HIHnJOv0Lc/EYm+l95THbl3qwWCDKLgnKZAL2Decmconz6IyLlGqsM9VtjnBzR18RYWZptdZzyg75bApbF5lF43EuZ/UXSrchzT4RHOblmvKscPs7ZY489svW43sebQACNSW4qZUeglKFpCXE/cs65SJ45o550UT0iteYf9WP8eG/nmxvJD65DZUEg5ODRRt5PHegLxqa//ifnvLO2db37qnv/m4+co730H/MlS6Qyq1exawK6C4lR9wik3/QtbjnyVL9vyjAyQNm1CRkkE3SrxTDaWnn0AfVO3rhOHXg+174QCC5/z+4EytdX0sVhI0NF4Ht5TBUj7PQw0AR2Ta5QgW7IEJgcdAL+Vp1JY2OqGpLWXQ9CdK4G04HEQMmPYGCWRHOICFIlaZkyMPnrdM43uQps7EvIDQbGAhnSTxAYHZ8QIEQMCLln9IVW5MIkof6ZkV3nQHimSddmAZfaBYEw2J9M709gP53OcZ1nyGbt3vq65xMyv0/3Ki7NvyatadVE4svSfQdh4nzCwMRtE1XCnrDWb00O7tmXsDRBETq21FB+Qpg16nfp+a5qN+EXixUSSHg9kwQfK5XJwPPnn2++6pNpAkE2PN9z9LNnU597MglLq7hYi/S7dRIRIkiLxvVguo8Jj5BBgARjmww8k4BFgJ5N58rJpL/7TT82Rk1AxgTBo8/Xx4dyaAMr2hZIGiJh5p5NeGfP1t6Eufa6P4077eA3ySJpmKO1/xYMFhkCY0BfZCknV/TbvoBA6EvklAld3yC73EM7m+ApX/o6ueY7datfa7u6ouc+2lHbluXkLI/GmP5DtvtdP3Cd+/hNPzTp+gvIl35IITEO/e9c/xvfyqec+pE+7d6sFe5b7u29kDb90n2d650QOiRAf0QkECXk0XhAfDzH+/jdO1ICXKscyq5fq9tCUpRJ+XzvfRE6dYUM6XdyDbHW9aXoAAXaNcrq3trDOOe6asL7GtPqwNxSV4w9R5uRN+qUold/b2D58Y7GFKJkTHp3Y4iMcrhWnWhzdUieeX9y03uqd2VVRmVxH2OxtFdpb4q+a9y7vA/DgTGq7skd5UDC61ZM5fM853FxmQvdswl15Z7aS3mU3bsiitqBfC3zaOmn/aE/MjRse5PRRBRkIAGtrjWJi4CfXAgOE3zYzd5kJgbWLOXXgVSZziFwzX5rWGwdgr5F9+ssddaqIZFLwW0Ei4GiU/rMXExoEnpDibGwN5nBaqJtBZOoum8FkzRtjmDX4e12j4gSZOV+MydthnXCIK7jDel8E6yBJQhb2+l32ptlQjDznEmDaU5CzyVhYZAarNoRcSA0PLfpAmoFggOBasb9ADccMt0XEGoxPyaf3ucnIWZPMUKnwCSknCxuxV1hE1gCiYZH+BD8kkTWRYL6UGclFxHBa2sNQl07eI6JSptxU9ZBmDU3eyVLaKcmNoKsHYw576XtCN9CujyPcB2tfbeOge5N1grahOVTe3SqmJqItIt218/cQ5/ULiYTWrpJySRY2tz9tbXf62RTuyFCCLX2cC3FDYl2D2SGXDchk2FknXNN3giM4H2THrLtWcgGK4lrlLPc25hzb2VkMVB+fc15zi+WXf3QpGjcKZtxqdxcKyZx76ufeX6Bd9Pfjc9CBgr0J5mS63OT3xE049PYKPVnbLMIkTH9gWVDWerwfMpoKygv5YiCpg3q8HxkxXsjNeW9kUNjqcQvqUNWL+8vybH6LHB/RJblSD0JzVAe9WyO1Rbq2PshkL7zHGNP22pDiqK5C1HS1uqc5aYYTupQJuS0DmNbX9a/LKDoC97F+yozuYVgKa8s1sqvTTuF9uxrb7JhI0MK4j4appsXAEV0/WAIwMkhQwSzBiRcQGNIeW8lQH0QtSNDBrUGNaDUgcnLINOBfKej9VU36sDv3dZfHWOBDE0O1KV+pp3qQqBbuA/BoO/ZpNXKpXb17hwJBO2Z5bkG7OS0Ubfo9PnO05cdQJgXTbhTuId6UT8DuR70e9d10v+U1fO8j+eNpT47mGQIEA710G2/VofGhLZz7UDarMB9tId26EuWe5by+qs/dvLMTu9dQB7qS/66/1CNu8Gsv8FA/b2bdeU7Vq8DDjggK+tWhdXHjHdApMxZSC0yhNCC+cn1nbxjaStjUr13C9dDp9d6X+1Q5Lq/3cK79UWGhs3OrPAIw0A6q2tGgxCkEdgbBQkCLB3x4dfWyfoD4YCBc6FNnDgx+1bFl9AeaEWYdh3uyUzMzHr66afnoDg7GQu2xpZ13sAroZ/QlgyYyYH76K/uxWrUV7/1G4tMee5A+vjkoNPn+57wcp5jIELdPQiwgV4PytjpePYMz9IWo0EGjCTUwUD6tTo0AVC2BtpmBdreffqT5X7Tbp7b6TM7vXeBOcUzXDOU424w628wUH/vZl2Z8FmEuJaQHPWizOUwhswp3Gfcgqx2BeWenbxjaatOyUwTruvmWu/heco4ECLUCUa3032UQePJ+cFnb3AAt4yEVZ1kGubjtYJMMB1zsaBBgdPYKsubIMb6igsuEOf63aaBSJF9gg4++ODqwAMPzPFPTbNkIBAIBMYnECNuJH8p2dxLwgZK8Dz3lOSKSJQl9nVX+nhHkKEuwZ/KOiSZGS2bqdCqJB2sGYfSBJcYX7dVApJlSXwmDsp3SA4XFv90AauRTK4CAQWkWXrpOhYjEfWHHXZY9s13YpUKBAKBwJQNVhMrv4SD8DbwPlCyHRRrbjEuqt122y2vHBwqK8tYRNTEACDgVKZTAbfAXSX1vBVnJR6jFTD2kt1TAJ3rddwSV8S6xI0GOiyrEWsSOM8qPLFLrmURErhoiSF/aiAQCATGN1iEBIkjO+YagehcTCxBFi3IyyMD+aabbvqKeNZAkKEBQYcTWW8fnBLBb1WDmB5R9u0IkU6KCLHkcIGxFCEyLEzgOv5cEOQmYWOx+rjWc/lMdXCM3m9WHrhPIBAIBALmBnGtlv4jRNxh9lr0mVfC6i8hH+aTwMsIMjRAYNrMjOKHit+VVYdbi5+2CcSFtUfgs8yb3GqWP8oQWwgQFPLDvyvgGnTusuReB7bMsZg3LXNsLt0MBAKBQADpsUx/coKdxwuCDE0GmB/lDJJcT5Q+15VcC6xDTbAEHXPMMTkY+utf/3pvTod2DL2+Uszv9ZU0ov3LNWWJYyAQCAQCgYEhyNBkQvyQnD0yeSIsrDkymzaB/CBDVpEhRtxlUolbnYa5N8EdVmC5ZH3VGPJTLEjIVHGzBQKBQCAQ6B5BhgYBtvawb5q4nnZAgixvBCvD7LkmoJr5slVEv9TrXHGA+BRXms8lMzLIExGBcKMf2q0kNRtOeF7kowqMNxhv0pSMttQjlOWScDAwuhBkaBDAbWW1l6Xvlt63Qn3FlwFaXFslk2gTAuCkHC/usBKHZDBZdVauYZGqJ84KjD4gI/ZakwxNkLy2K5a9oQbBe/U11+R4tlh1GBgPkFBQTjb7QFIiR5MyYGGMjOS8B32tPA4MP4IM9QGTls7LxVVWf0mUiIw0NQ6uLtH64ofEEjVR9gICQc8GhLTpchSVRIsmSHtMyUTtXJsBltVq8hDJKXTdddfl8iBJMmJvuOGGvRakwOgDwSy3h3a2671206/yrtw92zWUw07xNlfsPVJ7l8N99JubEqFyno1m5RG5+557cooFu7zbvFHfqRMtz/vbX/9aXXTxxTnhWhCiwJQM4+Tss8/Oh8/kdH2BykiD4ixdyrHHHptXArdShAMjg2HbtX60oJtd61lhLr/88hwQjaRwZ3FROVzfjNXh8hJDZA8zk5DkjIUAWXHGTUZLcZ+y4y9LEu3dvXwWK2QDRJsOIkI2w3SNa11jknTd4osvnoO3WaQ6SZ9egEiN9l3rpxTYxDVvt3LTTdUiCy+cd6GWuVzf0JZ2ZZcl9qqrr67uSuTmX6kf+B7p0d8eevjh3N6Iko0TbQui7ew2f1nql6xNdkV3DQFbdnR+MREeKw71JXFsds63Ua1dpRElG9hGnNnQYzB3rQ/0D6tqJRm0Qteu5PbfIj/JOVmYESQWI+OEMmFsCV9w+EzRtaMAknLbbbflc9yTssGqS3ay0BtPZH0T9voyX1I6rk5j2uazZUNVoRHGPaXZZ2Uwr5SNc0MWDz3Ivr52rQ8y1AewdsRHTI5d5REIJEXyqrLTdx06u51+/cbFNffcc/euAjMIPNN+MPPMM0/+LOnihAkT8nl29pUQy07NSJABYzIzCbIAiUeyvN6O3XZXttGs7NWtrFB9IcjQ8MDAYxE686yzqqXSwFu7RzDrIw5C8H2pH/0mCVeCk3VwnbXXzm1th3ztrC+lG1W3JsG80AIL5L7BfUrjPXXixJy5XB+aP/U192a5vPKqq7KVCJGfO/UxfZTgFoNmg2HEy274BLByBIYOQYaGD8abpLe2LVpppZXy4hTKJflrkYnM/hIR2k+S3KNgUjgQJ4exQ96S9yz/LPAy/0t0ayyV/SHNh+Qwed0cP0iPMYkw2U3AmCbnlaOQIc82ro0/5XVfim278IrA4CHIUAPdkCETCSuNcxEWh8+zzDJLW2uMDo/MOK++HL5MgJ6NDC2QJjdEB9HyjPr9DZxyjYYrZSjXmQBNlt1YhAqCDA0Pnkga4TeOPDK30ed22ulVwk7dc2+yArH8ICyf3WGHao7ZZ8+B9Q4WnJkTsf5L0jjfPd10mWTrD647K2m5+sdmm25aLb/ccplk6yd/fu65vHEwq9KcPcQakGZC+OJLLqkefuSRaumllnrFisXA4CPI0PABgfniF7+Y3cC2KSqbaReI0bnpppuqXXfdNW+lRP6Rxb5j+ZHZf6c0ThdaaKGsyLqetcjCGMSHEkx2OuSAMwcgNHUZb4wZhzZIveCCC7Il2JZL7mWsFvhMHogZsnMBsib2M/IADS36I0MxGw4zNAQtnqWoPpD6g4HmOlrJQEhQYPhAyNEsua6WSEJuhoZgroNgrAvKJri7VkmCmjWyABkq1xRCqy8R2GtMmJD7GNfZj5Og/09PTILzZ5tttkyquQJuve22LBwCgbEO4407Wr9mLUdUmmDl95tUJkgQxYLyUNxdyInrkBlKKgJrwjRuyGokibJqvLEyHXroodmV1oz5cT5lluLLndaO4LgPCz9lZdKkSdlqGxhZBBkKBAYZgu0FOrO8zL/AAj3fdg/B0II/WYcI7oK+yBNhjgxBDqauCWsCeNGkERcN6YVRtMomEBgoxPVwSSMerDGtwE0shqgdmmOK8ikUoaQt8buDNYhVnvX1qKOOygpPK6XCGOwvhIGllpVfjKnxGMrJyCLIUCAwyPj9M89UDz/8cDVtEqTiggaKe5MG+vgTT2Qh3+mKQYH2RVulmRbLUQFShaSJa/hT7GkXmAIg9sfKStYYFp9W0O+5uzoF4rPkkkv2brUEvhOqsMMOO2SiYzXwd77znZZ7Q0qd0hx7TVhMwVrLsiUcJcjQyCLIUCAwyCAcaatve/vbs8DrBAQignL/Aw/kZfdWjMmTYhVMpxDoec2111b/Sn+ne9e7qsUXW+xVAplbgNm/lDEQGOuwulbsnTACRytwI3cbXsC60xw/LEXigDbaaKP8/5lnnlmddtpp2Qpbh/HcH7lBrri/lU3cUpChkUWQoUBgkIHAEIasOZ0GRQr8pB0iM9ddf302+/cX18MC9Otf/zov0xUIeuFFF+U4IbEPG224YY5xaKJYmf76t7+NqvwrgcBAgQhZycXiOdSLAhAX7q1ddtklpzWx+szKMXE/xnyBcdsJuRET6J6W4Ddz1wWGF0GGAoFBhnwjQBOdqkNtFEn5yKyzVrPPNls1W/prVZlVKf2Z2rnFrFh68KGHqt+lSUFyz7J5cCvXGsH7+lQmgns0ZeYNBAaKYpUx3kq83FCAJcc49dfYRIi43rjEjz766JyfqI5mcHUrlMUQluEjdIGRQ5ChQGCQ8d8eDU9IZvtQ51fizUmjXWappaoVll++Wm655fLy39UnTKje9tZXb+JbgCjNNddc1YILLFB9fMklq7XWWKPadJNN8lL7dvvV5fIk4QtlpVkgMJZRLCpIxVDC/YuCYezJPbf33nvn3GBWmFnSbzk+dGoZcs9S7rAMjSyCDAUCg4zX97jGaIb/7UAgAotNXZjTcuedZ56cb6gdnF8SuJW8J9O/5z19xkYoj3K5dii16EBguFBWbeXx1iXBr4+5TlC3trISrZEUkO233z6PU7sVHHnkkTmxI3RSlhJbhFzFeBxZBBkKBAYZ75hmmvzXipJ6HEFfQIaSZO757yWUfCV9oT83WhPK8+8XX8yCnDUqEBjrkCMIqeFmKhtgdwLXdEOGnNtqufzGG2+cN+lGlOQ7Ou6443J6jU4sQ9xjSJPA7yBDI4sgQ4HAIGO66abLglEeHyu7OsFrEqlpiuUcc4Qk9YUOLU8FykMAC9y02i0QGOuQQsKqTdvUOLpBt8pEq/Ho+dtuu22O0+PqOv744/O2HJ1YhsT8uUZKgG7LEhhcRO0HAoOM6d797uy+ej5ph1ZtdQKCsxNNEgjPEpPwYheaMNg89m9pwuBOi/2QAlMCWFBlX2eN6TZdRBlznRAX57SL6+EmE1BtXzR5j6wy6288u1dZRWabpW5ddoHBRZChQGCQgWjYF+z5nk0fW8EKGEJTbiFC1go0Kflto9HO1G/1l/xAEswRtK779a9+lZcW//2FF3rO6huW4nMn2HJAUshAYKyDZWbhhRfOY8pO8Z1COgukBZ5++uk+yQv3svsjW+3Gp61udt5557x1BwtSf2TImBd4LfeXzNlBhkYWQYYCgUGGpIZWhRGGltu20joFWRLciInkiHIC2UBVen/JE1uBIEaenOcamzsiQQ+kazpJzvjPJPxvvfXW7FJYPpVP3FAgMNZhv8a11147u5WvuuqqttabAmRGTq8LL7wwjzewr5ktMew3VofxeW9PAlRKiI1aBUojMU1SxM1ll/vdd989L73vDzZ8veuuu/KKUNcFGRpZBBkKBAYZhBqiYuntL375y2yNaWqJYnZkn52w2mrV9tttV223zTZ5iTwXW7tASgnlxCMtkrTg7bbdtto+HSuvtFLWjN/ST6ZrhOyO22+vHnn00UzUaLEhfANTAvRj6SjsPI/MWN7eSgEpMBYpHMaZ4Ge73dvAFfFhLarDuSUwe8KECdkNlhchtLEOUTCcx2XWbmsQ8Bw727P2brnllnklaGBk8ZrU2H3a8g455JDcGb761a/2fDO2sckmm1TrrLNO3oRvPEK21DuSdrPjjjv2H5wbmCzccuut1XHHH1/NlATdDttvn+OIRoKAGOKPPf54ddTRR2etWVnmmnPOnl8DQ4Ubf/zjfJx77rk93wSGEiw75inEYv/998+bs7Yab4UMlc8FznXUl8/7HfExbsq5zmGFcrQbz+4vwzvlpQlkSln32muvnLTxwAMPzLIhMLRAkPULlvE999yz59uXEZahQGCIMP9881Wf2myzvMLl/KQFih/qS2MdCngey5TnEwLKI8N1IDClgSV2jz32yNaWk046KbuhW7nMEJiydYcxUQ7/14kQOJe1p36uz6xK7YgQuE8rImQl5zXXXFOdccYZOU5IjFEsZBgdCDIUCAwR5CQh8NZbb73qn0lA337HHW3N60MFVt2bb7klC+9NNt44a6J9JWUMBMYqEBD7hdlVnvXl+uuvbxt/N1Kw5N4+gmIEP/e5z1VzzjlnLKkfJejXTXbAAQfkVS/bbLNNzzdjGwcddFCeoBzjEZKC3XfvvdXaa63V0SDss3MEOgLtVMC0vcPmm3feV8UEZf0yaZltNc00RLVDP0O1JZAhG7nOPPPM2RQfgndw0N4m8DLuvueefOy333493wSGA4jQ448/nvcMW3zxxbMlZ7RAuSyCmH/++XPcYF/WpcDggpWcxVCsZqsx2S8ZOvzww3NAmoDLKQEPPvhgnhRk/ByPsDz0T3/8Y87N0QkGMgEHWkNNthJ9WSCm47VtBGMhQv8boIut3XMDA0Rqp07qU9JNLtK+AmkDQwdjJshGoA6uU5tZi9dqol8yhAiJdZhSluGW96Axj0cwJbNU0J6C6Iwu9CW4o63GHlgALVIYba6aQGA8gnw173/gAx+oFllkkZ5vX0a/ZCgQCAQCgUBgSkYEEAQCgUAgEBjXCDIUCAQCgUBgXCPIUCAQCAQCgXGNIEOBQCAQCATGNYIMBQKBQCAQGMeoqv8HRl19unFaU78AAAAASUVORK5CYII=)"
      ],
      "metadata": {
        "id": "IS35Dhuc_VQw"
      }
    },
    {
      "cell_type": "code",
      "source": [
        "from sklearn.metrics import confusion_matrix"
      ],
      "metadata": {
        "id": "x_3RFu-G_Vsu"
      },
      "execution_count": 69,
      "outputs": []
    },
    {
      "cell_type": "code",
      "source": [
        "print(confusion_matrix(y_teste, predito_knn))"
      ],
      "metadata": {
        "colab": {
          "base_uri": "https://localhost:8080/"
        },
        "id": "V7VS1fUbBjKH",
        "outputId": "d32e1b16-e665-4b45-e766-b1ad4bfe515f"
      },
      "execution_count": 72,
      "outputs": [
        {
          "output_type": "stream",
          "name": "stdout",
          "text": [
            "[[1242  327]\n",
            " [ 248 1288]]\n"
          ]
        }
      ]
    },
    {
      "cell_type": "code",
      "source": [
        "print(confusion_matrix(y_teste, predito_Bnb))"
      ],
      "metadata": {
        "colab": {
          "base_uri": "https://localhost:8080/"
        },
        "id": "sKHmx7p6ByKA",
        "outputId": "d4338c7d-1275-4ac8-c83f-7487b864ee8e"
      },
      "execution_count": 74,
      "outputs": [
        {
          "output_type": "stream",
          "name": "stdout",
          "text": [
            "[[1084  485]\n",
            " [ 238 1298]]\n"
          ]
        }
      ]
    },
    {
      "cell_type": "code",
      "source": [
        "print(confusion_matrix(y_teste, predito_ArvoreDecisao))"
      ],
      "metadata": {
        "colab": {
          "base_uri": "https://localhost:8080/"
        },
        "id": "mQjMvgEtBlZO",
        "outputId": "1985a1d7-cb79-462c-df16-dad6e5b846d6"
      },
      "execution_count": 73,
      "outputs": [
        {
          "output_type": "stream",
          "name": "stdout",
          "text": [
            "[[1250  319]\n",
            " [ 275 1261]]\n"
          ]
        }
      ]
    },
    {
      "cell_type": "markdown",
      "source": [
        "## Acurácia dos modelos\n",
        "Mede o quanto o nosso modelo acertou do total "
      ],
      "metadata": {
        "id": "X340U-lkDepW"
      }
    },
    {
      "cell_type": "code",
      "source": [
        "from sklearn.metrics import accuracy_score"
      ],
      "metadata": {
        "id": "tEbXhqHcDi7K"
      },
      "execution_count": 75,
      "outputs": []
    },
    {
      "cell_type": "code",
      "source": [
        "print(accuracy_score(y_teste, predito_knn))"
      ],
      "metadata": {
        "colab": {
          "base_uri": "https://localhost:8080/"
        },
        "id": "aAj0h9DYDmrG",
        "outputId": "0a1876b4-9d83-425e-c8c9-3dc7c57548d5"
      },
      "execution_count": 76,
      "outputs": [
        {
          "output_type": "stream",
          "name": "stdout",
          "text": [
            "0.8148148148148148\n"
          ]
        }
      ]
    },
    {
      "cell_type": "code",
      "source": [
        "print(accuracy_score(y_teste, predito_Bnb))"
      ],
      "metadata": {
        "colab": {
          "base_uri": "https://localhost:8080/"
        },
        "id": "TQ2pE5-CDpZ6",
        "outputId": "995a50a3-2924-4a6a-99e5-f087af213c9b"
      },
      "execution_count": 78,
      "outputs": [
        {
          "output_type": "stream",
          "name": "stdout",
          "text": [
            "0.7671497584541063\n"
          ]
        }
      ]
    },
    {
      "cell_type": "code",
      "source": [
        "print(accuracy_score(y_teste, predito_ArvoreDecisao))"
      ],
      "metadata": {
        "colab": {
          "base_uri": "https://localhost:8080/"
        },
        "id": "FPkXVZfiDsxs",
        "outputId": "871a3df2-074d-4b28-f398-a723aac99be7"
      },
      "execution_count": 79,
      "outputs": [
        {
          "output_type": "stream",
          "name": "stdout",
          "text": [
            "0.808695652173913\n"
          ]
        }
      ]
    },
    {
      "cell_type": "code",
      "source": [],
      "metadata": {
        "id": "ik8193IQD8Ae"
      },
      "execution_count": null,
      "outputs": []
    },
    {
      "cell_type": "markdown",
      "source": [
        "## Precisão\n",
        "Precisão calcula quantos verdadeiros positivos foram classificados de forma correta"
      ],
      "metadata": {
        "id": "y2hWfdAxEOPv"
      }
    },
    {
      "cell_type": "code",
      "source": [
        "from sklearn.metrics import precision_score"
      ],
      "metadata": {
        "id": "cj5956rTEZsf"
      },
      "execution_count": 81,
      "outputs": []
    },
    {
      "cell_type": "code",
      "source": [
        "print(precision_score(y_teste, predito_knn))"
      ],
      "metadata": {
        "colab": {
          "base_uri": "https://localhost:8080/"
        },
        "id": "x3ju16IxE9OL",
        "outputId": "9fac9d9e-8fc4-42b5-cf91-1cf6c672c6cb"
      },
      "execution_count": 82,
      "outputs": [
        {
          "output_type": "stream",
          "name": "stdout",
          "text": [
            "0.7975232198142415\n"
          ]
        }
      ]
    },
    {
      "cell_type": "code",
      "source": [
        "print(precision_score(y_teste, predito_BNb))"
      ],
      "metadata": {
        "colab": {
          "base_uri": "https://localhost:8080/"
        },
        "id": "wm7enNWEFB-9",
        "outputId": "06d21a00-0238-4fec-8f3e-7dc33b9b4be0"
      },
      "execution_count": 83,
      "outputs": [
        {
          "output_type": "stream",
          "name": "stdout",
          "text": [
            "0.727986539540101\n"
          ]
        }
      ]
    },
    {
      "cell_type": "code",
      "source": [
        "print(precision_score(y_teste, predito_ArvoreDecisao))"
      ],
      "metadata": {
        "colab": {
          "base_uri": "https://localhost:8080/"
        },
        "id": "C94G4R4tFEec",
        "outputId": "68a2f174-143a-44f4-9e13-d7a2f93bdc57"
      },
      "execution_count": 85,
      "outputs": [
        {
          "output_type": "stream",
          "name": "stdout",
          "text": [
            "0.7981012658227848\n"
          ]
        }
      ]
    },
    {
      "cell_type": "code",
      "source": [],
      "metadata": {
        "id": "woyoW4WRFKWg"
      },
      "execution_count": null,
      "outputs": []
    },
    {
      "cell_type": "markdown",
      "source": [
        "## Recall | Sensibilidade\n",
        "Mede quão bom o nosso modelo está em classificar os resultados realmente positivos"
      ],
      "metadata": {
        "id": "rGhhD6amGBbH"
      }
    },
    {
      "cell_type": "code",
      "source": [
        "from sklearn.metrics import recall_score"
      ],
      "metadata": {
        "id": "shn8o0H6GEbW"
      },
      "execution_count": 87,
      "outputs": []
    },
    {
      "cell_type": "code",
      "source": [
        "print(recall_score(y_teste, predito_knn))"
      ],
      "metadata": {
        "colab": {
          "base_uri": "https://localhost:8080/"
        },
        "id": "rglH8djLGXpy",
        "outputId": "5f4b4a1e-e38a-4b16-8f77-ec098e6590ba"
      },
      "execution_count": 88,
      "outputs": [
        {
          "output_type": "stream",
          "name": "stdout",
          "text": [
            "0.8385416666666666\n"
          ]
        }
      ]
    },
    {
      "cell_type": "code",
      "source": [
        "print(recall_score(y_teste, predito_BNb))"
      ],
      "metadata": {
        "colab": {
          "base_uri": "https://localhost:8080/"
        },
        "id": "JlmZYyyoGe_q",
        "outputId": "f870288d-3eb0-4f98-adbb-c24ee1404d3d"
      },
      "execution_count": 89,
      "outputs": [
        {
          "output_type": "stream",
          "name": "stdout",
          "text": [
            "0.8450520833333334\n"
          ]
        }
      ]
    },
    {
      "cell_type": "code",
      "source": [
        "print(recall_score(y_teste, predito_ArvoreDecisao))"
      ],
      "metadata": {
        "colab": {
          "base_uri": "https://localhost:8080/"
        },
        "id": "pVFXhDTtGh7i",
        "outputId": "8f7cf883-32f0-4011-df24-0850cd7a8b96"
      },
      "execution_count": 90,
      "outputs": [
        {
          "output_type": "stream",
          "name": "stdout",
          "text": [
            "0.8209635416666666\n"
          ]
        }
      ]
    },
    {
      "cell_type": "markdown",
      "source": [
        "## Escolhendo o melhor modelo"
      ],
      "metadata": {
        "id": "2FI4p3KAIUaW"
      }
    },
    {
      "cell_type": "code",
      "source": [
        "print('Modelo KNN:', precision_score(y_teste, predito_knn))\n",
        "print('Modelo Bernoulli de Naive Bayes:', precision_score(y_teste, predito_BNb))\n",
        "print('Modelo Àrvore de Decisão:', precision_score(y_teste, predito_ArvoreDecisao))"
      ],
      "metadata": {
        "colab": {
          "base_uri": "https://localhost:8080/"
        },
        "id": "uCZaF6HCIWin",
        "outputId": "3b43453d-e0e1-4b36-f486-7d4e90bb6212"
      },
      "execution_count": 91,
      "outputs": [
        {
          "output_type": "stream",
          "name": "stdout",
          "text": [
            "Modelo KNN: 0.7975232198142415\n",
            "Modelo Bernoulli de Naive Bayes: 0.727986539540101\n",
            "Modelo Àrvore de Decisão: 0.7981012658227848\n"
          ]
        }
      ]
    },
    {
      "cell_type": "code",
      "source": [],
      "metadata": {
        "id": "ShJgjD9EIXlF"
      },
      "execution_count": null,
      "outputs": []
    }
  ]
}